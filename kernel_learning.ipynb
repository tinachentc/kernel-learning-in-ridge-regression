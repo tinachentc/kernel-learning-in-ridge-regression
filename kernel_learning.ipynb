{
  "nbformat": 4,
  "nbformat_minor": 0,
  "metadata": {
    "colab": {
      "provenance": [],
      "authorship_tag": "ABX9TyOynIA7DOgzF8bvpESowjY5",
      "include_colab_link": true
    },
    "kernelspec": {
      "name": "python3",
      "display_name": "Python 3"
    },
    "language_info": {
      "name": "python"
    }
  },
  "cells": [
    {
      "cell_type": "markdown",
      "metadata": {
        "id": "view-in-github",
        "colab_type": "text"
      },
      "source": [
        "<a href=\"https://colab.research.google.com/github/tinachentc/kernel-learning-in-ridge-regression/blob/master/kernel_learning.ipynb\" target=\"_parent\"><img src=\"https://colab.research.google.com/assets/colab-badge.svg\" alt=\"Open In Colab\"/></a>"
      ]
    },
    {
      "cell_type": "markdown",
      "source": [
        "# Kernel Learning in Ridge Regression Example\n",
        "\n",
        "The following code demonstrates low-rankness of the solution matrix $\\Sigma$ in a variant of kernel ridge regression.\n",
        "\n",
        "<!-- $$\\mathop{\\rm minimize}_{f, \\gamma, \\Sigma} ~~~\\frac{1}{2} \\mathbb{E}_n \\left[(Y - f(X) - \\gamma)^2\\right] + \\frac{\\lambda}{2} \\Vert f\\Vert _{\\mathcal{H}_\\Sigma}^2 ~~~ \\mathop{\\rm subject\\ to}  ~~~~\\Sigma \\succeq 0. $$\n",
        "This RKHS, denoted as $\\mathcal{H}_\\Sigma$, utilizes a kernel\n",
        "$$(x,x') \\mapsto k_\\Sigma(x, x')  = \\phi(\\Vert x-x'\\Vert^2_\\Sigma)$$\n",
        "where $\\Vert x-x'\\Vert_\\Sigma = \\sqrt{(x-x')^T \\Sigma (x-x')}$, and $\\phi$ is a real-valued function so that $k_\\Sigma$ is a kernel for every positive semidefinite $\\Sigma$.  -->\n",
        " <!-- where $\\phi(z) = \\exp(-z)$ -->\n",
        "Gaussian kernel is used in this example. For simulation setting, the feature vector $X\\sim N(0,I)$, and the response $Y=f(X)+\\epsilon$, where $f(x)=x_1 + x_2 + x_3$ and $\\epsilon\\sim N(0,\\sigma^2)$.\n",
        "\n",
        "For more details, please refer to our paper:\n",
        "[Kernel Learning in Ridge Regression “Automatically” Yields Exact Low Rank Solution](https://arxiv.org/abs/2310.11736).\n"
      ],
      "metadata": {
        "id": "_9FvwmqZwSmd"
      }
    },
    {
      "cell_type": "code",
      "execution_count": 14,
      "metadata": {
        "id": "x0m5mbqrCuCL"
      },
      "outputs": [],
      "source": [
        "import torch\n",
        "import numpy as np\n",
        "from scipy.linalg import eigh\n",
        "from numpy.linalg import solve, inv, norm\n",
        "from tqdm import tqdm\n",
        "from sklearn.metrics import accuracy_score\n",
        "\n",
        "import pandas as pd\n",
        "import argparse"
      ]
    },
    {
      "cell_type": "markdown",
      "source": [
        "## Set Arguments"
      ],
      "metadata": {
        "id": "qvrv2FKo0lPX"
      }
    },
    {
      "cell_type": "code",
      "source": [
        "# set simulation arguments\n",
        "seed = 1 #seed\n",
        "n = 300 #sample size\n",
        "d = 50 #sample dimension\n",
        "e = 0.1 #noise size\n",
        "rho = 0. #sample correlation\n",
        "\n",
        "# set model arguments\n",
        "lam = 0.1 #ridge regularization parameter\n",
        "\n",
        "# set optimization arguments\n",
        "iters = 2000 #maximum number of epoches\n",
        "lr = 0.1 #initial learning rate\n",
        "alpha = 0.001 #Armijo parameter\n",
        "beta = 0.5 #Armijo parameter\n",
        "tol = 0.001 #tolerance"
      ],
      "metadata": {
        "id": "FfdWgqnbz5IB"
      },
      "execution_count": null,
      "outputs": []
    },
    {
      "cell_type": "code",
      "source": [
        "def euclidean_distances_M(samples, centers, M, squared=True):\n",
        "\n",
        "    samples_norm = (samples @ M)  * samples\n",
        "    samples_norm = torch.sum(samples_norm, dim=1, keepdim=True)\n",
        "\n",
        "    if samples is centers:\n",
        "        centers_norm = samples_norm\n",
        "    else:\n",
        "        centers_norm = (centers @ M) * centers\n",
        "        centers_norm = torch.sum(centers_norm, dim=1, keepdim=True)\n",
        "\n",
        "    centers_norm = torch.reshape(centers_norm, (1, -1))\n",
        "\n",
        "    distances = samples.mm(M @ torch.t(centers))\n",
        "    distances.mul_(-2)\n",
        "    distances.add_(samples_norm)\n",
        "    distances.add_(centers_norm)\n",
        "    if not squared:\n",
        "        distances.clamp_(min=0)\n",
        "        distances.sqrt_()\n",
        "\n",
        "    return distances\n",
        "\n",
        "def gaussian_M(samples, centers, bandwidth, M):\n",
        "    assert bandwidth > 0\n",
        "    kernel_mat = euclidean_distances_M(samples, centers, M)\n",
        "    kernel_mat.clamp_(min=0)\n",
        "    gamma = 1. / bandwidth\n",
        "    kernel_mat.mul_(-gamma)\n",
        "    kernel_mat.exp_()\n",
        "    return kernel_mat"
      ],
      "metadata": {
        "id": "GFANZ5XEcbVI"
      },
      "execution_count": 15,
      "outputs": []
    },
    {
      "cell_type": "code",
      "source": [
        "def get_grads(reg, X, Y, L, P, batch_size, unfold=0):\n",
        "    d, _ = P.shape\n",
        "    n, c = Y.shape\n",
        "    batches_X = torch.split(X, batch_size)\n",
        "    batches_Y = torch.split(Y, batch_size)\n",
        "    G = torch.zeros(d, d)\n",
        "    for i in tqdm(range(len(batches_X))):\n",
        "        x = batches_X[i]\n",
        "        y = batches_Y[i]\n",
        "        m, _ = x.shape\n",
        "        K = gaussian_M(x, x, L, P)\n",
        "\n",
        "        # calculate alpha and diff\n",
        "        proj = torch.eye(m)-torch.ones((m,m))/m\n",
        "        a = solve(proj@K + reg * np.eye(m), proj@y)\n",
        "        a = torch.from_numpy(a).float()\n",
        "        diff = x.unsqueeze(1) - x.unsqueeze(0)\n",
        "\n",
        "        # separate unfold cases\n",
        "        if unfold == 0:\n",
        "            res = torch.einsum('ijk,ijl->ijkl', diff, diff)\n",
        "            C = torch.mul(res, K.view(m,m,1,1))\n",
        "            del res\n",
        "            G0 = torch.tensordot(a, C, dims=([0], [0]))\n",
        "            del C\n",
        "            G += torch.sum(torch.tensordot(torch.sum(G0, dim=0), a, dims=([0], [0])), dim=2)\n",
        "            del G0\n",
        "\n",
        "        elif unfold == 1:\n",
        "            for j in range(d):\n",
        "                resj = torch.einsum('ijk,ijl->ijkl', diff, diff[:, :, j:(j + 1)]).squeeze()\n",
        "                Cj = torch.mul(resj, K.view(m,m,1))\n",
        "                del resj\n",
        "                Gj = torch.tensordot(a, Cj, dims=([0], [0]))\n",
        "                del Cj\n",
        "                G[j] += torch.sum(torch.tensordot(torch.sum(Gj, dim=0), a, dims=([0], [0])), dim=1)\n",
        "                del Gj\n",
        "\n",
        "        else:\n",
        "            for j in range(d):\n",
        "                for k in range(d):\n",
        "                    resjk = torch.einsum('ijk,ijl->ijkl', diff[:, :, j:(j + 1)], diff[:, :, k:(k + 1)]).squeeze()\n",
        "                    Cjk = torch.mul(resjk, K)\n",
        "                    del resjk\n",
        "                    Gjk = torch.tensordot(a, Cjk, dims=([0], [0]))\n",
        "                    G[j,k] += torch.sum(torch.tensordot(torch.sum(Gjk, dim=0), a, dims=([0], [0])), dim=0)\n",
        "                    del Gjk\n",
        "\n",
        "    G *= reg/n/L\n",
        "    G = G.numpy()\n",
        "    return G\n",
        "\n",
        "def trainSig(X_train, y_train, X_test, y_test, M, d0,\n",
        "        iters, batch_size, reg, lr0,\n",
        "        alpha, beta, tol, X_val=None, y_val=None, classification=0, unfold=0):\n",
        "    L = 1\n",
        "    n, d = X_train.shape\n",
        "    mm, d = X_test.shape\n",
        "    if X_val is not None and y_val is not None:\n",
        "        m, d = X_val.shape\n",
        "\n",
        "    U = np.eye(d, dtype='float32')\n",
        "    obj_seq = np.zeros(iters+1)\n",
        "    err_seq = np.zeros(iters+1); terr_seq = np.zeros(iters+1)\n",
        "    rank_seq = np.zeros(iters+1)\n",
        "\n",
        "    proj = torch.eye(n) - torch.ones((n, n)) / n\n",
        "\n",
        "\n",
        "    i = 0\n",
        "    # rank\n",
        "    rank_seq[i] = d0\n",
        "\n",
        "    # training err\n",
        "    K_train = gaussian_M(X_train, X_train, L, torch.from_numpy(M)).numpy()\n",
        "    sol = solve(proj @ K_train + reg * np.eye(n), proj @ y_train).T\n",
        "    preds0 = (sol @ K_train).T\n",
        "    csol = np.mean(y_train.numpy() - preds0)\n",
        "    preds = preds0 + np.ones((n, 1)) * csol\n",
        "    terr_seq[i] = np.sqrt(np.mean(np.square(preds - y_train.numpy())))\n",
        "    print(\"Round \" + str(i) + \" Train RMSE: \", terr_seq[i])\n",
        "\n",
        "    # validation err\n",
        "    if X_val is not None and y_val is not None:\n",
        "        K_val = gaussian_M(X_train, X_val, L, torch.from_numpy(M)).numpy()\n",
        "        preds = (sol @ K_val).T + np.ones((m, 1)) * csol\n",
        "        if classification:\n",
        "            err_seq[i] = 1. - accuracy_score(preds > 0.5, y_val.numpy())\n",
        "            print(\"Round \" + str(i) + \" Val Acc: \", 1. - err_seq[i])\n",
        "        else:\n",
        "            err_seq[i] = np.sqrt(np.mean(np.square(preds - y_val.numpy())))\n",
        "            print(\"Round \" + str(i) + \" Val RMSE: \", err_seq[i])\n",
        "\n",
        "    # objective function value\n",
        "    obj = sol @ (K_train + reg * np.eye(n)) @ sol.T\n",
        "    obj_seq[i] = obj[0, 0] * reg / n / 2\n",
        "    print(\"Round \" + str(i) + \" Obj: \", obj_seq[i])\n",
        "\n",
        "\n",
        "    for i in range(iters):\n",
        "        # shuffle and calculate gradient\n",
        "        indices = torch.randperm(X_train.shape[0])\n",
        "        G = get_grads(reg, X_train[indices], y_train[indices], L, torch.from_numpy(M), batch_size=batch_size, unfold=unfold).astype('float32')\n",
        "\n",
        "        # PGD with Armijo rule\n",
        "        lr = lr0\n",
        "        M0 = M - lr * G\n",
        "        D, V = eigh(M0)\n",
        "        if sum(D < 0) > 0:\n",
        "            D[D < 0] = 0\n",
        "            M0 = V@np.diag(D)@inv(V)\n",
        "        K_train_upd = gaussian_M(X_train, X_train, L, torch.from_numpy(M0)).numpy()\n",
        "        sol_upd = solve(proj@K_train_upd + reg * np.eye(n), proj@y_train).T\n",
        "        obj_upd = sol_upd @ (K_train_upd + reg * np.eye(n)) @ sol_upd.T\n",
        "        f_upd = obj_upd[0,0]*reg/n/2\n",
        "        Gp = U@U.T@G@U@U.T\n",
        "        while f_upd > obj_seq[i] - alpha * lr * np.trace(Gp.T@Gp):\n",
        "           lr *= beta\n",
        "           M0 = M - lr * G\n",
        "           D, V = eigh(M0)\n",
        "           if sum(D < 0) > 0:\n",
        "               D[D < 0] = 0\n",
        "               M0 = V @ np.diag(D) @ inv(V)\n",
        "           K_train_upd = gaussian_M(X_train, X_train, L, torch.from_numpy(M0)).numpy()\n",
        "           sol_upd = solve(proj@K_train_upd + reg * np.eye(n), proj@y_train).T\n",
        "           obj_upd = sol_upd @ (K_train_upd + reg * np.eye(n)) @ sol_upd.T\n",
        "           f_upd = obj_upd[0,0]*reg/n/2\n",
        "           if lr < 1e-15:\n",
        "               lr = 0.\n",
        "               break\n",
        "           print(lr)\n",
        "\n",
        "        print(norm(M-M0, 'fro')/lr)\n",
        "        if lr == 0 or norm(M-M0, 'fro')/lr < tol:\n",
        "            obj_seq[i+1] = obj_seq[i]\n",
        "            terr_seq[i+1] = terr_seq[i]\n",
        "            err_seq[i+1] = err_seq[i]\n",
        "            rank_seq[i+1] = rank_seq[i]\n",
        "            break\n",
        "        else:\n",
        "            M = M0\n",
        "        U = V@np.diag(np.sqrt(D))\n",
        "        U = U[:,D>0]\n",
        "        print(D)\n",
        "\n",
        "        # rank\n",
        "        rank_seq[i+1] = sum(D > 0)\n",
        "\n",
        "        # training err\n",
        "        K_train = gaussian_M(X_train, X_train, L, torch.from_numpy(M)).numpy()\n",
        "        sol = solve(proj @ K_train + reg * np.eye(n), proj @ y_train).T\n",
        "        preds0 = (sol @ K_train).T\n",
        "        csol = np.mean(y_train.numpy() - preds0)\n",
        "        preds = preds0 + np.ones((n, 1)) * csol\n",
        "        terr_seq[i+1] = np.sqrt(np.mean(np.square(preds - y_train.numpy())))\n",
        "        print(\"Round \" + str(i+1) + \" Train RMSE: \", terr_seq[i+1])\n",
        "\n",
        "        # validation err\n",
        "        if X_val is not None and y_val is not None:\n",
        "            K_val = gaussian_M(X_train, X_val, L, torch.from_numpy(M)).numpy()\n",
        "            preds = (sol @ K_val).T + np.ones((m, 1)) * csol\n",
        "            if classification:\n",
        "                err_seq[i+1] = 1. - accuracy_score(preds>0.5, y_val.numpy())\n",
        "                print(\"Round \" + str(i+1) + \" Val Acc: \", 1. - err_seq[i+1])\n",
        "            else:\n",
        "                err_seq[i+1] = np.sqrt(np.mean(np.square(preds - y_val.numpy())))\n",
        "                print(\"Round \" + str(i+1) + \" Val RMSE: \", err_seq[i+1])\n",
        "\n",
        "        # objective function value\n",
        "        obj = sol @ (K_train + reg * np.eye(n)) @ sol.T\n",
        "        obj_seq[i+1] = obj[0, 0] * reg / n / 2\n",
        "        print(\"Round \" + str(i+1) + \" Obj: \", obj_seq[i+1])\n",
        "\n",
        "    # test err\n",
        "    K_test = gaussian_M(X_train, X_test, L, torch.from_numpy(M)).numpy()\n",
        "    preds = (sol @ K_test).T + np.ones((mm, 1)) * csol\n",
        "    if classification:\n",
        "        test_err = 1. - accuracy_score(preds > 0.5, y_test.numpy())\n",
        "        print(\"Test Acc: \", 1. - test_err)\n",
        "    else:\n",
        "        test_err = np.sqrt(np.mean(np.square(preds - y_test.numpy())))\n",
        "        print(\"Test RMSE: \", test_err)\n",
        "\n",
        "    return test_err, M, obj_seq[0:i+2], terr_seq[0:i+2], err_seq[0:i+2], rank_seq[0:i+2]\n"
      ],
      "metadata": {
        "id": "kTqJsQTRdWg4"
      },
      "execution_count": 16,
      "outputs": []
    },
    {
      "cell_type": "markdown",
      "source": [
        "## Generate Simulation"
      ],
      "metadata": {
        "id": "EcM6QgWC0U9n"
      }
    },
    {
      "cell_type": "code",
      "source": [
        "# generate noise\n",
        "np.random.seed(seed)\n",
        "u = e*np.random.normal(0, 1, size=n)\n",
        "\n",
        "# generate x\n",
        "np.random.seed(seed * 200)\n",
        "s = np.zeros((d, d))\n",
        "for i in range(d):\n",
        "  for j in range(d):\n",
        "    s[i][j] = rho ** abs(i - j)\n",
        "X = np.random.multivariate_normal(np.zeros(d), s, size=n)\n",
        "\n",
        "# generate y\n",
        "y0 = X[:, 0] + X[:, 1] + X[:, 2]\n",
        "y = y0 + u\n",
        "\n",
        "X = torch.from_numpy(X).float()\n",
        "y = torch.from_numpy(y.reshape(n, 1)).float()"
      ],
      "metadata": {
        "id": "R8MXKH2Edcrx"
      },
      "execution_count": 20,
      "outputs": []
    },
    {
      "cell_type": "markdown",
      "source": [
        "## Run Model"
      ],
      "metadata": {
        "id": "9sjVAOyF0bap"
      }
    },
    {
      "cell_type": "code",
      "source": [
        "terr, M, obj_seq, tval_seq, val_seq, rank_seq = trainSig(X_train=X, y_train=y, X_test=X, y_test=y,\n",
        "                                iters=iters, batch_size=n, reg=n*lam, lr0=lr,\n",
        "                                M=np.eye(d, dtype='float32')/d, d0=d, alpha=alpha, beta=beta, tol=tol)\n"
      ],
      "metadata": {
        "colab": {
          "base_uri": "https://localhost:8080/"
        },
        "id": "g7D52XGLlzBZ",
        "outputId": "5037f560-9e88-4889-e4b4-93fd4ea6ece0"
      },
      "execution_count": 22,
      "outputs": [
        {
          "output_type": "stream",
          "name": "stdout",
          "text": [
            "Round 0 Train RMSE:  1.4828905056443125\n",
            "Round 0 Obj:  1.1846454985416883\n"
          ]
        },
        {
          "output_type": "stream",
          "name": "stderr",
          "text": [
            "100%|██████████| 1/1 [00:02<00:00,  2.07s/it]\n"
          ]
        },
        {
          "output_type": "stream",
          "name": "stdout",
          "text": [
            "5.695628523826599\n",
            "[0.0000000e+00 0.0000000e+00 0.0000000e+00 0.0000000e+00 0.0000000e+00\n",
            " 0.0000000e+00 0.0000000e+00 0.0000000e+00 0.0000000e+00 0.0000000e+00\n",
            " 0.0000000e+00 0.0000000e+00 0.0000000e+00 0.0000000e+00 0.0000000e+00\n",
            " 0.0000000e+00 0.0000000e+00 0.0000000e+00 0.0000000e+00 2.6300550e-04\n",
            " 9.2201307e-04 1.8669665e-03 2.4822578e-03 3.3013411e-03 4.7166534e-03\n",
            " 5.2072322e-03 5.3243246e-03 6.2541179e-03 6.8465844e-03 7.7886470e-03\n",
            " 8.3205774e-03 8.6239614e-03 9.4055049e-03 1.0273207e-02 1.0759436e-02\n",
            " 1.1001371e-02 1.1268206e-02 1.2041938e-02 1.2522280e-02 1.3041407e-02\n",
            " 1.3890173e-02 1.4279187e-02 1.4537577e-02 1.4970779e-02 1.5954837e-02\n",
            " 1.6076745e-02 1.6733479e-02 1.6991656e-02 1.7547559e-02 5.7936507e-01]\n",
            "Round 1 Train RMSE:  0.921951669948157\n",
            "Round 1 Obj:  0.6716394053420748\n"
          ]
        },
        {
          "output_type": "stream",
          "name": "stderr",
          "text": [
            "100%|██████████| 1/1 [00:01<00:00,  1.61s/it]\n"
          ]
        },
        {
          "output_type": "stream",
          "name": "stdout",
          "text": [
            "1.0535553097724915\n",
            "[0.         0.         0.         0.         0.         0.\n",
            " 0.         0.         0.         0.         0.         0.\n",
            " 0.         0.         0.         0.         0.         0.\n",
            " 0.         0.         0.         0.         0.         0.\n",
            " 0.         0.         0.         0.         0.         0.\n",
            " 0.         0.         0.         0.         0.         0.\n",
            " 0.         0.         0.         0.         0.         0.\n",
            " 0.         0.         0.00213769 0.00352362 0.0071997  0.01304582\n",
            " 0.03037781 0.56787074]\n",
            "Round 2 Train RMSE:  0.8221861213962057\n",
            "Round 2 Obj:  0.5787913918289832\n"
          ]
        },
        {
          "output_type": "stream",
          "name": "stderr",
          "text": [
            "100%|██████████| 1/1 [00:01<00:00,  1.81s/it]\n"
          ]
        },
        {
          "output_type": "stream",
          "name": "stdout",
          "text": [
            "0.6893491744995117\n",
            "[0.         0.         0.         0.         0.         0.\n",
            " 0.         0.         0.         0.         0.         0.\n",
            " 0.         0.         0.         0.         0.         0.\n",
            " 0.         0.         0.         0.         0.         0.\n",
            " 0.         0.         0.         0.         0.         0.\n",
            " 0.         0.         0.         0.         0.         0.\n",
            " 0.         0.         0.         0.         0.         0.\n",
            " 0.         0.         0.         0.         0.         0.00400189\n",
            " 0.02644253 0.5555016 ]\n",
            "Round 3 Train RMSE:  0.7879269861280338\n",
            "Round 3 Obj:  0.552053564670883\n"
          ]
        },
        {
          "output_type": "stream",
          "name": "stderr",
          "text": [
            "100%|██████████| 1/1 [00:02<00:00,  2.14s/it]\n"
          ]
        },
        {
          "output_type": "stream",
          "name": "stdout",
          "text": [
            "0.5572584643959999\n",
            "[0.        0.        0.        0.        0.        0.        0.\n",
            " 0.        0.        0.        0.        0.        0.        0.\n",
            " 0.        0.        0.        0.        0.        0.        0.\n",
            " 0.        0.        0.        0.        0.        0.        0.\n",
            " 0.        0.        0.        0.        0.        0.        0.\n",
            " 0.        0.        0.        0.        0.        0.        0.\n",
            " 0.        0.        0.        0.        0.        0.        0.0188708\n",
            " 0.5432782]\n",
            "Round 4 Train RMSE:  0.765821962199492\n",
            "Round 4 Obj:  0.5352445277368993\n"
          ]
        },
        {
          "output_type": "stream",
          "name": "stderr",
          "text": [
            "100%|██████████| 1/1 [00:01<00:00,  1.60s/it]\n"
          ]
        },
        {
          "output_type": "stream",
          "name": "stdout",
          "text": [
            "0.42609628289937973\n",
            "[0.         0.         0.         0.         0.         0.\n",
            " 0.         0.         0.         0.         0.         0.\n",
            " 0.         0.         0.         0.         0.         0.\n",
            " 0.         0.         0.         0.         0.         0.\n",
            " 0.         0.         0.         0.         0.         0.\n",
            " 0.         0.         0.         0.         0.         0.\n",
            " 0.         0.         0.         0.         0.         0.\n",
            " 0.         0.         0.         0.         0.         0.\n",
            " 0.01092273 0.531342  ]\n",
            "Round 5 Train RMSE:  0.752994980494537\n",
            "Round 5 Obj:  0.5258072092598406\n"
          ]
        },
        {
          "output_type": "stream",
          "name": "stderr",
          "text": [
            "100%|██████████| 1/1 [00:01<00:00,  1.65s/it]\n"
          ]
        },
        {
          "output_type": "stream",
          "name": "stdout",
          "text": [
            "0.3211566060781479\n",
            "[0.         0.         0.         0.         0.         0.\n",
            " 0.         0.         0.         0.         0.         0.\n",
            " 0.         0.         0.         0.         0.         0.\n",
            " 0.         0.         0.         0.         0.         0.\n",
            " 0.         0.         0.         0.         0.         0.\n",
            " 0.         0.         0.         0.         0.         0.\n",
            " 0.         0.         0.         0.         0.         0.\n",
            " 0.         0.         0.         0.         0.         0.\n",
            " 0.00270954 0.51998645]\n",
            "Round 6 Train RMSE:  0.746111623107474\n",
            "Round 6 Obj:  0.5206343499205844\n"
          ]
        },
        {
          "output_type": "stream",
          "name": "stderr",
          "text": [
            "100%|██████████| 1/1 [00:01<00:00,  1.62s/it]\n"
          ]
        },
        {
          "output_type": "stream",
          "name": "stdout",
          "text": [
            "0.2372986078262329\n",
            "[0.         0.         0.         0.         0.         0.\n",
            " 0.         0.         0.         0.         0.         0.\n",
            " 0.         0.         0.         0.         0.         0.\n",
            " 0.         0.         0.         0.         0.         0.\n",
            " 0.         0.         0.         0.         0.         0.\n",
            " 0.         0.         0.         0.         0.         0.\n",
            " 0.         0.         0.         0.         0.         0.\n",
            " 0.         0.         0.         0.         0.         0.\n",
            " 0.         0.50934803]\n",
            "Round 7 Train RMSE:  0.7415303208249977\n",
            "Round 7 Obj:  0.517846356484317\n"
          ]
        },
        {
          "output_type": "stream",
          "name": "stderr",
          "text": [
            "100%|██████████| 1/1 [00:01<00:00,  1.57s/it]\n"
          ]
        },
        {
          "output_type": "stream",
          "name": "stdout",
          "text": [
            "0.17857715487480164\n",
            "[0.         0.         0.         0.         0.         0.\n",
            " 0.         0.         0.         0.         0.         0.\n",
            " 0.         0.         0.         0.         0.         0.\n",
            " 0.         0.         0.         0.         0.         0.\n",
            " 0.         0.         0.         0.         0.         0.\n",
            " 0.         0.         0.         0.         0.         0.\n",
            " 0.         0.         0.         0.         0.         0.\n",
            " 0.         0.         0.         0.         0.         0.\n",
            " 0.         0.49935812]\n",
            "Round 8 Train RMSE:  0.7384463775757041\n",
            "Round 8 Obj:  0.5163349105007569\n"
          ]
        },
        {
          "output_type": "stream",
          "name": "stderr",
          "text": [
            "100%|██████████| 1/1 [00:01<00:00,  1.60s/it]\n"
          ]
        },
        {
          "output_type": "stream",
          "name": "stdout",
          "text": [
            "0.1401780266314745\n",
            "[0.         0.         0.         0.         0.         0.\n",
            " 0.         0.         0.         0.         0.         0.\n",
            " 0.         0.         0.         0.         0.         0.\n",
            " 0.         0.         0.         0.         0.         0.\n",
            " 0.         0.         0.         0.         0.         0.\n",
            " 0.         0.         0.         0.         0.         0.\n",
            " 0.         0.         0.         0.         0.         0.\n",
            " 0.         0.         0.         0.         0.         0.\n",
            " 0.         0.48994568]\n",
            "Round 9 Train RMSE:  0.736328440626294\n",
            "Round 9 Obj:  0.5153905703540409\n"
          ]
        },
        {
          "output_type": "stream",
          "name": "stderr",
          "text": [
            "100%|██████████| 1/1 [00:01<00:00,  1.61s/it]\n"
          ]
        },
        {
          "output_type": "stream",
          "name": "stdout",
          "text": [
            "0.11657924391329288\n",
            "[0.         0.         0.         0.         0.         0.\n",
            " 0.         0.         0.         0.         0.         0.\n",
            " 0.         0.         0.         0.         0.         0.\n",
            " 0.         0.         0.         0.         0.         0.\n",
            " 0.         0.         0.         0.         0.         0.\n",
            " 0.         0.         0.         0.         0.         0.\n",
            " 0.         0.         0.         0.         0.         0.\n",
            " 0.         0.         0.         0.         0.         0.\n",
            " 0.         0.48105308]\n",
            "Round 10 Train RMSE:  0.7347106222053921\n",
            "Round 10 Obj:  0.5147319483924304\n"
          ]
        },
        {
          "output_type": "stream",
          "name": "stderr",
          "text": [
            "100%|██████████| 1/1 [00:02<00:00,  2.23s/it]\n"
          ]
        },
        {
          "output_type": "stream",
          "name": "stdout",
          "text": [
            "0.10095560923218727\n",
            "[0.         0.         0.         0.         0.         0.\n",
            " 0.         0.         0.         0.         0.         0.\n",
            " 0.         0.         0.         0.         0.         0.\n",
            " 0.         0.         0.         0.         0.         0.\n",
            " 0.         0.         0.         0.         0.         0.\n",
            " 0.         0.         0.         0.         0.         0.\n",
            " 0.         0.         0.         0.         0.         0.\n",
            " 0.         0.         0.         0.         0.         0.\n",
            " 0.         0.47263852]\n",
            "Round 11 Train RMSE:  0.7333900948643589\n",
            "Round 11 Obj:  0.5142361388547492\n"
          ]
        },
        {
          "output_type": "stream",
          "name": "stderr",
          "text": [
            "100%|██████████| 1/1 [00:01<00:00,  1.81s/it]\n"
          ]
        },
        {
          "output_type": "stream",
          "name": "stdout",
          "text": [
            "0.08983426727354527\n",
            "[0.        0.        0.        0.        0.        0.        0.\n",
            " 0.        0.        0.        0.        0.        0.        0.\n",
            " 0.        0.        0.        0.        0.        0.        0.\n",
            " 0.        0.        0.        0.        0.        0.        0.\n",
            " 0.        0.        0.        0.        0.        0.        0.\n",
            " 0.        0.        0.        0.        0.        0.        0.\n",
            " 0.        0.        0.        0.        0.        0.        0.\n",
            " 0.4646782]\n",
            "Round 12 Train RMSE:  0.7322676042304839\n",
            "Round 12 Obj:  0.5138432309063302\n"
          ]
        },
        {
          "output_type": "stream",
          "name": "stderr",
          "text": [
            "100%|██████████| 1/1 [00:01<00:00,  1.63s/it]\n"
          ]
        },
        {
          "output_type": "stream",
          "name": "stdout",
          "text": [
            "0.08137932047247887\n",
            "[0.        0.        0.        0.        0.        0.        0.\n",
            " 0.        0.        0.        0.        0.        0.        0.\n",
            " 0.        0.        0.        0.        0.        0.        0.\n",
            " 0.        0.        0.        0.        0.        0.        0.\n",
            " 0.        0.        0.        0.        0.        0.        0.\n",
            " 0.        0.        0.        0.        0.        0.        0.\n",
            " 0.        0.        0.        0.        0.        0.        0.\n",
            " 0.4571596]\n",
            "Round 13 Train RMSE:  0.7312888234021966\n",
            "Round 13 Obj:  0.5135209492016007\n"
          ]
        },
        {
          "output_type": "stream",
          "name": "stderr",
          "text": [
            "100%|██████████| 1/1 [00:01<00:00,  1.63s/it]\n"
          ]
        },
        {
          "output_type": "stream",
          "name": "stdout",
          "text": [
            "0.07456099614501\n",
            "[0.         0.         0.         0.         0.         0.\n",
            " 0.         0.         0.         0.         0.         0.\n",
            " 0.         0.         0.         0.         0.         0.\n",
            " 0.         0.         0.         0.         0.         0.\n",
            " 0.         0.         0.         0.         0.         0.\n",
            " 0.         0.         0.         0.         0.         0.\n",
            " 0.         0.         0.         0.         0.         0.\n",
            " 0.         0.         0.         0.         0.         0.\n",
            " 0.         0.45007586]\n",
            "Round 14 Train RMSE:  0.7304214897232314\n",
            "Round 14 Obj:  0.5132506864043713\n"
          ]
        },
        {
          "output_type": "stream",
          "name": "stderr",
          "text": [
            "100%|██████████| 1/1 [00:01<00:00,  1.66s/it]\n"
          ]
        },
        {
          "output_type": "stream",
          "name": "stdout",
          "text": [
            "0.06877018138766289\n",
            "[0.         0.         0.         0.         0.         0.\n",
            " 0.         0.         0.         0.         0.         0.\n",
            " 0.         0.         0.         0.         0.         0.\n",
            " 0.         0.         0.         0.         0.         0.\n",
            " 0.         0.         0.         0.         0.         0.\n",
            " 0.         0.         0.         0.         0.         0.\n",
            " 0.         0.         0.         0.         0.         0.\n",
            " 0.         0.         0.         0.         0.         0.\n",
            " 0.         0.44342214]\n",
            "Round 15 Train RMSE:  0.7296450309561314\n",
            "Round 15 Obj:  0.5130211487388556\n"
          ]
        },
        {
          "output_type": "stream",
          "name": "stderr",
          "text": [
            "100%|██████████| 1/1 [00:01<00:00,  1.62s/it]\n"
          ]
        },
        {
          "output_type": "stream",
          "name": "stdout",
          "text": [
            "0.06364154629409313\n",
            "[0.         0.         0.         0.         0.         0.\n",
            " 0.         0.         0.         0.         0.         0.\n",
            " 0.         0.         0.         0.         0.         0.\n",
            " 0.         0.         0.         0.         0.         0.\n",
            " 0.         0.         0.         0.         0.         0.\n",
            " 0.         0.         0.         0.         0.         0.\n",
            " 0.         0.         0.         0.         0.         0.\n",
            " 0.         0.         0.         0.         0.         0.\n",
            " 0.         0.43719304]\n",
            "Round 16 Train RMSE:  0.7289455915373764\n",
            "Round 16 Obj:  0.5128248901257767\n"
          ]
        },
        {
          "output_type": "stream",
          "name": "stderr",
          "text": [
            "100%|██████████| 1/1 [00:01<00:00,  1.59s/it]\n"
          ]
        },
        {
          "output_type": "stream",
          "name": "stdout",
          "text": [
            "0.05894666537642479\n",
            "[0.         0.         0.         0.         0.         0.\n",
            " 0.         0.         0.         0.         0.         0.\n",
            " 0.         0.         0.         0.         0.         0.\n",
            " 0.         0.         0.         0.         0.         0.\n",
            " 0.         0.         0.         0.         0.         0.\n",
            " 0.         0.         0.         0.         0.         0.\n",
            " 0.         0.         0.         0.         0.         0.\n",
            " 0.         0.         0.         0.         0.         0.\n",
            " 0.         0.43138254]\n",
            "Round 17 Train RMSE:  0.7283134057159331\n",
            "Round 17 Obj:  0.5126568486589959\n"
          ]
        },
        {
          "output_type": "stream",
          "name": "stderr",
          "text": [
            "100%|██████████| 1/1 [00:02<00:00,  2.15s/it]\n"
          ]
        },
        {
          "output_type": "stream",
          "name": "stdout",
          "text": [
            "0.05455736070871353\n",
            "[0.        0.        0.        0.        0.        0.        0.\n",
            " 0.        0.        0.        0.        0.        0.        0.\n",
            " 0.        0.        0.        0.        0.        0.        0.\n",
            " 0.        0.        0.        0.        0.        0.        0.\n",
            " 0.        0.        0.        0.        0.        0.        0.\n",
            " 0.        0.        0.        0.        0.        0.        0.\n",
            " 0.        0.        0.        0.        0.        0.        0.\n",
            " 0.4259824]\n",
            "Round 18 Train RMSE:  0.7277408647570068\n",
            "Round 18 Obj:  0.5125131127481407\n"
          ]
        },
        {
          "output_type": "stream",
          "name": "stderr",
          "text": [
            "100%|██████████| 1/1 [00:01<00:00,  1.77s/it]\n"
          ]
        },
        {
          "output_type": "stream",
          "name": "stdout",
          "text": [
            "0.05040284711867571\n",
            "[0.        0.        0.        0.        0.        0.        0.\n",
            " 0.        0.        0.        0.        0.        0.        0.\n",
            " 0.        0.        0.        0.        0.        0.        0.\n",
            " 0.        0.        0.        0.        0.        0.        0.\n",
            " 0.        0.        0.        0.        0.        0.        0.\n",
            " 0.        0.        0.        0.        0.        0.        0.\n",
            " 0.        0.        0.        0.        0.        0.        0.\n",
            " 0.4209821]\n",
            "Round 19 Train RMSE:  0.7272222083832486\n",
            "Round 19 Obj:  0.5123906343574489\n"
          ]
        },
        {
          "output_type": "stream",
          "name": "stderr",
          "text": [
            "100%|██████████| 1/1 [00:01<00:00,  1.60s/it]\n"
          ]
        },
        {
          "output_type": "stream",
          "name": "stdout",
          "text": [
            "0.04644338507205248\n",
            "[0.        0.        0.        0.        0.        0.        0.\n",
            " 0.        0.        0.        0.        0.        0.        0.\n",
            " 0.        0.        0.        0.        0.        0.        0.\n",
            " 0.        0.        0.        0.        0.        0.        0.\n",
            " 0.        0.        0.        0.        0.        0.        0.\n",
            " 0.        0.        0.        0.        0.        0.        0.\n",
            " 0.        0.        0.        0.        0.        0.        0.\n",
            " 0.4163694]\n",
            "Round 20 Train RMSE:  0.7267528000463723\n",
            "Round 20 Obj:  0.5122868839483238\n"
          ]
        },
        {
          "output_type": "stream",
          "name": "stderr",
          "text": [
            "100%|██████████| 1/1 [00:01<00:00,  1.58s/it]\n"
          ]
        },
        {
          "output_type": "stream",
          "name": "stdout",
          "text": [
            "0.04266676492989063\n",
            "[0.         0.         0.         0.         0.         0.\n",
            " 0.         0.         0.         0.         0.         0.\n",
            " 0.         0.         0.         0.         0.         0.\n",
            " 0.         0.         0.         0.         0.         0.\n",
            " 0.         0.         0.         0.         0.         0.\n",
            " 0.         0.         0.         0.         0.         0.\n",
            " 0.         0.         0.         0.         0.         0.\n",
            " 0.         0.         0.         0.         0.         0.\n",
            " 0.         0.41212985]\n",
            "Round 21 Train RMSE:  0.7263282685198303\n",
            "Round 21 Obj:  0.5121993966928495\n"
          ]
        },
        {
          "output_type": "stream",
          "name": "stderr",
          "text": [
            "100%|██████████| 1/1 [00:01<00:00,  1.62s/it]\n"
          ]
        },
        {
          "output_type": "stream",
          "name": "stdout",
          "text": [
            "0.03907232545316219\n",
            "[0.        0.        0.        0.        0.        0.        0.\n",
            " 0.        0.        0.        0.        0.        0.        0.\n",
            " 0.        0.        0.        0.        0.        0.        0.\n",
            " 0.        0.        0.        0.        0.        0.        0.\n",
            " 0.        0.        0.        0.        0.        0.        0.\n",
            " 0.        0.        0.        0.        0.        0.        0.\n",
            " 0.        0.        0.        0.        0.        0.        0.\n",
            " 0.4082472]\n",
            "Round 22 Train RMSE:  0.7259449526242107\n",
            "Round 22 Obj:  0.5121261890800475\n"
          ]
        },
        {
          "output_type": "stream",
          "name": "stderr",
          "text": [
            "100%|██████████| 1/1 [00:01<00:00,  1.61s/it]\n"
          ]
        },
        {
          "output_type": "stream",
          "name": "stdout",
          "text": [
            "0.03566192463040352\n",
            "[0.         0.         0.         0.         0.         0.\n",
            " 0.         0.         0.         0.         0.         0.\n",
            " 0.         0.         0.         0.         0.         0.\n",
            " 0.         0.         0.         0.         0.         0.\n",
            " 0.         0.         0.         0.         0.         0.\n",
            " 0.         0.         0.         0.         0.         0.\n",
            " 0.         0.         0.         0.         0.         0.\n",
            " 0.         0.         0.         0.         0.         0.\n",
            " 0.         0.40470392]\n",
            "Round 23 Train RMSE:  0.7255995517308184\n",
            "Round 23 Obj:  0.5120652987533364\n"
          ]
        },
        {
          "output_type": "stream",
          "name": "stderr",
          "text": [
            "100%|██████████| 1/1 [00:01<00:00,  1.58s/it]\n"
          ]
        },
        {
          "output_type": "stream",
          "name": "stdout",
          "text": [
            "0.03244207473471761\n",
            "[0.         0.         0.         0.         0.         0.\n",
            " 0.         0.         0.         0.         0.         0.\n",
            " 0.         0.         0.         0.         0.         0.\n",
            " 0.         0.         0.         0.         0.         0.\n",
            " 0.         0.         0.         0.         0.         0.\n",
            " 0.         0.         0.         0.         0.         0.\n",
            " 0.         0.         0.         0.         0.         0.\n",
            " 0.         0.         0.         0.         0.         0.\n",
            " 0.         0.40148127]\n",
            "Round 24 Train RMSE:  0.7252889336506633\n",
            "Round 24 Obj:  0.5120149401163689\n"
          ]
        },
        {
          "output_type": "stream",
          "name": "stderr",
          "text": [
            "100%|██████████| 1/1 [00:01<00:00,  1.94s/it]\n"
          ]
        },
        {
          "output_type": "stream",
          "name": "stdout",
          "text": [
            "0.029420582577586174\n",
            "[0.         0.         0.         0.         0.         0.\n",
            " 0.         0.         0.         0.         0.         0.\n",
            " 0.         0.         0.         0.         0.         0.\n",
            " 0.         0.         0.         0.         0.         0.\n",
            " 0.         0.         0.         0.         0.         0.\n",
            " 0.         0.         0.         0.         0.         0.\n",
            " 0.         0.         0.         0.         0.         0.\n",
            " 0.         0.         0.         0.         0.         0.\n",
            " 0.         0.39855945]\n",
            "Round 25 Train RMSE:  0.7250101044257246\n",
            "Round 25 Obj:  0.5119736010809204\n"
          ]
        },
        {
          "output_type": "stream",
          "name": "stderr",
          "text": [
            "100%|██████████| 1/1 [00:01<00:00,  1.95s/it]\n"
          ]
        },
        {
          "output_type": "stream",
          "name": "stdout",
          "text": [
            "0.026596917305141687\n",
            "[0.         0.         0.         0.         0.         0.\n",
            " 0.         0.         0.         0.         0.         0.\n",
            " 0.         0.         0.         0.         0.         0.\n",
            " 0.         0.         0.         0.         0.         0.\n",
            " 0.         0.         0.         0.         0.         0.\n",
            " 0.         0.         0.         0.         0.         0.\n",
            " 0.         0.         0.         0.         0.         0.\n",
            " 0.         0.         0.         0.         0.         0.\n",
            " 0.         0.39591873]\n",
            "Round 26 Train RMSE:  0.7247604143919929\n",
            "Round 26 Obj:  0.5119398982613188\n"
          ]
        },
        {
          "output_type": "stream",
          "name": "stderr",
          "text": [
            "100%|██████████| 1/1 [00:01<00:00,  1.56s/it]\n"
          ]
        },
        {
          "output_type": "stream",
          "name": "stdout",
          "text": [
            "0.023975782096385956\n",
            "[0.         0.         0.         0.         0.         0.\n",
            " 0.         0.         0.         0.         0.         0.\n",
            " 0.         0.         0.         0.         0.         0.\n",
            " 0.         0.         0.         0.         0.         0.\n",
            " 0.         0.         0.         0.         0.         0.\n",
            " 0.         0.         0.         0.         0.         0.\n",
            " 0.         0.         0.         0.         0.         0.\n",
            " 0.         0.         0.         0.         0.         0.\n",
            " 0.         0.39353877]\n",
            "Round 27 Train RMSE:  0.7245371379347944\n",
            "Round 27 Obj:  0.511912547669087\n"
          ]
        },
        {
          "output_type": "stream",
          "name": "stderr",
          "text": [
            "100%|██████████| 1/1 [00:01<00:00,  1.62s/it]\n"
          ]
        },
        {
          "output_type": "stream",
          "name": "stdout",
          "text": [
            "0.021554373670369387\n",
            "[0.         0.         0.         0.         0.         0.\n",
            " 0.         0.         0.         0.         0.         0.\n",
            " 0.         0.         0.         0.         0.         0.\n",
            " 0.         0.         0.         0.         0.         0.\n",
            " 0.         0.         0.         0.         0.         0.\n",
            " 0.         0.         0.         0.         0.         0.\n",
            " 0.         0.         0.         0.         0.         0.\n",
            " 0.         0.         0.         0.         0.         0.\n",
            " 0.         0.39139962]\n",
            "Round 28 Train RMSE:  0.7243379258239232\n",
            "Round 28 Obj:  0.5118904354146728\n"
          ]
        },
        {
          "output_type": "stream",
          "name": "stderr",
          "text": [
            "100%|██████████| 1/1 [00:01<00:00,  1.65s/it]\n"
          ]
        },
        {
          "output_type": "stream",
          "name": "stdout",
          "text": [
            "0.019330732757225633\n",
            "[0.         0.         0.         0.         0.         0.\n",
            " 0.         0.         0.         0.         0.         0.\n",
            " 0.         0.         0.         0.         0.         0.\n",
            " 0.         0.         0.         0.         0.         0.\n",
            " 0.         0.         0.         0.         0.         0.\n",
            " 0.         0.         0.         0.         0.         0.\n",
            " 0.         0.         0.         0.         0.         0.\n",
            " 0.         0.         0.         0.         0.         0.\n",
            " 0.         0.38948148]\n",
            "Round 29 Train RMSE:  0.7241603749424955\n",
            "Round 29 Obj:  0.5118726673065032\n"
          ]
        },
        {
          "output_type": "stream",
          "name": "stderr",
          "text": [
            "100%|██████████| 1/1 [00:01<00:00,  1.63s/it]\n"
          ]
        },
        {
          "output_type": "stream",
          "name": "stdout",
          "text": [
            "0.017293683486059308\n",
            "[0.         0.         0.         0.         0.         0.\n",
            " 0.         0.         0.         0.         0.         0.\n",
            " 0.         0.         0.         0.         0.         0.\n",
            " 0.         0.         0.         0.         0.         0.\n",
            " 0.         0.         0.         0.         0.         0.\n",
            " 0.         0.         0.         0.         0.         0.\n",
            " 0.         0.         0.         0.         0.         0.\n",
            " 0.         0.         0.         0.         0.         0.\n",
            " 0.         0.38776574]\n",
            "Round 30 Train RMSE:  0.7240026302332125\n",
            "Round 30 Obj:  0.5118584650017503\n"
          ]
        },
        {
          "output_type": "stream",
          "name": "stderr",
          "text": [
            "100%|██████████| 1/1 [00:01<00:00,  1.51s/it]\n"
          ]
        },
        {
          "output_type": "stream",
          "name": "stdout",
          "text": [
            "0.015439927810803056\n",
            "[0.         0.         0.         0.         0.         0.\n",
            " 0.         0.         0.         0.         0.         0.\n",
            " 0.         0.         0.         0.         0.         0.\n",
            " 0.         0.         0.         0.         0.         0.\n",
            " 0.         0.         0.         0.         0.         0.\n",
            " 0.         0.         0.         0.         0.         0.\n",
            " 0.         0.         0.         0.         0.         0.\n",
            " 0.         0.         0.         0.         0.         0.\n",
            " 0.         0.38623407]\n",
            "Round 31 Train RMSE:  0.7238624306427279\n",
            "Round 31 Obj:  0.5118471459517541\n"
          ]
        },
        {
          "output_type": "stream",
          "name": "stderr",
          "text": [
            "100%|██████████| 1/1 [00:01<00:00,  1.77s/it]\n"
          ]
        },
        {
          "output_type": "stream",
          "name": "stdout",
          "text": [
            "0.0137573282700032\n",
            "[0.        0.        0.        0.        0.        0.        0.\n",
            " 0.        0.        0.        0.        0.        0.        0.\n",
            " 0.        0.        0.        0.        0.        0.        0.\n",
            " 0.        0.        0.        0.        0.        0.        0.\n",
            " 0.        0.        0.        0.        0.        0.        0.\n",
            " 0.        0.        0.        0.        0.        0.        0.\n",
            " 0.        0.        0.        0.        0.        0.        0.\n",
            " 0.3848695]\n",
            "Round 32 Train RMSE:  0.7237381642951335\n",
            "Round 32 Obj:  0.5118381796626043\n"
          ]
        },
        {
          "output_type": "stream",
          "name": "stderr",
          "text": [
            "100%|██████████| 1/1 [00:02<00:00,  2.10s/it]\n"
          ]
        },
        {
          "output_type": "stream",
          "name": "stdout",
          "text": [
            "0.012237965129315853\n",
            "[0.        0.        0.        0.        0.        0.        0.\n",
            " 0.        0.        0.        0.        0.        0.        0.\n",
            " 0.        0.        0.        0.        0.        0.        0.\n",
            " 0.        0.        0.        0.        0.        0.        0.\n",
            " 0.        0.        0.        0.        0.        0.        0.\n",
            " 0.        0.        0.        0.        0.        0.        0.\n",
            " 0.        0.        0.        0.        0.        0.        0.\n",
            " 0.3836557]\n",
            "Round 33 Train RMSE:  0.7236281372760572\n",
            "Round 33 Obj:  0.5118311002830289\n"
          ]
        },
        {
          "output_type": "stream",
          "name": "stderr",
          "text": [
            "100%|██████████| 1/1 [00:01<00:00,  1.56s/it]\n"
          ]
        },
        {
          "output_type": "stream",
          "name": "stdout",
          "text": [
            "0.01086818752810359\n",
            "[0.         0.         0.         0.         0.         0.\n",
            " 0.         0.         0.         0.         0.         0.\n",
            " 0.         0.         0.         0.         0.         0.\n",
            " 0.         0.         0.         0.         0.         0.\n",
            " 0.         0.         0.         0.         0.         0.\n",
            " 0.         0.         0.         0.         0.         0.\n",
            " 0.         0.         0.         0.         0.         0.\n",
            " 0.         0.         0.         0.         0.         0.\n",
            " 0.         0.38257787]\n",
            "Round 34 Train RMSE:  0.7235307512499491\n",
            "Round 34 Obj:  0.5118255095547738\n"
          ]
        },
        {
          "output_type": "stream",
          "name": "stderr",
          "text": [
            "100%|██████████| 1/1 [00:01<00:00,  1.55s/it]\n"
          ]
        },
        {
          "output_type": "stream",
          "name": "stdout",
          "text": [
            "0.00963849772233516\n",
            "[0.         0.         0.         0.         0.         0.\n",
            " 0.         0.         0.         0.         0.         0.\n",
            " 0.         0.         0.         0.         0.         0.\n",
            " 0.         0.         0.         0.         0.         0.\n",
            " 0.         0.         0.         0.         0.         0.\n",
            " 0.         0.         0.         0.         0.         0.\n",
            " 0.         0.         0.         0.         0.         0.\n",
            " 0.         0.         0.         0.         0.         0.\n",
            " 0.         0.38162205]\n",
            "Round 35 Train RMSE:  0.7234446914021625\n",
            "Round 35 Obj:  0.5118211286957371\n"
          ]
        },
        {
          "output_type": "stream",
          "name": "stderr",
          "text": [
            "100%|██████████| 1/1 [00:01<00:00,  1.50s/it]\n"
          ]
        },
        {
          "output_type": "stream",
          "name": "stdout",
          "text": [
            "0.008536666864529252\n",
            "[0.         0.         0.         0.         0.         0.\n",
            " 0.         0.         0.         0.         0.         0.\n",
            " 0.         0.         0.         0.         0.         0.\n",
            " 0.         0.         0.         0.         0.         0.\n",
            " 0.         0.         0.         0.         0.         0.\n",
            " 0.         0.         0.         0.         0.         0.\n",
            " 0.         0.         0.         0.         0.         0.\n",
            " 0.         0.         0.         0.         0.         0.\n",
            " 0.         0.38077554]\n",
            "Round 36 Train RMSE:  0.7233687184765782\n",
            "Round 36 Obj:  0.5118176957406891\n"
          ]
        },
        {
          "output_type": "stream",
          "name": "stderr",
          "text": [
            "100%|██████████| 1/1 [00:01<00:00,  1.52s/it]\n"
          ]
        },
        {
          "output_type": "stream",
          "name": "stdout",
          "text": [
            "0.007551718153990805\n",
            "[0.         0.         0.         0.         0.         0.\n",
            " 0.         0.         0.         0.         0.         0.\n",
            " 0.         0.         0.         0.         0.         0.\n",
            " 0.         0.         0.         0.         0.         0.\n",
            " 0.         0.         0.         0.         0.         0.\n",
            " 0.         0.         0.         0.         0.         0.\n",
            " 0.         0.         0.         0.         0.         0.\n",
            " 0.         0.         0.         0.         0.         0.\n",
            " 0.         0.38002673]\n",
            "Round 37 Train RMSE:  0.7233017685796886\n",
            "Round 37 Obj:  0.5118150028786954\n"
          ]
        },
        {
          "output_type": "stream",
          "name": "stderr",
          "text": [
            "100%|██████████| 1/1 [00:01<00:00,  1.50s/it]\n"
          ]
        },
        {
          "output_type": "stream",
          "name": "stdout",
          "text": [
            "0.0066738511668518186\n",
            "[0.       0.       0.       0.       0.       0.       0.       0.\n",
            " 0.       0.       0.       0.       0.       0.       0.       0.\n",
            " 0.       0.       0.       0.       0.       0.       0.       0.\n",
            " 0.       0.       0.       0.       0.       0.       0.       0.\n",
            " 0.       0.       0.       0.       0.       0.       0.       0.\n",
            " 0.       0.       0.       0.       0.       0.       0.       0.\n",
            " 0.       0.379365]\n",
            "Round 38 Train RMSE:  0.7232426227159957\n",
            "Round 38 Obj:  0.51181286738734\n"
          ]
        },
        {
          "output_type": "stream",
          "name": "stderr",
          "text": [
            "100%|██████████| 1/1 [00:01<00:00,  1.51s/it]\n"
          ]
        },
        {
          "output_type": "stream",
          "name": "stdout",
          "text": [
            "0.005892617045901716\n",
            "[0.         0.         0.         0.         0.         0.\n",
            " 0.         0.         0.         0.         0.         0.\n",
            " 0.         0.         0.         0.         0.         0.\n",
            " 0.         0.         0.         0.         0.         0.\n",
            " 0.         0.         0.         0.         0.         0.\n",
            " 0.         0.         0.         0.         0.         0.\n",
            " 0.         0.         0.         0.         0.         0.\n",
            " 0.         0.         0.         0.         0.         0.\n",
            " 0.         0.37878075]\n",
            "Round 39 Train RMSE:  0.7231905931605846\n",
            "Round 39 Obj:  0.511811232593864\n"
          ]
        },
        {
          "output_type": "stream",
          "name": "stderr",
          "text": [
            "100%|██████████| 1/1 [00:02<00:00,  2.01s/it]\n"
          ]
        },
        {
          "output_type": "stream",
          "name": "stdout",
          "text": [
            "0.0051957747200503945\n",
            "[0.        0.        0.        0.        0.        0.        0.\n",
            " 0.        0.        0.        0.        0.        0.        0.\n",
            " 0.        0.        0.        0.        0.        0.        0.\n",
            " 0.        0.        0.        0.        0.        0.        0.\n",
            " 0.        0.        0.        0.        0.        0.        0.\n",
            " 0.        0.        0.        0.        0.        0.        0.\n",
            " 0.        0.        0.        0.        0.        0.        0.\n",
            " 0.3782656]\n",
            "Round 40 Train RMSE:  0.7231447777600427\n",
            "Round 40 Obj:  0.5118099384577265\n"
          ]
        },
        {
          "output_type": "stream",
          "name": "stderr",
          "text": [
            "100%|██████████| 1/1 [00:01<00:00,  1.73s/it]\n"
          ]
        },
        {
          "output_type": "stream",
          "name": "stdout",
          "text": [
            "0.004582333785947412\n",
            "[0.         0.         0.         0.         0.         0.\n",
            " 0.         0.         0.         0.         0.         0.\n",
            " 0.         0.         0.         0.         0.         0.\n",
            " 0.         0.         0.         0.         0.         0.\n",
            " 0.         0.         0.         0.         0.         0.\n",
            " 0.         0.         0.         0.         0.         0.\n",
            " 0.         0.         0.         0.         0.         0.\n",
            " 0.         0.         0.         0.         0.         0.\n",
            " 0.         0.37781128]\n",
            "Round 41 Train RMSE:  0.7231044343698\n",
            "Round 41 Obj:  0.5118089667981993\n"
          ]
        },
        {
          "output_type": "stream",
          "name": "stderr",
          "text": [
            "100%|██████████| 1/1 [00:01<00:00,  1.50s/it]\n"
          ]
        },
        {
          "output_type": "stream",
          "name": "stdout",
          "text": [
            "0.004036638420075178\n",
            "[0.        0.        0.        0.        0.        0.        0.\n",
            " 0.        0.        0.        0.        0.        0.        0.\n",
            " 0.        0.        0.        0.        0.        0.        0.\n",
            " 0.        0.        0.        0.        0.        0.        0.\n",
            " 0.        0.        0.        0.        0.        0.        0.\n",
            " 0.        0.        0.        0.        0.        0.        0.\n",
            " 0.        0.        0.        0.        0.        0.        0.\n",
            " 0.3774111]\n",
            "Round 42 Train RMSE:  0.7230689585771766\n",
            "Round 42 Obj:  0.5118081820658488\n"
          ]
        },
        {
          "output_type": "stream",
          "name": "stderr",
          "text": [
            "100%|██████████| 1/1 [00:01<00:00,  1.49s/it]\n"
          ]
        },
        {
          "output_type": "stream",
          "name": "stdout",
          "text": [
            "0.003553740098141134\n",
            "[0.         0.         0.         0.         0.         0.\n",
            " 0.         0.         0.         0.         0.         0.\n",
            " 0.         0.         0.         0.         0.         0.\n",
            " 0.         0.         0.         0.         0.         0.\n",
            " 0.         0.         0.         0.         0.         0.\n",
            " 0.         0.         0.         0.         0.         0.\n",
            " 0.         0.         0.         0.         0.         0.\n",
            " 0.         0.         0.         0.         0.         0.\n",
            " 0.         0.37705877]\n",
            "Round 43 Train RMSE:  0.7230377621280273\n",
            "Round 43 Obj:  0.5118075832627401\n"
          ]
        },
        {
          "output_type": "stream",
          "name": "stderr",
          "text": [
            "100%|██████████| 1/1 [00:01<00:00,  1.44s/it]\n"
          ]
        },
        {
          "output_type": "stream",
          "name": "stdout",
          "text": [
            "0.00312650459818542\n",
            "[0.         0.         0.         0.         0.         0.\n",
            " 0.         0.         0.         0.         0.         0.\n",
            " 0.         0.         0.         0.         0.         0.\n",
            " 0.         0.         0.         0.         0.         0.\n",
            " 0.         0.         0.         0.         0.         0.\n",
            " 0.         0.         0.         0.         0.         0.\n",
            " 0.         0.         0.         0.         0.         0.\n",
            " 0.         0.         0.         0.         0.         0.\n",
            " 0.         0.37674883]\n",
            "Round 44 Train RMSE:  0.7230103416005714\n",
            "Round 44 Obj:  0.5118071344440808\n"
          ]
        },
        {
          "output_type": "stream",
          "name": "stderr",
          "text": [
            "100%|██████████| 1/1 [00:01<00:00,  1.47s/it]\n"
          ]
        },
        {
          "output_type": "stream",
          "name": "stdout",
          "text": [
            "0.0027512438828125596\n",
            "[0.         0.         0.         0.         0.         0.\n",
            " 0.         0.         0.         0.         0.         0.\n",
            " 0.         0.         0.         0.         0.         0.\n",
            " 0.         0.         0.         0.         0.         0.\n",
            " 0.         0.         0.         0.         0.         0.\n",
            " 0.         0.         0.         0.         0.         0.\n",
            " 0.         0.         0.         0.         0.         0.\n",
            " 0.         0.         0.         0.         0.         0.\n",
            " 0.         0.37647608]\n",
            "Round 45 Train RMSE:  0.7229862948189371\n",
            "Round 45 Obj:  0.511806777445924\n"
          ]
        },
        {
          "output_type": "stream",
          "name": "stderr",
          "text": [
            "100%|██████████| 1/1 [00:01<00:00,  1.48s/it]\n"
          ]
        },
        {
          "output_type": "stream",
          "name": "stdout",
          "text": [
            "0.002418786898488179\n",
            "[0.        0.        0.        0.        0.        0.        0.\n",
            " 0.        0.        0.        0.        0.        0.        0.\n",
            " 0.        0.        0.        0.        0.        0.        0.\n",
            " 0.        0.        0.        0.        0.        0.        0.\n",
            " 0.        0.        0.        0.        0.        0.        0.\n",
            " 0.        0.        0.        0.        0.        0.        0.\n",
            " 0.        0.        0.        0.        0.        0.        0.\n",
            " 0.3762363]\n",
            "Round 46 Train RMSE:  0.7229651388509737\n",
            "Round 46 Obj:  0.5118065019517981\n"
          ]
        },
        {
          "output_type": "stream",
          "name": "stderr",
          "text": [
            "100%|██████████| 1/1 [00:01<00:00,  1.58s/it]\n"
          ]
        },
        {
          "output_type": "stream",
          "name": "stdout",
          "text": [
            "0.0021254370221868157\n",
            "[0.        0.        0.        0.        0.        0.        0.\n",
            " 0.        0.        0.        0.        0.        0.        0.\n",
            " 0.        0.        0.        0.        0.        0.        0.\n",
            " 0.        0.        0.        0.        0.        0.        0.\n",
            " 0.        0.        0.        0.        0.        0.        0.\n",
            " 0.        0.        0.        0.        0.        0.        0.\n",
            " 0.        0.        0.        0.        0.        0.        0.\n",
            " 0.3760256]\n",
            "Round 47 Train RMSE:  0.7229465825951981\n",
            "Round 47 Obj:  0.5118063026429587\n"
          ]
        },
        {
          "output_type": "stream",
          "name": "stderr",
          "text": [
            "100%|██████████| 1/1 [00:02<00:00,  2.01s/it]\n"
          ]
        },
        {
          "output_type": "stream",
          "name": "stdout",
          "text": [
            "0.0018669715791475028\n",
            "[0.        0.        0.        0.        0.        0.        0.\n",
            " 0.        0.        0.        0.        0.        0.        0.\n",
            " 0.        0.        0.        0.        0.        0.        0.\n",
            " 0.        0.        0.        0.        0.        0.        0.\n",
            " 0.        0.        0.        0.        0.        0.        0.\n",
            " 0.        0.        0.        0.        0.        0.        0.\n",
            " 0.        0.        0.        0.        0.        0.        0.\n",
            " 0.3758405]\n",
            "Round 48 Train RMSE:  0.7229302410774369\n",
            "Round 48 Obj:  0.511806123175407\n"
          ]
        },
        {
          "output_type": "stream",
          "name": "stderr",
          "text": [
            "100%|██████████| 1/1 [00:01<00:00,  1.60s/it]\n"
          ]
        },
        {
          "output_type": "stream",
          "name": "stdout",
          "text": [
            "0.0016401750326622277\n",
            "[0.        0.        0.        0.        0.        0.        0.\n",
            " 0.        0.        0.        0.        0.        0.        0.\n",
            " 0.        0.        0.        0.        0.        0.        0.\n",
            " 0.        0.        0.        0.        0.        0.        0.\n",
            " 0.        0.        0.        0.        0.        0.        0.\n",
            " 0.        0.        0.        0.        0.        0.        0.\n",
            " 0.        0.        0.        0.        0.        0.        0.\n",
            " 0.3756779]\n",
            "Round 49 Train RMSE:  0.7229158977552566\n",
            "Round 49 Obj:  0.5118059742537029\n"
          ]
        },
        {
          "output_type": "stream",
          "name": "stderr",
          "text": [
            "100%|██████████| 1/1 [00:01<00:00,  1.54s/it]\n"
          ]
        },
        {
          "output_type": "stream",
          "name": "stdout",
          "text": [
            "0.001439470797777176\n",
            "[0.         0.         0.         0.         0.         0.\n",
            " 0.         0.         0.         0.         0.         0.\n",
            " 0.         0.         0.         0.         0.         0.\n",
            " 0.         0.         0.         0.         0.         0.\n",
            " 0.         0.         0.         0.         0.         0.\n",
            " 0.         0.         0.         0.         0.         0.\n",
            " 0.         0.         0.         0.         0.         0.\n",
            " 0.         0.         0.         0.         0.         0.\n",
            " 0.         0.37553522]\n",
            "Round 50 Train RMSE:  0.722903403086912\n",
            "Round 50 Obj:  0.5118059181294512\n"
          ]
        },
        {
          "output_type": "stream",
          "name": "stderr",
          "text": [
            "100%|██████████| 1/1 [00:01<00:00,  1.52s/it]\n"
          ]
        },
        {
          "output_type": "stream",
          "name": "stdout",
          "text": [
            "0.0012656849867198616\n",
            "[0.         0.         0.         0.         0.         0.\n",
            " 0.         0.         0.         0.         0.         0.\n",
            " 0.         0.         0.         0.         0.         0.\n",
            " 0.         0.         0.         0.         0.         0.\n",
            " 0.         0.         0.         0.         0.         0.\n",
            " 0.         0.         0.         0.         0.         0.\n",
            " 0.         0.         0.         0.         0.         0.\n",
            " 0.         0.         0.         0.         0.         0.\n",
            " 0.         0.37540975]\n",
            "Round 51 Train RMSE:  0.7228923814260904\n",
            "Round 51 Obj:  0.5118058554138389\n"
          ]
        },
        {
          "output_type": "stream",
          "name": "stderr",
          "text": [
            "100%|██████████| 1/1 [00:01<00:00,  1.53s/it]\n"
          ]
        },
        {
          "output_type": "stream",
          "name": "stdout",
          "text": [
            "0.001109995282604359\n",
            "[0.         0.         0.         0.         0.         0.\n",
            " 0.         0.         0.         0.         0.         0.\n",
            " 0.         0.         0.         0.         0.         0.\n",
            " 0.         0.         0.         0.         0.         0.\n",
            " 0.         0.         0.         0.         0.         0.\n",
            " 0.         0.         0.         0.         0.         0.\n",
            " 0.         0.         0.         0.         0.         0.\n",
            " 0.         0.         0.         0.         0.         0.\n",
            " 0.         0.37529972]\n",
            "Round 52 Train RMSE:  0.7228827196371423\n",
            "Round 52 Obj:  0.5118057462521223\n"
          ]
        },
        {
          "output_type": "stream",
          "name": "stderr",
          "text": [
            "100%|██████████| 1/1 [00:01<00:00,  1.53s/it]"
          ]
        },
        {
          "output_type": "stream",
          "name": "stdout",
          "text": [
            "0.0009735343337524682\n",
            "Test RMSE:  0.7228827196371423\n"
          ]
        },
        {
          "output_type": "stream",
          "name": "stderr",
          "text": [
            "\n"
          ]
        }
      ]
    }
  ]
}