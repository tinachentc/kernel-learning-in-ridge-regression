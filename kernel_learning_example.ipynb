{
  "nbformat": 4,
  "nbformat_minor": 0,
  "metadata": {
    "colab": {
      "provenance": [],
      "authorship_tag": "ABX9TyOzBDvHQJy616D2VWqmU2Ne",
      "include_colab_link": true
    },
    "kernelspec": {
      "name": "python3",
      "display_name": "Python 3"
    },
    "language_info": {
      "name": "python"
    }
  },
  "cells": [
    {
      "cell_type": "markdown",
      "metadata": {
        "id": "view-in-github",
        "colab_type": "text"
      },
      "source": [
        "<a href=\"https://colab.research.google.com/github/tinachentc/kernel-learning-in-ridge-regression/blob/master/kernel_learning_example.ipynb\" target=\"_parent\"><img src=\"https://colab.research.google.com/assets/colab-badge.svg\" alt=\"Open In Colab\"/></a>"
      ]
    },
    {
      "cell_type": "markdown",
      "source": [
        "# Kernel Learning in Ridge Regression Example\n",
        "\n",
        "The following code demonstrates low-rankness of the solution matrix $\\Sigma$ in a variant of kernel ridge regression.\n",
        "\n",
        "<!-- $$\\mathop{\\rm minimize}_{f, \\gamma, \\Sigma} ~~~\\frac{1}{2} \\mathbb{E}_n \\left[(Y - f(X) - \\gamma)^2\\right] + \\frac{\\lambda}{2} \\Vert f\\Vert _{\\mathcal{H}_\\Sigma}^2 ~~~ \\mathop{\\rm subject\\ to}  ~~~~\\Sigma \\succeq 0. $$\n",
        "This RKHS, denoted as $\\mathcal{H}_\\Sigma$, utilizes a kernel\n",
        "$$(x,x') \\mapsto k_\\Sigma(x, x')  = \\phi(\\Vert x-x'\\Vert^2_\\Sigma)$$\n",
        "where $\\Vert x-x'\\Vert_\\Sigma = \\sqrt{(x-x')^T \\Sigma (x-x')}$, and $\\phi$ is a real-valued function so that $k_\\Sigma$ is a kernel for every positive semidefinite $\\Sigma$.  -->\n",
        " <!-- where $\\phi(z) = \\exp(-z)$ -->\n",
        "Gaussian kernel is used in this example. For simulation setting, the feature vector $X\\sim N(0,I)$, and the response $Y=f(X)+\\epsilon$, where $f(x)=x_1 x_2$ and $\\epsilon\\sim N(0,\\sigma^2)$.\n",
        "\n",
        "For more details, please refer to our paper:\n",
        "[Kernel Learning in Ridge Regression “Automatically” Yields Exact Low Rank Solution](https://arxiv.org/abs/2310.11736).\n"
      ],
      "metadata": {
        "id": "_9FvwmqZwSmd"
      }
    },
    {
      "cell_type": "code",
      "execution_count": 23,
      "metadata": {
        "id": "x0m5mbqrCuCL"
      },
      "outputs": [],
      "source": [
        "import torch\n",
        "import numpy as np\n",
        "from scipy.linalg import eigh\n",
        "from numpy.linalg import solve, inv, norm\n",
        "from tqdm import tqdm\n",
        "from sklearn.metrics import accuracy_score\n",
        "\n",
        "import pandas as pd\n",
        "import argparse"
      ]
    },
    {
      "cell_type": "markdown",
      "source": [
        "## Set Arguments"
      ],
      "metadata": {
        "id": "qvrv2FKo0lPX"
      }
    },
    {
      "cell_type": "code",
      "source": [
        "# set simulation arguments\n",
        "seed = 1 #seed\n",
        "n = 500 #sample size\n",
        "d = 30 #sample dimension\n",
        "e = 0.1 #noise size\n",
        "rho = 0. #sample correlation\n",
        "\n",
        "# set model arguments\n",
        "lam = 0.1 #ridge regularization parameter\n",
        "\n",
        "# set optimization arguments\n",
        "iters = 2000 #maximum number of epoches\n",
        "lr = 0.1 #initial learning rate\n",
        "alpha = 0.001 #Armijo parameter\n",
        "beta = 0.5 #Armijo parameter\n",
        "tol = 0.001 #tolerance"
      ],
      "metadata": {
        "id": "FfdWgqnbz5IB"
      },
      "execution_count": 34,
      "outputs": []
    },
    {
      "cell_type": "code",
      "source": [
        "def euclidean_distances_M(samples, centers, M, squared=True):\n",
        "\n",
        "    samples_norm = (samples @ M)  * samples\n",
        "    samples_norm = torch.sum(samples_norm, dim=1, keepdim=True)\n",
        "\n",
        "    if samples is centers:\n",
        "        centers_norm = samples_norm\n",
        "    else:\n",
        "        centers_norm = (centers @ M) * centers\n",
        "        centers_norm = torch.sum(centers_norm, dim=1, keepdim=True)\n",
        "\n",
        "    centers_norm = torch.reshape(centers_norm, (1, -1))\n",
        "\n",
        "    distances = samples.mm(M @ torch.t(centers))\n",
        "    distances.mul_(-2)\n",
        "    distances.add_(samples_norm)\n",
        "    distances.add_(centers_norm)\n",
        "    if not squared:\n",
        "        distances.clamp_(min=0)\n",
        "        distances.sqrt_()\n",
        "\n",
        "    return distances\n",
        "\n",
        "def gaussian_M(samples, centers, bandwidth, M):\n",
        "    assert bandwidth > 0\n",
        "    kernel_mat = euclidean_distances_M(samples, centers, M)\n",
        "    kernel_mat.clamp_(min=0)\n",
        "    gamma = 1. / bandwidth\n",
        "    kernel_mat.mul_(-gamma)\n",
        "    kernel_mat.exp_()\n",
        "    return kernel_mat"
      ],
      "metadata": {
        "id": "GFANZ5XEcbVI"
      },
      "execution_count": 30,
      "outputs": []
    },
    {
      "cell_type": "code",
      "source": [
        "def get_grads(reg, X, Y, L, P, batch_size, unfold=0):\n",
        "    d, _ = P.shape\n",
        "    n, c = Y.shape\n",
        "    batches_X = torch.split(X, batch_size)\n",
        "    batches_Y = torch.split(Y, batch_size)\n",
        "    G = torch.zeros(d, d)\n",
        "    for i in tqdm(range(len(batches_X))):\n",
        "        x = batches_X[i]\n",
        "        y = batches_Y[i]\n",
        "        m, _ = x.shape\n",
        "        K = gaussian_M(x, x, L, P)\n",
        "\n",
        "        # calculate alpha and diff\n",
        "        proj = torch.eye(m)-torch.ones((m,m))/m\n",
        "        a = solve(proj@K + reg * np.eye(m), proj@y)\n",
        "        a = torch.from_numpy(a).float()\n",
        "        diff = x.unsqueeze(1) - x.unsqueeze(0)\n",
        "\n",
        "        # separate unfold cases\n",
        "        if unfold == 0:\n",
        "            res = torch.einsum('ijk,ijl->ijkl', diff, diff)\n",
        "            C = torch.mul(res, K.view(m,m,1,1))\n",
        "            del res\n",
        "            G0 = torch.tensordot(a, C, dims=([0], [0]))\n",
        "            del C\n",
        "            G += torch.sum(torch.tensordot(torch.sum(G0, dim=0), a, dims=([0], [0])), dim=2)\n",
        "            del G0\n",
        "\n",
        "        elif unfold == 1:\n",
        "            for j in range(d):\n",
        "                resj = torch.einsum('ijk,ijl->ijkl', diff, diff[:, :, j:(j + 1)]).squeeze()\n",
        "                Cj = torch.mul(resj, K.view(m,m,1))\n",
        "                del resj\n",
        "                Gj = torch.tensordot(a, Cj, dims=([0], [0]))\n",
        "                del Cj\n",
        "                G[j] += torch.sum(torch.tensordot(torch.sum(Gj, dim=0), a, dims=([0], [0])), dim=1)\n",
        "                del Gj\n",
        "\n",
        "        else:\n",
        "            for j in range(d):\n",
        "                for k in range(d):\n",
        "                    resjk = torch.einsum('ijk,ijl->ijkl', diff[:, :, j:(j + 1)], diff[:, :, k:(k + 1)]).squeeze()\n",
        "                    Cjk = torch.mul(resjk, K)\n",
        "                    del resjk\n",
        "                    Gjk = torch.tensordot(a, Cjk, dims=([0], [0]))\n",
        "                    G[j,k] += torch.sum(torch.tensordot(torch.sum(Gjk, dim=0), a, dims=([0], [0])), dim=0)\n",
        "                    del Gjk\n",
        "\n",
        "    G *= reg/n/L\n",
        "    G = G.numpy()\n",
        "    return G\n",
        "\n",
        "def trainSig(X_train, y_train, X_test, y_test, M, d0,\n",
        "        iters, batch_size, reg, lr0,\n",
        "        alpha, beta, tol, X_val=None, y_val=None, classification=0, unfold=0):\n",
        "    L = 1\n",
        "    n, d = X_train.shape\n",
        "    mm, d = X_test.shape\n",
        "    if X_val is not None and y_val is not None:\n",
        "        m, d = X_val.shape\n",
        "\n",
        "    U = np.eye(d, dtype='float32')\n",
        "    obj_seq = np.zeros(iters+1)\n",
        "    err_seq = np.zeros(iters+1); terr_seq = np.zeros(iters+1)\n",
        "    rank_seq = np.zeros(iters+1)\n",
        "\n",
        "    proj = torch.eye(n) - torch.ones((n, n)) / n\n",
        "\n",
        "\n",
        "    i = 0\n",
        "    # rank\n",
        "    rank_seq[i] = d0\n",
        "\n",
        "    # training err\n",
        "    K_train = gaussian_M(X_train, X_train, L, torch.from_numpy(M)).numpy()\n",
        "    sol = solve(proj @ K_train + reg * np.eye(n), proj @ y_train).T\n",
        "    preds0 = (sol @ K_train).T\n",
        "    csol = np.mean(y_train.numpy() - preds0)\n",
        "    preds = preds0 + np.ones((n, 1)) * csol\n",
        "    terr_seq[i] = np.sqrt(np.mean(np.square(preds - y_train.numpy())))\n",
        "    print(\"Round \" + str(i) + \" Train RMSE: \", terr_seq[i])\n",
        "\n",
        "    # validation err\n",
        "    if X_val is not None and y_val is not None:\n",
        "        K_val = gaussian_M(X_train, X_val, L, torch.from_numpy(M)).numpy()\n",
        "        preds = (sol @ K_val).T + np.ones((m, 1)) * csol\n",
        "        if classification:\n",
        "            err_seq[i] = 1. - accuracy_score(preds > 0.5, y_val.numpy())\n",
        "            print(\"Round \" + str(i) + \" Val Acc: \", 1. - err_seq[i])\n",
        "        else:\n",
        "            err_seq[i] = np.sqrt(np.mean(np.square(preds - y_val.numpy())))\n",
        "            print(\"Round \" + str(i) + \" Val RMSE: \", err_seq[i])\n",
        "\n",
        "    # objective function value\n",
        "    obj = sol @ (K_train + reg * np.eye(n)) @ sol.T\n",
        "    obj_seq[i] = obj[0, 0] * reg / n / 2\n",
        "    print(\"Round \" + str(i) + \" Obj: \", obj_seq[i])\n",
        "\n",
        "\n",
        "    for i in range(iters):\n",
        "        # shuffle and calculate gradient\n",
        "        indices = torch.randperm(X_train.shape[0])\n",
        "        G = get_grads(reg, X_train[indices], y_train[indices], L, torch.from_numpy(M), batch_size=batch_size, unfold=unfold).astype('float32')\n",
        "\n",
        "        # PGD with Armijo rule\n",
        "        lr = lr0\n",
        "        M0 = M - lr * G\n",
        "        D, V = eigh(M0)\n",
        "        if sum(D < 0) > 0:\n",
        "            D[D < 0] = 0\n",
        "            M0 = V@np.diag(D)@inv(V)\n",
        "        K_train_upd = gaussian_M(X_train, X_train, L, torch.from_numpy(M0)).numpy()\n",
        "        sol_upd = solve(proj@K_train_upd + reg * np.eye(n), proj@y_train).T\n",
        "        obj_upd = sol_upd @ (K_train_upd + reg * np.eye(n)) @ sol_upd.T\n",
        "        f_upd = obj_upd[0,0]*reg/n/2\n",
        "        Gp = U@U.T@G@U@U.T\n",
        "        while f_upd > obj_seq[i] - alpha * lr * np.trace(Gp.T@Gp):\n",
        "           lr *= beta\n",
        "           M0 = M - lr * G\n",
        "           D, V = eigh(M0)\n",
        "           if sum(D < 0) > 0:\n",
        "               D[D < 0] = 0\n",
        "               M0 = V @ np.diag(D) @ inv(V)\n",
        "           K_train_upd = gaussian_M(X_train, X_train, L, torch.from_numpy(M0)).numpy()\n",
        "           sol_upd = solve(proj@K_train_upd + reg * np.eye(n), proj@y_train).T\n",
        "           obj_upd = sol_upd @ (K_train_upd + reg * np.eye(n)) @ sol_upd.T\n",
        "           f_upd = obj_upd[0,0]*reg/n/2\n",
        "           if lr < 1e-15:\n",
        "               lr = 0.\n",
        "               break\n",
        "           print(lr)\n",
        "\n",
        "        print(norm(M-M0, 'fro')/lr)\n",
        "        if lr == 0 or norm(M-M0, 'fro')/lr < tol:\n",
        "            obj_seq[i+1] = obj_seq[i]\n",
        "            terr_seq[i+1] = terr_seq[i]\n",
        "            err_seq[i+1] = err_seq[i]\n",
        "            rank_seq[i+1] = rank_seq[i]\n",
        "            break\n",
        "        else:\n",
        "            M = M0\n",
        "        U = V@np.diag(np.sqrt(D))\n",
        "        U = U[:,D>0]\n",
        "        print(D)\n",
        "\n",
        "        # rank\n",
        "        rank_seq[i+1] = sum(D > 0)\n",
        "\n",
        "        # training err\n",
        "        K_train = gaussian_M(X_train, X_train, L, torch.from_numpy(M)).numpy()\n",
        "        sol = solve(proj @ K_train + reg * np.eye(n), proj @ y_train).T\n",
        "        preds0 = (sol @ K_train).T\n",
        "        csol = np.mean(y_train.numpy() - preds0)\n",
        "        preds = preds0 + np.ones((n, 1)) * csol\n",
        "        terr_seq[i+1] = np.sqrt(np.mean(np.square(preds - y_train.numpy())))\n",
        "        print(\"Round \" + str(i+1) + \" Train RMSE: \", terr_seq[i+1])\n",
        "\n",
        "        # validation err\n",
        "        if X_val is not None and y_val is not None:\n",
        "            K_val = gaussian_M(X_train, X_val, L, torch.from_numpy(M)).numpy()\n",
        "            preds = (sol @ K_val).T + np.ones((m, 1)) * csol\n",
        "            if classification:\n",
        "                err_seq[i+1] = 1. - accuracy_score(preds>0.5, y_val.numpy())\n",
        "                print(\"Round \" + str(i+1) + \" Val Acc: \", 1. - err_seq[i+1])\n",
        "            else:\n",
        "                err_seq[i+1] = np.sqrt(np.mean(np.square(preds - y_val.numpy())))\n",
        "                print(\"Round \" + str(i+1) + \" Val RMSE: \", err_seq[i+1])\n",
        "\n",
        "        # objective function value\n",
        "        obj = sol @ (K_train + reg * np.eye(n)) @ sol.T\n",
        "        obj_seq[i+1] = obj[0, 0] * reg / n / 2\n",
        "        print(\"Round \" + str(i+1) + \" Obj: \", obj_seq[i+1])\n",
        "\n",
        "    # test err\n",
        "    K_test = gaussian_M(X_train, X_test, L, torch.from_numpy(M)).numpy()\n",
        "    preds = (sol @ K_test).T + np.ones((mm, 1)) * csol\n",
        "    if classification:\n",
        "        test_err = 1. - accuracy_score(preds > 0.5, y_test.numpy())\n",
        "        print(\"Test Acc: \", 1. - test_err)\n",
        "    else:\n",
        "        test_err = np.sqrt(np.mean(np.square(preds - y_test.numpy())))\n",
        "        print(\"Test RMSE: \", test_err)\n",
        "\n",
        "    return test_err, M, obj_seq[0:i+2], terr_seq[0:i+2], err_seq[0:i+2], rank_seq[0:i+2]\n"
      ],
      "metadata": {
        "id": "kTqJsQTRdWg4"
      },
      "execution_count": 26,
      "outputs": []
    },
    {
      "cell_type": "markdown",
      "source": [
        "## Generate Simulation"
      ],
      "metadata": {
        "id": "EcM6QgWC0U9n"
      }
    },
    {
      "cell_type": "code",
      "source": [
        "# generate noise\n",
        "np.random.seed(seed)\n",
        "u = e*np.random.normal(0, 1, size=n)\n",
        "\n",
        "# generate x\n",
        "np.random.seed(seed * 200)\n",
        "s = np.zeros((d, d))\n",
        "for i in range(d):\n",
        "  for j in range(d):\n",
        "    s[i][j] = rho ** abs(i - j)\n",
        "X = np.random.multivariate_normal(np.zeros(d), s, size=n)\n",
        "\n",
        "# generate y\n",
        "y0 = X[:, 0] * X[:, 1]\n",
        "y = y0 + u\n",
        "\n",
        "X = torch.from_numpy(X).float()\n",
        "y = torch.from_numpy(y.reshape(n, 1)).float()"
      ],
      "metadata": {
        "id": "R8MXKH2Edcrx"
      },
      "execution_count": 35,
      "outputs": []
    },
    {
      "cell_type": "markdown",
      "source": [
        "## Run Model"
      ],
      "metadata": {
        "id": "9sjVAOyF0bap"
      }
    },
    {
      "cell_type": "code",
      "source": [
        "terr, M, obj_seq, tval_seq, val_seq, rank_seq = trainSig(X_train=X, y_train=y, X_test=X, y_test=y,\n",
        "                                iters=iters, batch_size=n, reg=n*lam, lr0=lr,\n",
        "                                M=np.eye(d, dtype='float32')/d, d0=d, alpha=alpha, beta=beta, tol=tol)\n"
      ],
      "metadata": {
        "colab": {
          "base_uri": "https://localhost:8080/"
        },
        "id": "g7D52XGLlzBZ",
        "outputId": "7fe2c41d-b116-410d-c248-c9a83968a304"
      },
      "execution_count": 36,
      "outputs": [
        {
          "output_type": "stream",
          "name": "stdout",
          "text": [
            "Round 0 Train RMSE:  0.8780049746562272\n",
            "Round 0 Obj:  0.39385953323674244\n"
          ]
        },
        {
          "output_type": "stream",
          "name": "stderr",
          "text": [
            "100%|██████████| 1/1 [00:02<00:00,  2.24s/it]\n"
          ]
        },
        {
          "output_type": "stream",
          "name": "stdout",
          "text": [
            "0.1783749833703041\n",
            "[0.03059593 0.03083538 0.03153603 0.03159735 0.03165667 0.03194415\n",
            " 0.03206563 0.03213494 0.03219572 0.03228062 0.03243659 0.03249811\n",
            " 0.03269414 0.03279128 0.03287331 0.03288353 0.03291719 0.03306768\n",
            " 0.03321145 0.03325896 0.03329459 0.03339814 0.03345781 0.03369589\n",
            " 0.03385678 0.0339073  0.03399613 0.03976917 0.04184272 0.04637579]\n",
            "Round 1 Train RMSE:  0.8745702359100312\n",
            "Round 1 Obj:  0.3922643104033795\n"
          ]
        },
        {
          "output_type": "stream",
          "name": "stderr",
          "text": [
            "100%|██████████| 1/1 [00:02<00:00,  2.59s/it]\n"
          ]
        },
        {
          "output_type": "stream",
          "name": "stdout",
          "text": [
            "0.18420526757836342\n",
            "[0.02660732 0.02730062 0.02882151 0.02909785 0.02937746 0.02979062\n",
            " 0.03025682 0.03039553 0.03050077 0.03064344 0.03100485 0.03119126\n",
            " 0.03168678 0.03188758 0.03196459 0.03205732 0.03212794 0.03244208\n",
            " 0.0327179  0.03293505 0.03303897 0.03319486 0.03337091 0.03375829\n",
            " 0.03380999 0.03405211 0.03446184 0.04602565 0.05134518 0.05796076]\n",
            "Round 2 Train RMSE:  0.870720609641905\n",
            "Round 2 Obj:  0.39048100184689555\n"
          ]
        },
        {
          "output_type": "stream",
          "name": "stderr",
          "text": [
            "100%|██████████| 1/1 [00:03<00:00,  3.48s/it]\n"
          ]
        },
        {
          "output_type": "stream",
          "name": "stdout",
          "text": [
            "0.20652569830417633\n",
            "[0.02104338 0.0224923  0.02495855 0.02570197 0.02643158 0.02674961\n",
            " 0.027731   0.02802039 0.0281277  0.02828589 0.0288922  0.02934769\n",
            " 0.03013743 0.03044184 0.03066816 0.03079414 0.03096873 0.03141297\n",
            " 0.03180091 0.0323352  0.03241625 0.03277479 0.03297005 0.03320874\n",
            " 0.03353269 0.03392152 0.03470833 0.05187263 0.06185432 0.0694151 ]\n",
            "Round 3 Train RMSE:  0.8657102404779561\n",
            "Round 3 Obj:  0.38815943344232656\n"
          ]
        },
        {
          "output_type": "stream",
          "name": "stderr",
          "text": [
            "100%|██████████| 1/1 [00:02<00:00,  2.17s/it]\n"
          ]
        },
        {
          "output_type": "stream",
          "name": "stdout",
          "text": [
            "0.24703243747353554\n",
            "[0.01310521 0.01586578 0.01949081 0.02103895 0.02251003 0.02260477\n",
            " 0.02409281 0.02475318 0.02481561 0.02488    0.02594106 0.02675641\n",
            " 0.02778461 0.02841519 0.02877588 0.02895971 0.02938553 0.02986543\n",
            " 0.03037158 0.03121849 0.03136259 0.03193701 0.0320636  0.03252107\n",
            " 0.03290083 0.03345636 0.03466047 0.05708669 0.07355333 0.08157654]\n",
            "Round 4 Train RMSE:  0.8582657058268148\n",
            "Round 4 Obj:  0.38469800268386417\n"
          ]
        },
        {
          "output_type": "stream",
          "name": "stderr",
          "text": [
            "100%|██████████| 1/1 [00:01<00:00,  1.46s/it]\n"
          ]
        },
        {
          "output_type": "stream",
          "name": "stdout",
          "text": [
            "0.32005198299884796\n",
            "[0.00087311 0.00630516 0.01142087 0.01426801 0.01649187 0.01739584\n",
            " 0.01862251 0.01953239 0.02010404 0.02021741 0.02184495 0.02300706\n",
            " 0.02431954 0.02546623 0.02614903 0.02632517 0.02712739 0.02754845\n",
            " 0.02824168 0.0292462  0.02977957 0.03047973 0.03083454 0.03150328\n",
            " 0.03180923 0.0325523  0.03420698 0.0614828  0.08690811 0.09520332]\n",
            "Round 5 Train RMSE:  0.8449647921349185\n",
            "Round 5 Obj:  0.37846794426846087\n"
          ]
        },
        {
          "output_type": "stream",
          "name": "stderr",
          "text": [
            "100%|██████████| 1/1 [00:01<00:00,  1.66s/it]\n"
          ]
        },
        {
          "output_type": "stream",
          "name": "stdout",
          "text": [
            "0.38865577429533005\n",
            "[0.         0.         0.         0.00315237 0.00722226 0.00980052\n",
            " 0.00998884 0.01021606 0.0129396  0.01348314 0.01575936 0.01733199\n",
            " 0.01914756 0.02092616 0.0222942  0.02247124 0.02359576 0.02407061\n",
            " 0.02495132 0.02626871 0.0272446  0.02838493 0.02869901 0.02988211\n",
            " 0.03004457 0.03099658 0.03314263 0.0647673  0.10296012 0.11154331]\n",
            "Round 6 Train RMSE:  0.8240508184245867\n",
            "Round 6 Obj:  0.3686339596536462\n"
          ]
        },
        {
          "output_type": "stream",
          "name": "stderr",
          "text": [
            "100%|██████████| 1/1 [00:01<00:00,  1.72s/it]\n"
          ]
        },
        {
          "output_type": "stream",
          "name": "stdout",
          "text": [
            "0.43708715587854385\n",
            "[0.         0.         0.         0.         0.         0.\n",
            " 0.         0.         0.00220443 0.00334347 0.00646778 0.00883612\n",
            " 0.01145045 0.01388041 0.01617431 0.01697955 0.01802388 0.01900531\n",
            " 0.02001106 0.02176296 0.02345049 0.02519939 0.02531243 0.0269618\n",
            " 0.02739333 0.02843783 0.03114304 0.06658194 0.12221742 0.13070714]\n",
            "Round 7 Train RMSE:  0.7972966203185394\n",
            "Round 7 Obj:  0.35608412084489555\n"
          ]
        },
        {
          "output_type": "stream",
          "name": "stderr",
          "text": [
            "100%|██████████| 1/1 [00:02<00:00,  2.27s/it]\n"
          ]
        },
        {
          "output_type": "stream",
          "name": "stdout",
          "text": [
            "0.43631840497255325\n",
            "[0.         0.         0.         0.         0.         0.\n",
            " 0.         0.         0.         0.         0.         0.\n",
            " 0.0006563  0.00321481 0.0072157  0.00852046 0.0099357  0.01168961\n",
            " 0.01304704 0.01517384 0.01796619 0.01991557 0.02081039 0.02191801\n",
            " 0.02327488 0.02453815 0.02779062 0.06632651 0.14351436 0.15193138]\n",
            "Round 8 Train RMSE:  0.7730811327424677\n",
            "Round 8 Obj:  0.3448180066661957\n"
          ]
        },
        {
          "output_type": "stream",
          "name": "stderr",
          "text": [
            "100%|██████████| 1/1 [00:01<00:00,  1.46s/it]\n"
          ]
        },
        {
          "output_type": "stream",
          "name": "stdout",
          "text": [
            "0.4227588325738907\n",
            "[0.         0.         0.         0.         0.         0.\n",
            " 0.         0.         0.         0.         0.         0.\n",
            " 0.         0.         0.         0.         0.         0.00182769\n",
            " 0.00436582 0.00646392 0.01036111 0.01307493 0.01437747 0.01490571\n",
            " 0.01753984 0.01939827 0.02298725 0.0636216  0.16374281 0.17358854]\n",
            "Round 9 Train RMSE:  0.7513282602918502\n",
            "Round 9 Obj:  0.3346491431109745\n"
          ]
        },
        {
          "output_type": "stream",
          "name": "stderr",
          "text": [
            "100%|██████████| 1/1 [00:01<00:00,  1.59s/it]\n"
          ]
        },
        {
          "output_type": "stream",
          "name": "stdout",
          "text": [
            "0.3782619908452034\n",
            "[0.         0.         0.         0.         0.         0.\n",
            " 0.         0.         0.         0.         0.         0.\n",
            " 0.         0.         0.         0.         0.         0.\n",
            " 0.         0.         0.00060738 0.00407163 0.00571724 0.00756168\n",
            " 0.01052896 0.01319491 0.01685425 0.05872303 0.18191189 0.19454509]\n",
            "Round 10 Train RMSE:  0.7349879900995111\n",
            "Round 10 Obj:  0.32693116822294255\n"
          ]
        },
        {
          "output_type": "stream",
          "name": "stderr",
          "text": [
            "100%|██████████| 1/1 [00:01<00:00,  1.79s/it]\n"
          ]
        },
        {
          "output_type": "stream",
          "name": "stdout",
          "text": [
            "0.32418467104434967\n",
            "[0.         0.         0.         0.         0.         0.\n",
            " 0.         0.         0.         0.         0.         0.\n",
            " 0.         0.         0.         0.         0.         0.\n",
            " 0.         0.         0.         0.         0.         0.\n",
            " 0.00267086 0.00623029 0.00975687 0.05228692 0.19799533 0.21355608]\n",
            "Round 11 Train RMSE:  0.723337694334417\n",
            "Round 11 Obj:  0.3213703862958608\n"
          ]
        },
        {
          "output_type": "stream",
          "name": "stderr",
          "text": [
            "100%|██████████| 1/1 [00:01<00:00,  1.78s/it]\n"
          ]
        },
        {
          "output_type": "stream",
          "name": "stdout",
          "text": [
            "0.27285853400826454\n",
            "[0.         0.         0.         0.         0.         0.\n",
            " 0.         0.         0.         0.         0.         0.\n",
            " 0.         0.         0.         0.         0.         0.\n",
            " 0.         0.         0.         0.         0.         0.\n",
            " 0.         0.         0.00216516 0.04501098 0.21224606 0.2304298 ]\n",
            "Round 12 Train RMSE:  0.7154008820791338\n",
            "Round 12 Obj:  0.3175808745663452\n"
          ]
        },
        {
          "output_type": "stream",
          "name": "stderr",
          "text": [
            "100%|██████████| 1/1 [00:01<00:00,  1.58s/it]\n"
          ]
        },
        {
          "output_type": "stream",
          "name": "stdout",
          "text": [
            "0.22917352616786957\n",
            "[0.         0.         0.         0.         0.         0.\n",
            " 0.         0.         0.         0.         0.         0.\n",
            " 0.         0.         0.         0.         0.         0.\n",
            " 0.         0.         0.         0.         0.         0.\n",
            " 0.         0.         0.         0.03746232 0.22492042 0.24541315]\n",
            "Round 13 Train RMSE:  0.7098932590697996\n",
            "Round 13 Obj:  0.3149621090301782\n"
          ]
        },
        {
          "output_type": "stream",
          "name": "stderr",
          "text": [
            "100%|██████████| 1/1 [00:01<00:00,  2.00s/it]\n"
          ]
        },
        {
          "output_type": "stream",
          "name": "stdout",
          "text": [
            "0.20575381815433502\n",
            "[0.         0.         0.         0.         0.         0.\n",
            " 0.         0.         0.         0.         0.         0.\n",
            " 0.         0.         0.         0.         0.         0.\n",
            " 0.         0.         0.         0.         0.         0.\n",
            " 0.         0.         0.         0.03002552 0.23629788 0.25879475]\n",
            "Round 14 Train RMSE:  0.705588176153079\n",
            "Round 14 Obj:  0.3128977801370472\n"
          ]
        },
        {
          "output_type": "stream",
          "name": "stderr",
          "text": [
            "100%|██████████| 1/1 [00:02<00:00,  2.10s/it]\n"
          ]
        },
        {
          "output_type": "stream",
          "name": "stdout",
          "text": [
            "0.18683386966586113\n",
            "[0.         0.         0.         0.         0.         0.\n",
            " 0.         0.         0.         0.         0.         0.\n",
            " 0.         0.         0.         0.         0.         0.\n",
            " 0.         0.         0.         0.         0.         0.\n",
            " 0.         0.         0.         0.02283642 0.24662119 0.27087498]\n",
            "Round 15 Train RMSE:  0.702082770367543\n",
            "Round 15 Obj:  0.3111926821873119\n"
          ]
        },
        {
          "output_type": "stream",
          "name": "stderr",
          "text": [
            "100%|██████████| 1/1 [00:01<00:00,  1.63s/it]\n"
          ]
        },
        {
          "output_type": "stream",
          "name": "stdout",
          "text": [
            "0.17087144777178764\n",
            "[0.         0.         0.         0.         0.         0.\n",
            " 0.         0.         0.         0.         0.         0.\n",
            " 0.         0.         0.         0.         0.         0.\n",
            " 0.         0.         0.         0.         0.         0.\n",
            " 0.         0.         0.         0.01594536 0.25606865 0.28188244]\n",
            "Round 16 Train RMSE:  0.6991976927829286\n",
            "Round 16 Obj:  0.30976628440010917\n"
          ]
        },
        {
          "output_type": "stream",
          "name": "stderr",
          "text": [
            "100%|██████████| 1/1 [00:01<00:00,  1.77s/it]\n"
          ]
        },
        {
          "output_type": "stream",
          "name": "stdout",
          "text": [
            "0.1572774350643158\n",
            "[0.         0.         0.         0.         0.         0.\n",
            " 0.         0.         0.         0.         0.         0.\n",
            " 0.         0.         0.         0.         0.         0.\n",
            " 0.         0.         0.         0.         0.         0.\n",
            " 0.         0.         0.         0.00937209 0.26477155 0.29198804]\n",
            "Round 17 Train RMSE:  0.6967994067408523\n",
            "Round 17 Obj:  0.3085588439706561\n"
          ]
        },
        {
          "output_type": "stream",
          "name": "stderr",
          "text": [
            "100%|██████████| 1/1 [00:01<00:00,  1.75s/it]\n"
          ]
        },
        {
          "output_type": "stream",
          "name": "stdout",
          "text": [
            "0.1455757487565279\n",
            "[0.         0.         0.         0.         0.         0.\n",
            " 0.         0.         0.         0.         0.         0.\n",
            " 0.         0.         0.         0.         0.         0.\n",
            " 0.         0.         0.         0.         0.         0.\n",
            " 0.         0.         0.         0.00312825 0.27283135 0.30132344]\n",
            "Round 18 Train RMSE:  0.6947883853177484\n",
            "Round 18 Obj:  0.307525715970834\n"
          ]
        },
        {
          "output_type": "stream",
          "name": "stderr",
          "text": [
            "100%|██████████| 1/1 [00:01<00:00,  1.47s/it]\n"
          ]
        },
        {
          "output_type": "stream",
          "name": "stdout",
          "text": [
            "0.12582694180309772\n",
            "[0.         0.         0.         0.         0.         0.\n",
            " 0.         0.         0.         0.         0.         0.\n",
            " 0.         0.         0.         0.         0.         0.\n",
            " 0.         0.         0.         0.         0.         0.\n",
            " 0.         0.         0.         0.         0.2803294  0.30999327]\n",
            "Round 19 Train RMSE:  0.6932207871594925\n",
            "Round 19 Obj:  0.30671295302013624\n"
          ]
        },
        {
          "output_type": "stream",
          "name": "stderr",
          "text": [
            "100%|██████████| 1/1 [00:01<00:00,  1.53s/it]\n"
          ]
        },
        {
          "output_type": "stream",
          "name": "stdout",
          "text": [
            "0.11286760680377483\n",
            "[0.         0.         0.         0.         0.         0.\n",
            " 0.         0.         0.         0.         0.         0.\n",
            " 0.         0.         0.         0.         0.         0.\n",
            " 0.         0.         0.         0.         0.         0.\n",
            " 0.         0.         0.         0.         0.28728426 0.31805027]\n",
            "Round 20 Train RMSE:  0.6920278458701771\n",
            "Round 20 Obj:  0.30609638864854416\n"
          ]
        },
        {
          "output_type": "stream",
          "name": "stderr",
          "text": [
            "100%|██████████| 1/1 [00:02<00:00,  2.04s/it]\n"
          ]
        },
        {
          "output_type": "stream",
          "name": "stdout",
          "text": [
            "0.1043450366705656\n",
            "[0.         0.         0.         0.         0.         0.\n",
            " 0.         0.         0.         0.         0.         0.\n",
            " 0.         0.         0.         0.         0.         0.\n",
            " 0.         0.         0.         0.         0.         0.\n",
            " 0.         0.         0.         0.         0.2937141  0.32553813]\n",
            "Round 21 Train RMSE:  0.6910196646672337\n",
            "Round 21 Obj:  0.30556834787833526\n"
          ]
        },
        {
          "output_type": "stream",
          "name": "stderr",
          "text": [
            "100%|██████████| 1/1 [00:01<00:00,  1.89s/it]\n"
          ]
        },
        {
          "output_type": "stream",
          "name": "stdout",
          "text": [
            "0.09694586507976055\n",
            "[0.         0.         0.         0.         0.         0.\n",
            " 0.         0.         0.         0.         0.         0.\n",
            " 0.         0.         0.         0.         0.         0.\n",
            " 0.         0.         0.         0.         0.         0.\n",
            " 0.         0.         0.         0.         0.2996862  0.33252674]\n",
            "Round 22 Train RMSE:  0.6901591087037606\n",
            "Round 22 Obj:  0.3051117511902942\n"
          ]
        },
        {
          "output_type": "stream",
          "name": "stderr",
          "text": [
            "100%|██████████| 1/1 [00:01<00:00,  1.53s/it]\n"
          ]
        },
        {
          "output_type": "stream",
          "name": "stdout",
          "text": [
            "0.09045363403856754\n",
            "[0.         0.         0.         0.         0.         0.\n",
            " 0.         0.         0.         0.         0.         0.\n",
            " 0.         0.         0.         0.         0.         0.\n",
            " 0.         0.         0.         0.         0.         0.\n",
            " 0.         0.         0.         0.         0.30525538 0.33907378]\n",
            "Round 23 Train RMSE:  0.6894183123655943\n",
            "Round 23 Obj:  0.30471364910711934\n"
          ]
        },
        {
          "output_type": "stream",
          "name": "stderr",
          "text": [
            "100%|██████████| 1/1 [00:01<00:00,  1.46s/it]\n"
          ]
        },
        {
          "output_type": "stream",
          "name": "stdout",
          "text": [
            "0.08470780216157436\n",
            "[0.         0.         0.         0.         0.         0.\n",
            " 0.         0.         0.         0.         0.         0.\n",
            " 0.         0.         0.         0.         0.         0.\n",
            " 0.         0.         0.         0.         0.         0.\n",
            " 0.         0.         0.         0.         0.31046727 0.34522745]\n",
            "Round 24 Train RMSE:  0.6887760004697764\n",
            "Round 24 Obj:  0.30436406582785713\n"
          ]
        },
        {
          "output_type": "stream",
          "name": "stderr",
          "text": [
            "100%|██████████| 1/1 [00:01<00:00,  1.44s/it]\n"
          ]
        },
        {
          "output_type": "stream",
          "name": "stdout",
          "text": [
            "0.07958099246025085\n",
            "[0.         0.         0.         0.         0.         0.\n",
            " 0.         0.         0.         0.         0.         0.\n",
            " 0.         0.         0.         0.         0.         0.\n",
            " 0.         0.         0.         0.         0.         0.\n",
            " 0.         0.         0.         0.         0.31535998 0.35102817]\n",
            "Round 25 Train RMSE:  0.688215497364157\n",
            "Round 25 Obj:  0.3040551483891039\n"
          ]
        },
        {
          "output_type": "stream",
          "name": "stderr",
          "text": [
            "100%|██████████| 1/1 [00:01<00:00,  1.46s/it]\n"
          ]
        },
        {
          "output_type": "stream",
          "name": "stdout",
          "text": [
            "0.07497773505747318\n",
            "[0.        0.        0.        0.        0.        0.        0.\n",
            " 0.        0.        0.        0.        0.        0.        0.\n",
            " 0.        0.        0.        0.        0.        0.        0.\n",
            " 0.        0.        0.        0.        0.        0.        0.\n",
            " 0.3199656 0.3565106]\n",
            "Round 26 Train RMSE:  0.6877236507636323\n",
            "Round 26 Obj:  0.3037806447934629\n"
          ]
        },
        {
          "output_type": "stream",
          "name": "stderr",
          "text": [
            "100%|██████████| 1/1 [00:01<00:00,  1.46s/it]\n"
          ]
        },
        {
          "output_type": "stream",
          "name": "stdout",
          "text": [
            "0.07082041818648577\n",
            "[0.        0.        0.        0.        0.        0.        0.\n",
            " 0.        0.        0.        0.        0.        0.        0.\n",
            " 0.        0.        0.        0.        0.        0.        0.\n",
            " 0.        0.        0.        0.        0.        0.        0.\n",
            " 0.3243117 0.3617045]\n",
            "Round 27 Train RMSE:  0.6872899359064776\n",
            "Round 27 Obj:  0.3035354996458641\n"
          ]
        },
        {
          "output_type": "stream",
          "name": "stderr",
          "text": [
            "100%|██████████| 1/1 [00:01<00:00,  1.96s/it]\n"
          ]
        },
        {
          "output_type": "stream",
          "name": "stdout",
          "text": [
            "0.0670457724481821\n",
            "[0.         0.         0.         0.         0.         0.\n",
            " 0.         0.         0.         0.         0.         0.\n",
            " 0.         0.         0.         0.         0.         0.\n",
            " 0.         0.         0.         0.         0.         0.\n",
            " 0.         0.         0.         0.         0.32842207 0.36663535]\n",
            "Round 28 Train RMSE:  0.6869057839356965\n",
            "Round 28 Obj:  0.30331560776820166\n"
          ]
        },
        {
          "output_type": "stream",
          "name": "stderr",
          "text": [
            "100%|██████████| 1/1 [00:02<00:00,  2.21s/it]\n"
          ]
        },
        {
          "output_type": "stream",
          "name": "stdout",
          "text": [
            "0.06360526196658611\n",
            "[0.         0.         0.         0.         0.         0.\n",
            " 0.         0.         0.         0.         0.         0.\n",
            " 0.         0.         0.         0.         0.         0.\n",
            " 0.         0.         0.         0.         0.         0.\n",
            " 0.         0.         0.         0.         0.33231726 0.37132585]\n",
            "Round 29 Train RMSE:  0.6865641838691227\n",
            "Round 29 Obj:  0.30311755819396813\n"
          ]
        },
        {
          "output_type": "stream",
          "name": "stderr",
          "text": [
            "100%|██████████| 1/1 [00:01<00:00,  1.54s/it]\n"
          ]
        },
        {
          "output_type": "stream",
          "name": "stdout",
          "text": [
            "0.06045217625796795\n",
            "[0.         0.         0.         0.         0.         0.\n",
            " 0.         0.         0.         0.         0.         0.\n",
            " 0.         0.         0.         0.         0.         0.\n",
            " 0.         0.         0.         0.         0.         0.\n",
            " 0.         0.         0.         0.         0.3360152  0.37579525]\n",
            "Round 30 Train RMSE:  0.6862593225150159\n",
            "Round 30 Obj:  0.3029385265921987\n"
          ]
        },
        {
          "output_type": "stream",
          "name": "stderr",
          "text": [
            "100%|██████████| 1/1 [00:01<00:00,  1.44s/it]\n"
          ]
        },
        {
          "output_type": "stream",
          "name": "stdout",
          "text": [
            "0.05755397956818342\n",
            "[0.         0.         0.         0.         0.         0.\n",
            " 0.         0.         0.         0.         0.         0.\n",
            " 0.         0.         0.         0.         0.         0.\n",
            " 0.         0.         0.         0.         0.         0.\n",
            " 0.         0.         0.         0.         0.33953166 0.38006103]\n",
            "Round 31 Train RMSE:  0.6859863748109902\n",
            "Round 31 Obj:  0.30277613974601314\n"
          ]
        },
        {
          "output_type": "stream",
          "name": "stderr",
          "text": [
            "100%|██████████| 1/1 [00:01<00:00,  1.43s/it]\n"
          ]
        },
        {
          "output_type": "stream",
          "name": "stdout",
          "text": [
            "0.05488351918756962\n",
            "[0.         0.         0.         0.         0.         0.\n",
            " 0.         0.         0.         0.         0.         0.\n",
            " 0.         0.         0.         0.         0.         0.\n",
            " 0.         0.         0.         0.         0.         0.\n",
            " 0.         0.         0.         0.         0.34288067 0.38413876]\n",
            "Round 32 Train RMSE:  0.6857412581241259\n",
            "Round 32 Obj:  0.3026283781700788\n"
          ]
        },
        {
          "output_type": "stream",
          "name": "stderr",
          "text": [
            "100%|██████████| 1/1 [00:01<00:00,  1.61s/it]\n"
          ]
        },
        {
          "output_type": "stream",
          "name": "stdout",
          "text": [
            "0.05241100676357746\n",
            "[0.         0.         0.         0.         0.         0.\n",
            " 0.         0.         0.         0.         0.         0.\n",
            " 0.         0.         0.         0.         0.         0.\n",
            " 0.         0.         0.         0.         0.         0.\n",
            " 0.         0.         0.         0.         0.3460747  0.38804182]\n",
            "Round 33 Train RMSE:  0.6855205963840683\n",
            "Round 33 Obj:  0.30249356470412436\n"
          ]
        },
        {
          "output_type": "stream",
          "name": "stderr",
          "text": [
            "100%|██████████| 1/1 [00:01<00:00,  1.51s/it]\n"
          ]
        },
        {
          "output_type": "stream",
          "name": "stdout",
          "text": [
            "0.050117289647459984\n",
            "[0.         0.         0.         0.         0.         0.\n",
            " 0.         0.         0.         0.         0.         0.\n",
            " 0.         0.         0.         0.         0.         0.\n",
            " 0.         0.         0.         0.         0.         0.\n",
            " 0.         0.         0.         0.         0.3491248  0.39178267]\n",
            "Round 34 Train RMSE:  0.6853214197955427\n",
            "Round 34 Obj:  0.30237023208632685\n"
          ]
        },
        {
          "output_type": "stream",
          "name": "stderr",
          "text": [
            "100%|██████████| 1/1 [00:01<00:00,  1.43s/it]\n"
          ]
        },
        {
          "output_type": "stream",
          "name": "stdout",
          "text": [
            "0.04798418376594782\n",
            "[0.         0.         0.         0.         0.         0.\n",
            " 0.         0.         0.         0.         0.         0.\n",
            " 0.         0.         0.         0.         0.         0.\n",
            " 0.         0.         0.         0.         0.         0.\n",
            " 0.         0.         0.         0.         0.35204092 0.39537224]\n",
            "Round 35 Train RMSE:  0.6851412326388732\n",
            "Round 35 Obj:  0.30225710395456684\n"
          ]
        },
        {
          "output_type": "stream",
          "name": "stderr",
          "text": [
            "100%|██████████| 1/1 [00:02<00:00,  2.35s/it]\n"
          ]
        },
        {
          "output_type": "stream",
          "name": "stdout",
          "text": [
            "0.04599317908287048\n",
            "[0.         0.         0.         0.         0.         0.\n",
            " 0.         0.         0.         0.         0.         0.\n",
            " 0.         0.         0.         0.         0.         0.\n",
            " 0.         0.         0.         0.         0.         0.\n",
            " 0.         0.         0.         0.         0.354832   0.39882037]\n",
            "Round 36 Train RMSE:  0.6849779327585556\n",
            "Round 36 Obj:  0.302153144841336\n"
          ]
        },
        {
          "output_type": "stream",
          "name": "stderr",
          "text": [
            "100%|██████████| 1/1 [00:01<00:00,  1.68s/it]\n"
          ]
        },
        {
          "output_type": "stream",
          "name": "stdout",
          "text": [
            "0.044135069474577904\n",
            "[0.         0.         0.         0.         0.         0.\n",
            " 0.         0.         0.         0.         0.         0.\n",
            " 0.         0.         0.         0.         0.         0.\n",
            " 0.         0.         0.         0.         0.         0.\n",
            " 0.         0.         0.         0.         0.35750636 0.40213624]\n",
            "Round 37 Train RMSE:  0.6848296079628592\n",
            "Round 37 Obj:  0.30205736065453803\n"
          ]
        },
        {
          "output_type": "stream",
          "name": "stderr",
          "text": [
            "100%|██████████| 1/1 [00:01<00:00,  1.48s/it]\n"
          ]
        },
        {
          "output_type": "stream",
          "name": "stdout",
          "text": [
            "0.04239262081682682\n",
            "[0.         0.         0.         0.         0.         0.\n",
            " 0.         0.         0.         0.         0.         0.\n",
            " 0.         0.         0.         0.         0.         0.\n",
            " 0.         0.         0.         0.         0.         0.\n",
            " 0.         0.         0.         0.         0.3600712  0.40532774]\n",
            "Round 38 Train RMSE:  0.6846946979827269\n",
            "Round 38 Obj:  0.30196896297450443\n"
          ]
        },
        {
          "output_type": "stream",
          "name": "stderr",
          "text": [
            "100%|██████████| 1/1 [00:01<00:00,  1.69s/it]\n"
          ]
        },
        {
          "output_type": "stream",
          "name": "stdout",
          "text": [
            "0.040757996030151844\n",
            "[0.         0.         0.         0.         0.         0.\n",
            " 0.         0.         0.         0.         0.         0.\n",
            " 0.         0.         0.         0.         0.         0.\n",
            " 0.         0.         0.         0.         0.         0.\n",
            " 0.         0.         0.         0.         0.3625333  0.40840247]\n",
            "Round 39 Train RMSE:  0.6845717570480577\n",
            "Round 39 Obj:  0.30188721522402956\n"
          ]
        },
        {
          "output_type": "stream",
          "name": "stderr",
          "text": [
            "100%|██████████| 1/1 [00:01<00:00,  1.78s/it]\n"
          ]
        },
        {
          "output_type": "stream",
          "name": "stdout",
          "text": [
            "0.03921901807188988\n",
            "[0.         0.         0.         0.         0.         0.\n",
            " 0.         0.         0.         0.         0.         0.\n",
            " 0.         0.         0.         0.         0.         0.\n",
            " 0.         0.         0.         0.         0.         0.\n",
            " 0.         0.         0.         0.         0.3648985  0.41136706]\n",
            "Round 40 Train RMSE:  0.6844596105476093\n",
            "Round 40 Obj:  0.3018114979321494\n"
          ]
        },
        {
          "output_type": "stream",
          "name": "stderr",
          "text": [
            "100%|██████████| 1/1 [00:01<00:00,  1.59s/it]\n"
          ]
        },
        {
          "output_type": "stream",
          "name": "stdout",
          "text": [
            "0.03777211997658014\n",
            "[0.        0.        0.        0.        0.        0.        0.\n",
            " 0.        0.        0.        0.        0.        0.        0.\n",
            " 0.        0.        0.        0.        0.        0.        0.\n",
            " 0.        0.        0.        0.        0.        0.        0.\n",
            " 0.3671727 0.4142279]\n",
            "Round 41 Train RMSE:  0.6843571360617506\n",
            "Round 41 Obj:  0.3017412423968903\n"
          ]
        },
        {
          "output_type": "stream",
          "name": "stderr",
          "text": [
            "100%|██████████| 1/1 [00:01<00:00,  1.97s/it]\n"
          ]
        },
        {
          "output_type": "stream",
          "name": "stdout",
          "text": [
            "0.036407168954610825\n",
            "[0.         0.         0.         0.         0.         0.\n",
            " 0.         0.         0.         0.         0.         0.\n",
            " 0.         0.         0.         0.         0.         0.\n",
            " 0.         0.         0.         0.         0.         0.\n",
            " 0.         0.         0.         0.         0.36936092 0.41699073]\n",
            "Round 42 Train RMSE:  0.6842634434703719\n",
            "Round 42 Obj:  0.30167596993961215\n"
          ]
        },
        {
          "output_type": "stream",
          "name": "stderr",
          "text": [
            "100%|██████████| 1/1 [00:02<00:00,  2.07s/it]\n"
          ]
        },
        {
          "output_type": "stream",
          "name": "stdout",
          "text": [
            "0.03511513350531459\n",
            "[0.         0.         0.         0.         0.         0.\n",
            " 0.         0.         0.         0.         0.         0.\n",
            " 0.         0.         0.         0.         0.         0.\n",
            " 0.         0.         0.         0.         0.         0.\n",
            " 0.         0.         0.         0.         0.37146786 0.4196606 ]\n",
            "Round 43 Train RMSE:  0.6841775974009946\n",
            "Round 43 Obj:  0.30161520436892936\n"
          ]
        },
        {
          "output_type": "stream",
          "name": "stderr",
          "text": [
            "100%|██████████| 1/1 [00:01<00:00,  1.49s/it]\n"
          ]
        },
        {
          "output_type": "stream",
          "name": "stdout",
          "text": [
            "0.03389426972717047\n",
            "[0.         0.         0.         0.         0.         0.\n",
            " 0.         0.         0.         0.         0.         0.\n",
            " 0.         0.         0.         0.         0.         0.\n",
            " 0.         0.         0.         0.         0.         0.\n",
            " 0.         0.         0.         0.         0.37349793 0.42224252]\n",
            "Round 44 Train RMSE:  0.6840989484853918\n",
            "Round 44 Obj:  0.30155858809403524\n"
          ]
        },
        {
          "output_type": "stream",
          "name": "stderr",
          "text": [
            "100%|██████████| 1/1 [00:01<00:00,  1.47s/it]\n"
          ]
        },
        {
          "output_type": "stream",
          "name": "stdout",
          "text": [
            "0.03273774171248078\n",
            "[0.         0.         0.         0.         0.         0.\n",
            " 0.         0.         0.         0.         0.         0.\n",
            " 0.         0.         0.         0.         0.         0.\n",
            " 0.         0.         0.         0.         0.         0.\n",
            " 0.         0.         0.         0.         0.37545523 0.42474094]\n",
            "Round 45 Train RMSE:  0.6840267814813914\n",
            "Round 45 Obj:  0.30150575162143445\n"
          ]
        },
        {
          "output_type": "stream",
          "name": "stderr",
          "text": [
            "100%|██████████| 1/1 [00:01<00:00,  1.66s/it]\n"
          ]
        },
        {
          "output_type": "stream",
          "name": "stdout",
          "text": [
            "0.03163915127515793\n",
            "[0.         0.         0.         0.         0.         0.\n",
            " 0.         0.         0.         0.         0.         0.\n",
            " 0.         0.         0.         0.         0.         0.\n",
            " 0.         0.         0.         0.         0.         0.\n",
            " 0.         0.         0.         0.         0.37734342 0.42715994]\n",
            "Round 46 Train RMSE:  0.6839605436241091\n",
            "Round 46 Obj:  0.3014563932675217\n"
          ]
        },
        {
          "output_type": "stream",
          "name": "stderr",
          "text": [
            "100%|██████████| 1/1 [00:01<00:00,  1.45s/it]\n"
          ]
        },
        {
          "output_type": "stream",
          "name": "stdout",
          "text": [
            "0.03059556009247899\n",
            "[0.         0.         0.         0.         0.         0.\n",
            " 0.         0.         0.         0.         0.         0.\n",
            " 0.         0.         0.         0.         0.         0.\n",
            " 0.         0.         0.         0.         0.         0.\n",
            " 0.         0.         0.         0.         0.37916583 0.42950344]\n",
            "Round 47 Train RMSE:  0.6838996924313405\n",
            "Round 47 Obj:  0.30141022515121896\n"
          ]
        },
        {
          "output_type": "stream",
          "name": "stderr",
          "text": [
            "100%|██████████| 1/1 [00:01<00:00,  1.60s/it]\n"
          ]
        },
        {
          "output_type": "stream",
          "name": "stdout",
          "text": [
            "0.029604395385831594\n",
            "[0.         0.         0.         0.         0.         0.\n",
            " 0.         0.         0.         0.         0.         0.\n",
            " 0.         0.         0.         0.         0.         0.\n",
            " 0.         0.         0.         0.         0.         0.\n",
            " 0.         0.         0.         0.         0.38092583 0.4317751 ]\n",
            "Round 48 Train RMSE:  0.6838437345782342\n",
            "Round 48 Obj:  0.30136698210093404\n"
          ]
        },
        {
          "output_type": "stream",
          "name": "stderr",
          "text": [
            "100%|██████████| 1/1 [00:01<00:00,  1.51s/it]\n"
          ]
        },
        {
          "output_type": "stream",
          "name": "stdout",
          "text": [
            "0.028660357929766178\n",
            "[0.         0.         0.         0.         0.         0.\n",
            " 0.         0.         0.         0.         0.         0.\n",
            " 0.         0.         0.         0.         0.         0.\n",
            " 0.         0.         0.         0.         0.         0.\n",
            " 0.         0.         0.         0.         0.38262653 0.4339781 ]\n",
            "Round 49 Train RMSE:  0.6837923046605748\n",
            "Round 49 Obj:  0.30132646071012137\n"
          ]
        },
        {
          "output_type": "stream",
          "name": "stderr",
          "text": [
            "100%|██████████| 1/1 [00:02<00:00,  2.11s/it]\n"
          ]
        },
        {
          "output_type": "stream",
          "name": "stdout",
          "text": [
            "0.02775935921818018\n",
            "[0.         0.         0.         0.         0.         0.\n",
            " 0.         0.         0.         0.         0.         0.\n",
            " 0.         0.         0.         0.         0.         0.\n",
            " 0.         0.         0.         0.         0.         0.\n",
            " 0.         0.         0.         0.         0.3842705  0.43611562]\n",
            "Round 50 Train RMSE:  0.6837449586539937\n",
            "Round 50 Obj:  0.3012884271048389\n"
          ]
        },
        {
          "output_type": "stream",
          "name": "stderr",
          "text": [
            "100%|██████████| 1/1 [00:01<00:00,  1.59s/it]\n"
          ]
        },
        {
          "output_type": "stream",
          "name": "stdout",
          "text": [
            "0.026901913806796074\n",
            "[0.         0.         0.         0.         0.         0.\n",
            " 0.         0.         0.         0.         0.         0.\n",
            " 0.         0.         0.         0.         0.         0.\n",
            " 0.         0.         0.         0.         0.         0.\n",
            " 0.         0.         0.         0.         0.38586047 0.43819076]\n",
            "Round 51 Train RMSE:  0.6837014117135471\n",
            "Round 51 Obj:  0.30125271034890155\n"
          ]
        },
        {
          "output_type": "stream",
          "name": "stderr",
          "text": [
            "100%|██████████| 1/1 [00:01<00:00,  1.46s/it]\n"
          ]
        },
        {
          "output_type": "stream",
          "name": "stdout",
          "text": [
            "0.026082254480570555\n",
            "[0.         0.         0.         0.         0.         0.\n",
            " 0.         0.         0.         0.         0.         0.\n",
            " 0.         0.         0.         0.         0.         0.\n",
            " 0.         0.         0.         0.         0.         0.\n",
            " 0.         0.         0.         0.         0.38739905 0.440206  ]\n",
            "Round 52 Train RMSE:  0.683661269697359\n",
            "Round 52 Obj:  0.3012191154500412\n"
          ]
        },
        {
          "output_type": "stream",
          "name": "stderr",
          "text": [
            "100%|██████████| 1/1 [00:01<00:00,  1.48s/it]\n"
          ]
        },
        {
          "output_type": "stream",
          "name": "stdout",
          "text": [
            "0.02529691904783249\n",
            "[0.         0.         0.         0.         0.         0.\n",
            " 0.         0.         0.         0.         0.         0.\n",
            " 0.         0.         0.         0.         0.         0.\n",
            " 0.         0.         0.         0.         0.         0.\n",
            " 0.         0.         0.         0.         0.38888812 0.44216394]\n",
            "Round 53 Train RMSE:  0.6836243504972245\n",
            "Round 53 Obj:  0.3011875258537401\n"
          ]
        },
        {
          "output_type": "stream",
          "name": "stderr",
          "text": [
            "100%|██████████| 1/1 [00:01<00:00,  1.65s/it]\n"
          ]
        },
        {
          "output_type": "stream",
          "name": "stdout",
          "text": [
            "0.02454772125929594\n",
            "[0.         0.         0.         0.         0.         0.\n",
            " 0.         0.         0.         0.         0.         0.\n",
            " 0.         0.         0.         0.         0.         0.\n",
            " 0.         0.         0.         0.         0.         0.\n",
            " 0.         0.         0.         0.         0.39033008 0.44406712]\n",
            "Round 54 Train RMSE:  0.6835903407801415\n",
            "Round 54 Obj:  0.30115776791330884\n"
          ]
        },
        {
          "output_type": "stream",
          "name": "stderr",
          "text": [
            "100%|██████████| 1/1 [00:01<00:00,  1.63s/it]\n"
          ]
        },
        {
          "output_type": "stream",
          "name": "stdout",
          "text": [
            "0.02382824895903468\n",
            "[0.        0.        0.        0.        0.        0.        0.\n",
            " 0.        0.        0.        0.        0.        0.        0.\n",
            " 0.        0.        0.        0.        0.        0.        0.\n",
            " 0.        0.        0.        0.        0.        0.        0.\n",
            " 0.3917269 0.4459176]\n",
            "Round 55 Train RMSE:  0.6835590112846478\n",
            "Round 55 Obj:  0.3011297110117861\n"
          ]
        },
        {
          "output_type": "stream",
          "name": "stderr",
          "text": [
            "100%|██████████| 1/1 [00:02<00:00,  2.06s/it]\n"
          ]
        },
        {
          "output_type": "stream",
          "name": "stdout",
          "text": [
            "0.023142576683312654\n",
            "[0.         0.         0.         0.         0.         0.\n",
            " 0.         0.         0.         0.         0.         0.\n",
            " 0.         0.         0.         0.         0.         0.\n",
            " 0.         0.         0.         0.         0.         0.\n",
            " 0.         0.         0.         0.         0.39308056 0.44771785]\n",
            "Round 56 Train RMSE:  0.6835301531981623\n",
            "Round 56 Obj:  0.3011032530698674\n"
          ]
        },
        {
          "output_type": "stream",
          "name": "stderr",
          "text": [
            "100%|██████████| 1/1 [00:02<00:00,  2.06s/it]\n"
          ]
        },
        {
          "output_type": "stream",
          "name": "stdout",
          "text": [
            "0.022481498308479786\n",
            "[0.        0.        0.        0.        0.        0.        0.\n",
            " 0.        0.        0.        0.        0.        0.        0.\n",
            " 0.        0.        0.        0.        0.        0.        0.\n",
            " 0.        0.        0.        0.        0.        0.        0.\n",
            " 0.3943928 0.4494695]\n",
            "Round 57 Train RMSE:  0.6835036113117116\n",
            "Round 57 Obj:  0.30107828109516627\n"
          ]
        },
        {
          "output_type": "stream",
          "name": "stderr",
          "text": [
            "100%|██████████| 1/1 [00:01<00:00,  1.84s/it]\n"
          ]
        },
        {
          "output_type": "stream",
          "name": "stdout",
          "text": [
            "0.021851174533367157\n",
            "[0.         0.         0.         0.         0.         0.\n",
            " 0.         0.         0.         0.         0.         0.\n",
            " 0.         0.         0.         0.         0.         0.\n",
            " 0.         0.         0.         0.         0.         0.\n",
            " 0.         0.         0.         0.         0.3956654  0.45117486]\n",
            "Round 58 Train RMSE:  0.6834791603752042\n",
            "Round 58 Obj:  0.3010546912468358\n"
          ]
        },
        {
          "output_type": "stream",
          "name": "stderr",
          "text": [
            "100%|██████████| 1/1 [00:01<00:00,  1.74s/it]\n"
          ]
        },
        {
          "output_type": "stream",
          "name": "stdout",
          "text": [
            "0.02124213147908449\n",
            "[0.         0.         0.         0.         0.         0.\n",
            " 0.         0.         0.         0.         0.         0.\n",
            " 0.         0.         0.         0.         0.         0.\n",
            " 0.         0.         0.         0.         0.         0.\n",
            " 0.         0.         0.         0.         0.39689982 0.45283535]\n",
            "Round 59 Train RMSE:  0.6834566939182732\n",
            "Round 59 Obj:  0.3010323947353215\n"
          ]
        },
        {
          "output_type": "stream",
          "name": "stderr",
          "text": [
            "100%|██████████| 1/1 [00:01<00:00,  1.47s/it]\n"
          ]
        },
        {
          "output_type": "stream",
          "name": "stdout",
          "text": [
            "0.020656604319810867\n",
            "[0.        0.        0.        0.        0.        0.        0.\n",
            " 0.        0.        0.        0.        0.        0.        0.\n",
            " 0.        0.        0.        0.        0.        0.        0.\n",
            " 0.        0.        0.        0.        0.        0.        0.\n",
            " 0.3980977 0.4544525]\n",
            "Round 60 Train RMSE:  0.6834359785178505\n",
            "Round 60 Obj:  0.3010112859609142\n"
          ]
        },
        {
          "output_type": "stream",
          "name": "stderr",
          "text": [
            "100%|██████████| 1/1 [00:01<00:00,  1.69s/it]\n"
          ]
        },
        {
          "output_type": "stream",
          "name": "stdout",
          "text": [
            "0.020095405634492636\n",
            "[0.         0.         0.         0.         0.         0.\n",
            " 0.         0.         0.         0.         0.         0.\n",
            " 0.         0.         0.         0.         0.         0.\n",
            " 0.         0.         0.         0.         0.         0.\n",
            " 0.         0.         0.         0.         0.39926022 0.45602846]\n",
            "Round 61 Train RMSE:  0.6834169703873813\n",
            "Round 61 Obj:  0.30099132648628735\n"
          ]
        },
        {
          "output_type": "stream",
          "name": "stderr",
          "text": [
            "100%|██████████| 1/1 [00:01<00:00,  1.65s/it]\n"
          ]
        },
        {
          "output_type": "stream",
          "name": "stdout",
          "text": [
            "0.019553981255739927\n",
            "[0.         0.         0.         0.         0.         0.\n",
            " 0.         0.         0.         0.         0.         0.\n",
            " 0.         0.         0.         0.         0.         0.\n",
            " 0.         0.         0.         0.         0.         0.\n",
            " 0.         0.         0.         0.         0.40038884 0.45756435]\n",
            "Round 62 Train RMSE:  0.6833995188004627\n",
            "Round 62 Obj:  0.3009724193914684\n"
          ]
        },
        {
          "output_type": "stream",
          "name": "stderr",
          "text": [
            "100%|██████████| 1/1 [00:01<00:00,  1.64s/it]\n"
          ]
        },
        {
          "output_type": "stream",
          "name": "stdout",
          "text": [
            "0.019033984281122684\n",
            "[0.         0.         0.         0.         0.         0.\n",
            " 0.         0.         0.         0.         0.         0.\n",
            " 0.         0.         0.         0.         0.         0.\n",
            " 0.         0.         0.         0.         0.         0.\n",
            " 0.         0.         0.         0.         0.40148503 0.45906168]\n",
            "Round 63 Train RMSE:  0.6833835092088627\n",
            "Round 63 Obj:  0.3009545104478577\n"
          ]
        },
        {
          "output_type": "stream",
          "name": "stderr",
          "text": [
            "100%|██████████| 1/1 [00:02<00:00,  2.12s/it]\n"
          ]
        },
        {
          "output_type": "stream",
          "name": "stdout",
          "text": [
            "0.018533446127548814\n",
            "[0.         0.         0.         0.         0.         0.\n",
            " 0.         0.         0.         0.         0.         0.\n",
            " 0.         0.         0.         0.         0.         0.\n",
            " 0.         0.         0.         0.         0.         0.\n",
            " 0.         0.         0.         0.         0.40254974 0.460522  ]\n",
            "Round 64 Train RMSE:  0.6833688071255886\n",
            "Round 64 Obj:  0.3009375195280771\n"
          ]
        },
        {
          "output_type": "stream",
          "name": "stderr",
          "text": [
            "100%|██████████| 1/1 [00:01<00:00,  1.51s/it]\n"
          ]
        },
        {
          "output_type": "stream",
          "name": "stdout",
          "text": [
            "0.01805022358894348\n",
            "[0.         0.         0.         0.         0.         0.\n",
            " 0.         0.         0.         0.         0.         0.\n",
            " 0.         0.         0.         0.         0.         0.\n",
            " 0.         0.         0.         0.         0.         0.\n",
            " 0.         0.         0.         0.         0.40358436 0.46194643]\n",
            "Round 65 Train RMSE:  0.6833553729702618\n",
            "Round 65 Obj:  0.30092140650424853\n"
          ]
        },
        {
          "output_type": "stream",
          "name": "stderr",
          "text": [
            "100%|██████████| 1/1 [00:01<00:00,  1.64s/it]\n"
          ]
        },
        {
          "output_type": "stream",
          "name": "stdout",
          "text": [
            "0.017583498265594244\n",
            "[0.         0.         0.         0.         0.         0.\n",
            " 0.         0.         0.         0.         0.         0.\n",
            " 0.         0.         0.         0.         0.         0.\n",
            " 0.         0.         0.         0.         0.         0.\n",
            " 0.         0.         0.         0.         0.40458977 0.46333623]\n",
            "Round 66 Train RMSE:  0.6833430508797804\n",
            "Round 66 Obj:  0.3009061069883521\n"
          ]
        },
        {
          "output_type": "stream",
          "name": "stderr",
          "text": [
            "100%|██████████| 1/1 [00:01<00:00,  1.58s/it]\n"
          ]
        },
        {
          "output_type": "stream",
          "name": "stdout",
          "text": [
            "0.01713510835543275\n",
            "[0.         0.         0.         0.         0.         0.\n",
            " 0.         0.         0.         0.         0.         0.\n",
            " 0.         0.         0.         0.         0.         0.\n",
            " 0.         0.         0.         0.         0.         0.\n",
            " 0.         0.         0.         0.         0.40556726 0.46469262]\n",
            "Round 67 Train RMSE:  0.6833318492018376\n",
            "Round 67 Obj:  0.3008915952006131\n"
          ]
        },
        {
          "output_type": "stream",
          "name": "stderr",
          "text": [
            "100%|██████████| 1/1 [00:01<00:00,  1.53s/it]\n"
          ]
        },
        {
          "output_type": "stream",
          "name": "stdout",
          "text": [
            "0.016700733685866\n",
            "[0.         0.         0.         0.         0.         0.\n",
            " 0.         0.         0.         0.         0.         0.\n",
            " 0.         0.         0.         0.         0.         0.\n",
            " 0.         0.         0.         0.         0.         0.\n",
            " 0.         0.         0.         0.         0.40651768 0.4660166 ]\n",
            "Round 68 Train RMSE:  0.6833215987032355\n",
            "Round 68 Obj:  0.30087779216874816\n"
          ]
        },
        {
          "output_type": "stream",
          "name": "stderr",
          "text": [
            "100%|██████████| 1/1 [00:01<00:00,  1.61s/it]\n"
          ]
        },
        {
          "output_type": "stream",
          "name": "stdout",
          "text": [
            "0.016281072748824954\n",
            "[0.         0.         0.         0.         0.         0.\n",
            " 0.         0.         0.         0.         0.         0.\n",
            " 0.         0.         0.         0.         0.         0.\n",
            " 0.         0.         0.         0.         0.         0.\n",
            " 0.         0.         0.         0.         0.4074421  0.46730924]\n",
            "Round 69 Train RMSE:  0.6833122675949903\n",
            "Round 69 Obj:  0.30086467352414703\n"
          ]
        },
        {
          "output_type": "stream",
          "name": "stderr",
          "text": [
            "100%|██████████| 1/1 [00:01<00:00,  1.98s/it]\n"
          ]
        },
        {
          "output_type": "stream",
          "name": "stdout",
          "text": [
            "0.015877147670835257\n",
            "[0.         0.         0.         0.         0.         0.\n",
            " 0.         0.         0.         0.         0.         0.\n",
            " 0.         0.         0.         0.         0.         0.\n",
            " 0.         0.         0.         0.         0.         0.\n",
            " 0.         0.         0.         0.         0.40834126 0.46857175]\n",
            "Round 70 Train RMSE:  0.683303820424862\n",
            "Round 70 Obj:  0.30085220190727396\n"
          ]
        },
        {
          "output_type": "stream",
          "name": "stderr",
          "text": [
            "100%|██████████| 1/1 [00:02<00:00,  2.29s/it]\n"
          ]
        },
        {
          "output_type": "stream",
          "name": "stdout",
          "text": [
            "0.015486081829294562\n",
            "[0.         0.         0.         0.         0.         0.\n",
            " 0.         0.         0.         0.         0.         0.\n",
            " 0.         0.         0.         0.         0.         0.\n",
            " 0.         0.         0.         0.         0.         0.\n",
            " 0.         0.         0.         0.         0.40921608 0.469805  ]\n",
            "Round 71 Train RMSE:  0.6832961487298376\n",
            "Round 71 Obj:  0.30084033382650205\n"
          ]
        },
        {
          "output_type": "stream",
          "name": "stderr",
          "text": [
            "100%|██████████| 1/1 [00:01<00:00,  1.79s/it]\n"
          ]
        },
        {
          "output_type": "stream",
          "name": "stdout",
          "text": [
            "0.015107799554243684\n",
            "[0.         0.         0.         0.         0.         0.\n",
            " 0.         0.         0.         0.         0.         0.\n",
            " 0.         0.         0.         0.         0.         0.\n",
            " 0.         0.         0.         0.         0.         0.\n",
            " 0.         0.         0.         0.         0.41006744 0.47100997]\n",
            "Round 72 Train RMSE:  0.6832892225736835\n",
            "Round 72 Obj:  0.30082903678311246\n"
          ]
        },
        {
          "output_type": "stream",
          "name": "stderr",
          "text": [
            "100%|██████████| 1/1 [00:01<00:00,  1.50s/it]\n"
          ]
        },
        {
          "output_type": "stream",
          "name": "stdout",
          "text": [
            "0.014741489430889487\n",
            "[0.         0.         0.         0.         0.         0.\n",
            " 0.         0.         0.         0.         0.         0.\n",
            " 0.         0.         0.         0.         0.         0.\n",
            " 0.         0.         0.         0.         0.         0.\n",
            " 0.         0.         0.         0.         0.41089597 0.4721875 ]\n",
            "Round 73 Train RMSE:  0.6832829759125509\n",
            "Round 73 Obj:  0.3008182713029904\n"
          ]
        },
        {
          "output_type": "stream",
          "name": "stderr",
          "text": [
            "100%|██████████| 1/1 [00:01<00:00,  1.94s/it]\n"
          ]
        },
        {
          "output_type": "stream",
          "name": "stdout",
          "text": [
            "0.014386593829840422\n",
            "[0.         0.         0.         0.         0.         0.\n",
            " 0.         0.         0.         0.         0.         0.\n",
            " 0.         0.         0.         0.         0.         0.\n",
            " 0.         0.         0.         0.         0.         0.\n",
            " 0.         0.         0.         0.         0.41170263 0.4733383 ]\n",
            "Round 74 Train RMSE:  0.6832774096719504\n",
            "Round 74 Obj:  0.3008080270801192\n"
          ]
        },
        {
          "output_type": "stream",
          "name": "stderr",
          "text": [
            "100%|██████████| 1/1 [00:02<00:00,  2.20s/it]\n"
          ]
        },
        {
          "output_type": "stream",
          "name": "stdout",
          "text": [
            "0.01404393813572824\n",
            "[0.         0.         0.         0.         0.         0.\n",
            " 0.         0.         0.         0.         0.         0.\n",
            " 0.         0.         0.         0.         0.         0.\n",
            " 0.         0.         0.         0.         0.         0.\n",
            " 0.         0.         0.         0.         0.41248792 0.47446343]\n",
            "Round 75 Train RMSE:  0.6832724355919666\n",
            "Round 75 Obj:  0.30079826319606123\n"
          ]
        },
        {
          "output_type": "stream",
          "name": "stderr",
          "text": [
            "100%|██████████| 1/1 [00:01<00:00,  1.87s/it]\n"
          ]
        },
        {
          "output_type": "stream",
          "name": "stdout",
          "text": [
            "0.013711113715544343\n",
            "[0.         0.         0.         0.         0.         0.\n",
            " 0.         0.         0.         0.         0.         0.\n",
            " 0.         0.         0.         0.         0.         0.\n",
            " 0.         0.         0.         0.         0.         0.\n",
            " 0.         0.         0.         0.         0.41325265 0.47556347]\n",
            "Round 76 Train RMSE:  0.6832680142566744\n",
            "Round 76 Obj:  0.3007889614610577\n"
          ]
        },
        {
          "output_type": "stream",
          "name": "stderr",
          "text": [
            "100%|██████████| 1/1 [00:02<00:00,  2.14s/it]\n"
          ]
        },
        {
          "output_type": "stream",
          "name": "stdout",
          "text": [
            "0.013389617670327425\n",
            "[0.         0.         0.         0.         0.         0.\n",
            " 0.         0.         0.         0.         0.         0.\n",
            " 0.         0.         0.         0.         0.         0.\n",
            " 0.         0.         0.         0.         0.         0.\n",
            " 0.         0.         0.         0.         0.4139976  0.47663927]\n",
            "Round 77 Train RMSE:  0.6832641084070306\n",
            "Round 77 Obj:  0.30078007368388515\n"
          ]
        },
        {
          "output_type": "stream",
          "name": "stderr",
          "text": [
            "100%|██████████| 1/1 [00:01<00:00,  1.55s/it]\n"
          ]
        },
        {
          "output_type": "stream",
          "name": "stdout",
          "text": [
            "0.013077560579404235\n",
            "[0.         0.         0.         0.         0.         0.\n",
            " 0.         0.         0.         0.         0.         0.\n",
            " 0.         0.         0.         0.         0.         0.\n",
            " 0.         0.         0.         0.         0.         0.\n",
            " 0.         0.         0.         0.         0.41472328 0.47769147]\n",
            "Round 78 Train RMSE:  0.6832606856934945\n",
            "Round 78 Obj:  0.30077160837989053\n"
          ]
        },
        {
          "output_type": "stream",
          "name": "stderr",
          "text": [
            "100%|██████████| 1/1 [00:01<00:00,  1.69s/it]\n"
          ]
        },
        {
          "output_type": "stream",
          "name": "stdout",
          "text": [
            "0.012774249771609902\n",
            "[0.         0.         0.         0.         0.         0.\n",
            " 0.         0.         0.         0.         0.         0.\n",
            " 0.         0.         0.         0.         0.         0.\n",
            " 0.         0.         0.         0.         0.         0.\n",
            " 0.         0.         0.         0.         0.41543025 0.47872078]\n",
            "Round 79 Train RMSE:  0.6832577537540102\n",
            "Round 79 Obj:  0.3007635303941759\n"
          ]
        },
        {
          "output_type": "stream",
          "name": "stderr",
          "text": [
            "100%|██████████| 1/1 [00:01<00:00,  1.65s/it]\n"
          ]
        },
        {
          "output_type": "stream",
          "name": "stdout",
          "text": [
            "0.012481663143262267\n",
            "[0.         0.         0.         0.         0.         0.\n",
            " 0.         0.         0.         0.         0.         0.\n",
            " 0.         0.         0.         0.         0.         0.\n",
            " 0.         0.         0.         0.         0.         0.\n",
            " 0.         0.         0.         0.         0.41611916 0.47972792]\n",
            "Round 80 Train RMSE:  0.6832552031113196\n",
            "Round 80 Obj:  0.30075581257084794\n"
          ]
        },
        {
          "output_type": "stream",
          "name": "stderr",
          "text": [
            "100%|██████████| 1/1 [00:01<00:00,  1.45s/it]\n"
          ]
        },
        {
          "output_type": "stream",
          "name": "stdout",
          "text": [
            "0.012198234908282757\n",
            "[0.         0.         0.         0.         0.         0.\n",
            " 0.         0.         0.         0.         0.         0.\n",
            " 0.         0.         0.         0.         0.         0.\n",
            " 0.         0.         0.         0.         0.         0.\n",
            " 0.         0.         0.         0.         0.41679066 0.48071367]\n",
            "Round 81 Train RMSE:  0.6832530732420967\n",
            "Round 81 Obj:  0.3007484494329489\n"
          ]
        },
        {
          "output_type": "stream",
          "name": "stderr",
          "text": [
            "100%|██████████| 1/1 [00:01<00:00,  1.45s/it]\n"
          ]
        },
        {
          "output_type": "stream",
          "name": "stdout",
          "text": [
            "0.011920110555365682\n",
            "[0.         0.         0.         0.         0.         0.\n",
            " 0.         0.         0.         0.         0.         0.\n",
            " 0.         0.         0.         0.         0.         0.\n",
            " 0.         0.         0.         0.         0.         0.\n",
            " 0.         0.         0.         0.         0.41744512 0.48167822]\n",
            "Round 82 Train RMSE:  0.6832512910401082\n",
            "Round 82 Obj:  0.3007414035580715\n"
          ]
        },
        {
          "output_type": "stream",
          "name": "stderr",
          "text": [
            "100%|██████████| 1/1 [00:01<00:00,  1.62s/it]\n"
          ]
        },
        {
          "output_type": "stream",
          "name": "stdout",
          "text": [
            "0.011652237735688686\n",
            "[0.         0.         0.         0.         0.         0.\n",
            " 0.         0.         0.         0.         0.         0.\n",
            " 0.         0.         0.         0.         0.         0.\n",
            " 0.         0.         0.         0.         0.         0.\n",
            " 0.         0.         0.         0.         0.41808307 0.4826225 ]\n",
            "Round 83 Train RMSE:  0.6832498678464539\n",
            "Round 83 Obj:  0.30073468461256564\n"
          ]
        },
        {
          "output_type": "stream",
          "name": "stderr",
          "text": [
            "100%|██████████| 1/1 [00:02<00:00,  2.24s/it]\n"
          ]
        },
        {
          "output_type": "stream",
          "name": "stdout",
          "text": [
            "0.011391056468710303\n",
            "[0.         0.         0.         0.         0.         0.\n",
            " 0.         0.         0.         0.         0.         0.\n",
            " 0.         0.         0.         0.         0.         0.\n",
            " 0.         0.         0.         0.         0.         0.\n",
            " 0.         0.         0.         0.         0.41870493 0.48354703]\n",
            "Round 84 Train RMSE:  0.6832487536112285\n",
            "Round 84 Obj:  0.30072825348783294\n"
          ]
        },
        {
          "output_type": "stream",
          "name": "stderr",
          "text": [
            "100%|██████████| 1/1 [00:01<00:00,  1.49s/it]\n"
          ]
        },
        {
          "output_type": "stream",
          "name": "stdout",
          "text": [
            "0.011139999842271209\n",
            "[0.         0.         0.         0.         0.         0.\n",
            " 0.         0.         0.         0.         0.         0.\n",
            " 0.         0.         0.         0.         0.         0.\n",
            " 0.         0.         0.         0.         0.         0.\n",
            " 0.         0.         0.         0.         0.41931137 0.4844524 ]\n",
            "Round 85 Train RMSE:  0.6832479334581276\n",
            "Round 85 Obj:  0.300722106095879\n"
          ]
        },
        {
          "output_type": "stream",
          "name": "stderr",
          "text": [
            "100%|██████████| 1/1 [00:01<00:00,  1.47s/it]\n"
          ]
        },
        {
          "output_type": "stream",
          "name": "stdout",
          "text": [
            "0.010893165599554777\n",
            "[0.        0.        0.        0.        0.        0.        0.\n",
            " 0.        0.        0.        0.        0.        0.        0.\n",
            " 0.        0.        0.        0.        0.        0.        0.\n",
            " 0.        0.        0.        0.        0.        0.        0.\n",
            " 0.4199027 0.485339 ]\n",
            "Round 86 Train RMSE:  0.6832473980985734\n",
            "Round 86 Obj:  0.30071623092522826\n"
          ]
        },
        {
          "output_type": "stream",
          "name": "stderr",
          "text": [
            "100%|██████████| 1/1 [00:01<00:00,  1.43s/it]\n"
          ]
        },
        {
          "output_type": "stream",
          "name": "stdout",
          "text": [
            "0.010653471108525991\n",
            "[0.         0.         0.         0.         0.         0.\n",
            " 0.         0.         0.         0.         0.         0.\n",
            " 0.         0.         0.         0.         0.         0.\n",
            " 0.         0.         0.         0.         0.         0.\n",
            " 0.         0.         0.         0.         0.42047969 0.48620713]\n",
            "Round 87 Train RMSE:  0.6832470760162987\n",
            "Round 87 Obj:  0.3007105920104282\n"
          ]
        },
        {
          "output_type": "stream",
          "name": "stderr",
          "text": [
            "100%|██████████| 1/1 [00:01<00:00,  1.67s/it]\n"
          ]
        },
        {
          "output_type": "stream",
          "name": "stdout",
          "text": [
            "0.010423153871670365\n",
            "[0.         0.         0.         0.         0.         0.\n",
            " 0.         0.         0.         0.         0.         0.\n",
            " 0.         0.         0.         0.         0.         0.\n",
            " 0.         0.         0.         0.         0.         0.\n",
            " 0.         0.         0.         0.         0.42104238 0.48705775]\n",
            "Round 88 Train RMSE:  0.6832470579600268\n",
            "Round 88 Obj:  0.3007052213144946\n"
          ]
        },
        {
          "output_type": "stream",
          "name": "stderr",
          "text": [
            "100%|██████████| 1/1 [00:01<00:00,  1.71s/it]\n"
          ]
        },
        {
          "output_type": "stream",
          "name": "stdout",
          "text": [
            "0.01019535819068551\n",
            "[0.         0.         0.         0.         0.         0.\n",
            " 0.         0.         0.         0.         0.         0.\n",
            " 0.         0.         0.         0.         0.         0.\n",
            " 0.         0.         0.         0.         0.         0.\n",
            " 0.         0.         0.         0.         0.42159134 0.48789096]\n",
            "Round 89 Train RMSE:  0.683247232416344\n",
            "Round 89 Obj:  0.30070006502206753\n"
          ]
        },
        {
          "output_type": "stream",
          "name": "stderr",
          "text": [
            "100%|██████████| 1/1 [00:01<00:00,  1.58s/it]\n"
          ]
        },
        {
          "output_type": "stream",
          "name": "stdout",
          "text": [
            "0.009975327411666512\n",
            "[0.         0.         0.         0.         0.         0.\n",
            " 0.         0.         0.         0.         0.         0.\n",
            " 0.         0.         0.         0.         0.         0.\n",
            " 0.         0.         0.         0.         0.         0.\n",
            " 0.         0.         0.         0.         0.42212692 0.48870718]\n",
            "Round 90 Train RMSE:  0.6832476303040252\n",
            "Round 90 Obj:  0.3006951419123163\n"
          ]
        },
        {
          "output_type": "stream",
          "name": "stderr",
          "text": [
            "100%|██████████| 1/1 [00:02<00:00,  2.19s/it]\n"
          ]
        },
        {
          "output_type": "stream",
          "name": "stdout",
          "text": [
            "0.009761921246536076\n",
            "[0.         0.         0.         0.         0.         0.\n",
            " 0.         0.         0.         0.         0.         0.\n",
            " 0.         0.         0.         0.         0.         0.\n",
            " 0.         0.         0.         0.         0.         0.\n",
            " 0.         0.         0.         0.         0.42264944 0.48950717]\n",
            "Round 91 Train RMSE:  0.6832482205367171\n",
            "Round 91 Obj:  0.3006904207783812\n"
          ]
        },
        {
          "output_type": "stream",
          "name": "stderr",
          "text": [
            "100%|██████████| 1/1 [00:01<00:00,  1.58s/it]\n"
          ]
        },
        {
          "output_type": "stream",
          "name": "stdout",
          "text": [
            "0.009552349802106619\n",
            "[0.         0.         0.         0.         0.         0.\n",
            " 0.         0.         0.         0.         0.         0.\n",
            " 0.         0.         0.         0.         0.         0.\n",
            " 0.         0.         0.         0.         0.         0.\n",
            " 0.         0.         0.         0.         0.42315924 0.49029103]\n",
            "Round 92 Train RMSE:  0.6832489763570513\n",
            "Round 92 Obj:  0.3006858994988836\n"
          ]
        },
        {
          "output_type": "stream",
          "name": "stderr",
          "text": [
            "100%|██████████| 1/1 [00:01<00:00,  1.68s/it]\n"
          ]
        },
        {
          "output_type": "stream",
          "name": "stdout",
          "text": [
            "0.009352879715152085\n",
            "[0.         0.         0.         0.         0.         0.\n",
            " 0.         0.         0.         0.         0.         0.\n",
            " 0.         0.         0.         0.         0.         0.\n",
            " 0.         0.         0.         0.         0.         0.\n",
            " 0.         0.         0.         0.         0.42365694 0.49105954]\n",
            "Round 93 Train RMSE:  0.6832498883029205\n",
            "Round 93 Obj:  0.30068155412352787\n"
          ]
        },
        {
          "output_type": "stream",
          "name": "stderr",
          "text": [
            "100%|██████████| 1/1 [00:01<00:00,  1.71s/it]\n"
          ]
        },
        {
          "output_type": "stream",
          "name": "stdout",
          "text": [
            "0.009154410799965262\n",
            "[0.         0.         0.         0.         0.         0.\n",
            " 0.         0.         0.         0.         0.         0.\n",
            " 0.         0.         0.         0.         0.         0.\n",
            " 0.         0.         0.         0.         0.         0.\n",
            " 0.         0.         0.         0.         0.4241427  0.49181277]\n",
            "Round 94 Train RMSE:  0.6832509683584979\n",
            "Round 94 Obj:  0.30067740718908387\n"
          ]
        },
        {
          "output_type": "stream",
          "name": "stderr",
          "text": [
            "100%|██████████| 1/1 [00:01<00:00,  1.76s/it]\n"
          ]
        },
        {
          "output_type": "stream",
          "name": "stdout",
          "text": [
            "0.008962404099293053\n",
            "[0.         0.         0.         0.         0.         0.\n",
            " 0.         0.         0.         0.         0.         0.\n",
            " 0.         0.         0.         0.         0.         0.\n",
            " 0.         0.         0.         0.         0.         0.\n",
            " 0.         0.         0.         0.         0.42461693 0.49255118]\n",
            "Round 95 Train RMSE:  0.6832521997013973\n",
            "Round 95 Obj:  0.3006734315038833\n"
          ]
        },
        {
          "output_type": "stream",
          "name": "stderr",
          "text": [
            "100%|██████████| 1/1 [00:01<00:00,  1.60s/it]\n"
          ]
        },
        {
          "output_type": "stream",
          "name": "stdout",
          "text": [
            "0.00877397891599685\n",
            "[0.         0.         0.         0.         0.         0.\n",
            " 0.         0.         0.         0.         0.         0.\n",
            " 0.         0.         0.         0.         0.         0.\n",
            " 0.         0.         0.         0.         0.         0.\n",
            " 0.         0.         0.         0.         0.42507964 0.4932751 ]\n",
            "Round 96 Train RMSE:  0.6832535525161387\n",
            "Round 96 Obj:  0.30066960999721887\n"
          ]
        },
        {
          "output_type": "stream",
          "name": "stderr",
          "text": [
            "100%|██████████| 1/1 [00:01<00:00,  1.43s/it]\n"
          ]
        },
        {
          "output_type": "stream",
          "name": "stdout",
          "text": [
            "0.008594569517299533\n",
            "[0.         0.         0.         0.         0.         0.\n",
            " 0.         0.         0.         0.         0.         0.\n",
            " 0.         0.         0.         0.         0.         0.\n",
            " 0.         0.         0.         0.         0.         0.\n",
            " 0.         0.         0.         0.         0.4255317  0.49398506]\n",
            "Round 97 Train RMSE:  0.6832550284240669\n",
            "Round 97 Obj:  0.3006659479349782\n"
          ]
        },
        {
          "output_type": "stream",
          "name": "stderr",
          "text": [
            "100%|██████████| 1/1 [00:02<00:00,  2.09s/it]\n"
          ]
        },
        {
          "output_type": "stream",
          "name": "stdout",
          "text": [
            "0.008416071650572121\n",
            "[0.         0.         0.         0.         0.         0.\n",
            " 0.         0.         0.         0.         0.         0.\n",
            " 0.         0.         0.         0.         0.         0.\n",
            " 0.         0.         0.         0.         0.         0.\n",
            " 0.         0.         0.         0.         0.42597303 0.49468118]\n",
            "Round 98 Train RMSE:  0.6832566067320777\n",
            "Round 98 Obj:  0.30066243250283686\n"
          ]
        },
        {
          "output_type": "stream",
          "name": "stderr",
          "text": [
            "100%|██████████| 1/1 [00:01<00:00,  1.60s/it]\n"
          ]
        },
        {
          "output_type": "stream",
          "name": "stdout",
          "text": [
            "0.0082416704390198\n",
            "[0.         0.         0.         0.         0.         0.\n",
            " 0.         0.         0.         0.         0.         0.\n",
            " 0.         0.         0.         0.         0.         0.\n",
            " 0.         0.         0.         0.         0.         0.\n",
            " 0.         0.         0.         0.         0.42640382 0.4953639 ]\n",
            "Round 99 Train RMSE:  0.683258293339479\n",
            "Round 99 Obj:  0.30065905810204274\n"
          ]
        },
        {
          "output_type": "stream",
          "name": "stderr",
          "text": [
            "100%|██████████| 1/1 [00:01<00:00,  1.62s/it]\n"
          ]
        },
        {
          "output_type": "stream",
          "name": "stdout",
          "text": [
            "0.008075478835962713\n",
            "[0.         0.         0.         0.         0.         0.\n",
            " 0.         0.         0.         0.         0.         0.\n",
            " 0.         0.         0.         0.         0.         0.\n",
            " 0.         0.         0.         0.         0.         0.\n",
            " 0.         0.         0.         0.         0.42682463 0.49603367]\n",
            "Round 100 Train RMSE:  0.683260097002891\n",
            "Round 100 Obj:  0.30065582765107335\n"
          ]
        },
        {
          "output_type": "stream",
          "name": "stderr",
          "text": [
            "100%|██████████| 1/1 [00:01<00:00,  1.67s/it]\n"
          ]
        },
        {
          "output_type": "stream",
          "name": "stdout",
          "text": [
            "0.007908502593636513\n",
            "[0.         0.         0.         0.         0.         0.\n",
            " 0.         0.         0.         0.         0.         0.\n",
            " 0.         0.         0.         0.         0.         0.\n",
            " 0.         0.         0.         0.         0.         0.\n",
            " 0.         0.         0.         0.         0.42723566 0.49669042]\n",
            "Round 101 Train RMSE:  0.6832619801283932\n",
            "Round 101 Obj:  0.3006527363747923\n"
          ]
        },
        {
          "output_type": "stream",
          "name": "stderr",
          "text": [
            "100%|██████████| 1/1 [00:01<00:00,  1.67s/it]\n"
          ]
        },
        {
          "output_type": "stream",
          "name": "stdout",
          "text": [
            "0.007749338983558118\n",
            "[0.        0.        0.        0.        0.        0.        0.\n",
            " 0.        0.        0.        0.        0.        0.        0.\n",
            " 0.        0.        0.        0.        0.        0.        0.\n",
            " 0.        0.        0.        0.        0.        0.        0.\n",
            " 0.4276369 0.4973349]\n",
            "Round 102 Train RMSE:  0.6832639480301955\n",
            "Round 102 Obj:  0.3006497575749924\n"
          ]
        },
        {
          "output_type": "stream",
          "name": "stderr",
          "text": [
            "100%|██████████| 1/1 [00:01<00:00,  1.69s/it]\n"
          ]
        },
        {
          "output_type": "stream",
          "name": "stdout",
          "text": [
            "0.007593510672450066\n",
            "[0.         0.         0.         0.         0.         0.\n",
            " 0.         0.         0.         0.         0.         0.\n",
            " 0.         0.         0.         0.         0.         0.\n",
            " 0.         0.         0.         0.         0.         0.\n",
            " 0.         0.         0.         0.         0.42802906 0.49796712]\n",
            "Round 103 Train RMSE:  0.683265995551842\n",
            "Round 103 Obj:  0.3006469019535707\n"
          ]
        },
        {
          "output_type": "stream",
          "name": "stderr",
          "text": [
            "100%|██████████| 1/1 [00:01<00:00,  1.47s/it]\n"
          ]
        },
        {
          "output_type": "stream",
          "name": "stdout",
          "text": [
            "0.0074409524677321315\n",
            "[0.         0.         0.         0.         0.         0.\n",
            " 0.         0.         0.         0.         0.         0.\n",
            " 0.         0.         0.         0.         0.         0.\n",
            " 0.         0.         0.         0.         0.         0.\n",
            " 0.         0.         0.         0.         0.42841214 0.49858746]\n",
            "Round 104 Train RMSE:  0.6832680873851853\n",
            "Round 104 Obj:  0.30064415255240906\n"
          ]
        },
        {
          "output_type": "stream",
          "name": "stderr",
          "text": [
            "100%|██████████| 1/1 [00:02<00:00,  2.15s/it]\n"
          ]
        },
        {
          "output_type": "stream",
          "name": "stdout",
          "text": [
            "0.007292579975910485\n",
            "[0.         0.         0.         0.         0.         0.\n",
            " 0.         0.         0.         0.         0.         0.\n",
            " 0.         0.         0.         0.         0.         0.\n",
            " 0.         0.         0.         0.         0.         0.\n",
            " 0.         0.         0.         0.         0.42878634 0.49919623]\n",
            "Round 105 Train RMSE:  0.683270250275342\n",
            "Round 105 Obj:  0.3006415186971031\n"
          ]
        },
        {
          "output_type": "stream",
          "name": "stderr",
          "text": [
            "100%|██████████| 1/1 [00:01<00:00,  1.57s/it]\n"
          ]
        },
        {
          "output_type": "stream",
          "name": "stdout",
          "text": [
            "0.007144582341425121\n",
            "[0.         0.         0.         0.         0.         0.\n",
            " 0.         0.         0.         0.         0.         0.\n",
            " 0.         0.         0.         0.         0.         0.\n",
            " 0.         0.         0.         0.         0.         0.\n",
            " 0.         0.         0.         0.         0.4291517  0.49979347]\n",
            "Round 106 Train RMSE:  0.6832724615979862\n",
            "Round 106 Obj:  0.30063898322510424\n"
          ]
        },
        {
          "output_type": "stream",
          "name": "stderr",
          "text": [
            "100%|██████████| 1/1 [00:01<00:00,  1.47s/it]\n"
          ]
        },
        {
          "output_type": "stream",
          "name": "stdout",
          "text": [
            "0.007004961953498423\n",
            "[0.         0.         0.         0.         0.         0.\n",
            " 0.         0.         0.         0.         0.         0.\n",
            " 0.         0.         0.         0.         0.         0.\n",
            " 0.         0.         0.         0.         0.         0.\n",
            " 0.         0.         0.         0.         0.42950884 0.5003798 ]\n",
            "Round 107 Train RMSE:  0.6832747421518046\n",
            "Round 107 Obj:  0.3006365503523897\n"
          ]
        },
        {
          "output_type": "stream",
          "name": "stderr",
          "text": [
            "100%|██████████| 1/1 [00:01<00:00,  1.63s/it]\n"
          ]
        },
        {
          "output_type": "stream",
          "name": "stdout",
          "text": [
            "0.006866917829029262\n",
            "[0.         0.         0.         0.         0.         0.\n",
            " 0.         0.         0.         0.         0.         0.\n",
            " 0.         0.         0.         0.         0.         0.\n",
            " 0.         0.         0.         0.         0.         0.\n",
            " 0.         0.         0.         0.         0.42985782 0.5009553 ]\n",
            "Round 108 Train RMSE:  0.6832770503621921\n",
            "Round 108 Obj:  0.3006342112936991\n"
          ]
        },
        {
          "output_type": "stream",
          "name": "stderr",
          "text": [
            "100%|██████████| 1/1 [00:01<00:00,  1.46s/it]\n"
          ]
        },
        {
          "output_type": "stream",
          "name": "stdout",
          "text": [
            "0.006731331232003868\n",
            "[0.         0.         0.         0.         0.         0.\n",
            " 0.         0.         0.         0.         0.         0.\n",
            " 0.         0.         0.         0.         0.         0.\n",
            " 0.         0.         0.         0.         0.         0.\n",
            " 0.         0.         0.         0.         0.43019885 0.5015201 ]\n",
            "Round 109 Train RMSE:  0.6832794367599592\n",
            "Round 109 Obj:  0.3006319747763807\n"
          ]
        },
        {
          "output_type": "stream",
          "name": "stderr",
          "text": [
            "100%|██████████| 1/1 [00:01<00:00,  1.64s/it]\n"
          ]
        },
        {
          "output_type": "stream",
          "name": "stdout",
          "text": [
            "0.006598798208869994\n",
            "[0.         0.         0.         0.         0.         0.\n",
            " 0.         0.         0.         0.         0.         0.\n",
            " 0.         0.         0.         0.         0.         0.\n",
            " 0.         0.         0.         0.         0.         0.\n",
            " 0.         0.         0.         0.         0.43053192 0.50207454]\n",
            "Round 110 Train RMSE:  0.6832817916406949\n",
            "Round 110 Obj:  0.30062979796287537\n"
          ]
        },
        {
          "output_type": "stream",
          "name": "stderr",
          "text": [
            "100%|██████████| 1/1 [00:01<00:00,  1.77s/it]\n"
          ]
        },
        {
          "output_type": "stream",
          "name": "stdout",
          "text": [
            "0.006470066145993769\n",
            "[0.         0.         0.         0.         0.         0.\n",
            " 0.         0.         0.         0.         0.         0.\n",
            " 0.         0.         0.         0.         0.         0.\n",
            " 0.         0.         0.         0.         0.         0.\n",
            " 0.         0.         0.         0.         0.43085754 0.50261885]\n",
            "Round 111 Train RMSE:  0.6832842269272217\n",
            "Round 111 Obj:  0.30062772065353377\n"
          ]
        },
        {
          "output_type": "stream",
          "name": "stderr",
          "text": [
            "100%|██████████| 1/1 [00:02<00:00,  2.19s/it]\n"
          ]
        },
        {
          "output_type": "stream",
          "name": "stdout",
          "text": [
            "0.006344631547108293\n",
            "[0.         0.         0.         0.         0.         0.\n",
            " 0.         0.         0.         0.         0.         0.\n",
            " 0.         0.         0.         0.         0.         0.\n",
            " 0.         0.         0.         0.         0.         0.\n",
            " 0.         0.         0.         0.         0.4311757  0.50315326]\n",
            "Round 112 Train RMSE:  0.6832866857162649\n",
            "Round 112 Obj:  0.3006257221184219\n"
          ]
        },
        {
          "output_type": "stream",
          "name": "stderr",
          "text": [
            "100%|██████████| 1/1 [00:01<00:00,  1.75s/it]\n"
          ]
        },
        {
          "output_type": "stream",
          "name": "stdout",
          "text": [
            "0.006223435630090535\n",
            "[0.         0.         0.         0.         0.         0.\n",
            " 0.         0.         0.         0.         0.         0.\n",
            " 0.         0.         0.         0.         0.         0.\n",
            " 0.         0.         0.         0.         0.         0.\n",
            " 0.         0.         0.         0.         0.43148682 0.5036782 ]\n",
            "Round 113 Train RMSE:  0.6832892019275604\n",
            "Round 113 Obj:  0.3006238213597316\n"
          ]
        },
        {
          "output_type": "stream",
          "name": "stderr",
          "text": [
            "100%|██████████| 1/1 [00:01<00:00,  1.80s/it]\n"
          ]
        },
        {
          "output_type": "stream",
          "name": "stdout",
          "text": [
            "0.00610377115663141\n",
            "[0.         0.         0.         0.         0.         0.\n",
            " 0.         0.         0.         0.         0.         0.\n",
            " 0.         0.         0.         0.         0.         0.\n",
            " 0.         0.         0.         0.         0.         0.\n",
            " 0.         0.         0.         0.         0.43179098 0.50419354]\n",
            "Round 114 Train RMSE:  0.683291687412679\n",
            "Round 114 Obj:  0.3006219604318024\n"
          ]
        },
        {
          "output_type": "stream",
          "name": "stderr",
          "text": [
            "100%|██████████| 1/1 [00:01<00:00,  1.72s/it]\n"
          ]
        },
        {
          "output_type": "stream",
          "name": "stdout",
          "text": [
            "0.005983698065392673\n",
            "[0.         0.         0.         0.         0.         0.\n",
            " 0.         0.         0.         0.         0.         0.\n",
            " 0.         0.         0.         0.         0.         0.\n",
            " 0.         0.         0.         0.         0.         0.\n",
            " 0.         0.         0.         0.         0.43208814 0.50469947]\n",
            "Round 115 Train RMSE:  0.6832942227253668\n",
            "Round 115 Obj:  0.30062018819469\n"
          ]
        },
        {
          "output_type": "stream",
          "name": "stderr",
          "text": [
            "100%|██████████| 1/1 [00:01<00:00,  1.48s/it]\n"
          ]
        },
        {
          "output_type": "stream",
          "name": "stdout",
          "text": [
            "0.005870886379852891\n",
            "[0.         0.         0.         0.         0.         0.\n",
            " 0.         0.         0.         0.         0.         0.\n",
            " 0.         0.         0.         0.         0.         0.\n",
            " 0.         0.         0.         0.         0.         0.\n",
            " 0.         0.         0.         0.         0.43237862 0.50519645]\n",
            "Round 116 Train RMSE:  0.683296750338055\n",
            "Round 116 Obj:  0.3006184730657102\n"
          ]
        },
        {
          "output_type": "stream",
          "name": "stderr",
          "text": [
            "100%|██████████| 1/1 [00:01<00:00,  1.65s/it]\n"
          ]
        },
        {
          "output_type": "stream",
          "name": "stdout",
          "text": [
            "0.005759246996603906\n",
            "[0.         0.         0.         0.         0.         0.\n",
            " 0.         0.         0.         0.         0.         0.\n",
            " 0.         0.         0.         0.         0.         0.\n",
            " 0.         0.         0.         0.         0.         0.\n",
            " 0.         0.         0.         0.         0.43266284 0.5056845 ]\n",
            "Round 117 Train RMSE:  0.6832993026755138\n",
            "Round 117 Obj:  0.3006168272554631\n"
          ]
        },
        {
          "output_type": "stream",
          "name": "stderr",
          "text": [
            "100%|██████████| 1/1 [00:01<00:00,  1.52s/it]\n"
          ]
        },
        {
          "output_type": "stream",
          "name": "stdout",
          "text": [
            "0.00564717105589807\n",
            "[0.        0.        0.        0.        0.        0.        0.\n",
            " 0.        0.        0.        0.        0.        0.        0.\n",
            " 0.        0.        0.        0.        0.        0.        0.\n",
            " 0.        0.        0.        0.        0.        0.        0.\n",
            " 0.4329403 0.5061638]\n",
            "Round 118 Train RMSE:  0.6833018903443426\n",
            "Round 118 Obj:  0.3006152510141277\n"
          ]
        },
        {
          "output_type": "stream",
          "name": "stderr",
          "text": [
            "100%|██████████| 1/1 [00:02<00:00,  2.35s/it]\n"
          ]
        },
        {
          "output_type": "stream",
          "name": "stdout",
          "text": [
            "0.005542917642742395\n",
            "[0.         0.         0.         0.         0.         0.\n",
            " 0.         0.         0.         0.         0.         0.\n",
            " 0.         0.         0.         0.         0.         0.\n",
            " 0.         0.         0.         0.         0.         0.\n",
            " 0.         0.         0.         0.         0.43321192 0.50663465]\n",
            "Round 119 Train RMSE:  0.683304457064675\n",
            "Round 119 Obj:  0.3006137242470471\n"
          ]
        },
        {
          "output_type": "stream",
          "name": "stderr",
          "text": [
            "100%|██████████| 1/1 [00:01<00:00,  1.48s/it]\n"
          ]
        },
        {
          "output_type": "stream",
          "name": "stdout",
          "text": [
            "0.005437415675260127\n",
            "[0.        0.        0.        0.        0.        0.        0.\n",
            " 0.        0.        0.        0.        0.        0.        0.\n",
            " 0.        0.        0.        0.        0.        0.        0.\n",
            " 0.        0.        0.        0.        0.        0.        0.\n",
            " 0.4334774 0.5070972]\n",
            "Round 120 Train RMSE:  0.6833070409206544\n",
            "Round 120 Obj:  0.3006122552223024\n"
          ]
        },
        {
          "output_type": "stream",
          "name": "stderr",
          "text": [
            "100%|██████████| 1/1 [00:01<00:00,  1.47s/it]\n"
          ]
        },
        {
          "output_type": "stream",
          "name": "stdout",
          "text": [
            "0.005334418965503573\n",
            "[0.         0.         0.         0.         0.         0.\n",
            " 0.         0.         0.         0.         0.         0.\n",
            " 0.         0.         0.         0.         0.         0.\n",
            " 0.         0.         0.         0.         0.         0.\n",
            " 0.         0.         0.         0.         0.433737   0.50755143]\n",
            "Round 121 Train RMSE:  0.6833096393799069\n",
            "Round 121 Obj:  0.30061084960872314\n"
          ]
        },
        {
          "output_type": "stream",
          "name": "stderr",
          "text": [
            "100%|██████████| 1/1 [00:01<00:00,  1.47s/it]\n"
          ]
        },
        {
          "output_type": "stream",
          "name": "stdout",
          "text": [
            "0.005235126591287553\n",
            "[0.         0.         0.         0.         0.         0.\n",
            " 0.         0.         0.         0.         0.         0.\n",
            " 0.         0.         0.         0.         0.         0.\n",
            " 0.         0.         0.         0.         0.         0.\n",
            " 0.         0.         0.         0.         0.4339909  0.50799775]\n",
            "Round 122 Train RMSE:  0.6833122176387336\n",
            "Round 122 Obj:  0.3006094838380252\n"
          ]
        },
        {
          "output_type": "stream",
          "name": "stderr",
          "text": [
            "100%|██████████| 1/1 [00:01<00:00,  1.61s/it]\n"
          ]
        },
        {
          "output_type": "stream",
          "name": "stdout",
          "text": [
            "0.005137526895850897\n",
            "[0.         0.         0.         0.         0.         0.\n",
            " 0.         0.         0.         0.         0.         0.\n",
            " 0.         0.         0.         0.         0.         0.\n",
            " 0.         0.         0.         0.         0.         0.\n",
            " 0.         0.         0.         0.         0.43423924 0.5084363 ]\n",
            "Round 123 Train RMSE:  0.6833148106995608\n",
            "Round 123 Obj:  0.30060817929218603\n"
          ]
        },
        {
          "output_type": "stream",
          "name": "stderr",
          "text": [
            "100%|██████████| 1/1 [00:01<00:00,  1.44s/it]\n"
          ]
        },
        {
          "output_type": "stream",
          "name": "stdout",
          "text": [
            "0.005042336997576058\n",
            "[0.         0.         0.         0.         0.         0.\n",
            " 0.         0.         0.         0.         0.         0.\n",
            " 0.         0.         0.         0.         0.         0.\n",
            " 0.         0.         0.         0.         0.         0.\n",
            " 0.         0.         0.         0.         0.43448207 0.50886726]\n",
            "Round 124 Train RMSE:  0.6833173938734092\n",
            "Round 124 Obj:  0.30060692186623633\n"
          ]
        },
        {
          "output_type": "stream",
          "name": "stderr",
          "text": [
            "100%|██████████| 1/1 [00:01<00:00,  1.65s/it]\n"
          ]
        },
        {
          "output_type": "stream",
          "name": "stdout",
          "text": [
            "0.0049481086898595095\n",
            "[0.         0.         0.         0.         0.         0.\n",
            " 0.         0.         0.         0.         0.         0.\n",
            " 0.         0.         0.         0.         0.         0.\n",
            " 0.         0.         0.         0.         0.         0.\n",
            " 0.         0.         0.         0.         0.43471956 0.5092906 ]\n",
            "Round 125 Train RMSE:  0.6833199639434966\n",
            "Round 125 Obj:  0.30060569972713996\n"
          ]
        },
        {
          "output_type": "stream",
          "name": "stderr",
          "text": [
            "100%|██████████| 1/1 [00:02<00:00,  2.04s/it]\n"
          ]
        },
        {
          "output_type": "stream",
          "name": "stdout",
          "text": [
            "0.004856466257479042\n",
            "[0.         0.         0.         0.         0.         0.\n",
            " 0.         0.         0.         0.         0.         0.\n",
            " 0.         0.         0.         0.         0.         0.\n",
            " 0.         0.         0.         0.         0.         0.\n",
            " 0.         0.         0.         0.         0.4349519  0.50970656]\n",
            "Round 126 Train RMSE:  0.6833225482204922\n",
            "Round 126 Obj:  0.30060452968654755\n"
          ]
        },
        {
          "output_type": "stream",
          "name": "stderr",
          "text": [
            "100%|██████████| 1/1 [00:01<00:00,  1.66s/it]\n"
          ]
        },
        {
          "output_type": "stream",
          "name": "stdout",
          "text": [
            "0.004765632911585271\n",
            "[0.         0.         0.         0.         0.         0.\n",
            " 0.         0.         0.         0.         0.         0.\n",
            " 0.         0.         0.         0.         0.         0.\n",
            " 0.         0.         0.         0.         0.         0.\n",
            " 0.         0.         0.         0.         0.43517902 0.51011527]\n",
            "Round 127 Train RMSE:  0.6833251153155893\n",
            "Round 127 Obj:  0.30060339866571295\n"
          ]
        },
        {
          "output_type": "stream",
          "name": "stderr",
          "text": [
            "100%|██████████| 1/1 [00:01<00:00,  1.80s/it]\n"
          ]
        },
        {
          "output_type": "stream",
          "name": "stdout",
          "text": [
            "0.004679213452618569\n",
            "[0.         0.         0.         0.         0.         0.\n",
            " 0.         0.         0.         0.         0.         0.\n",
            " 0.         0.         0.         0.         0.         0.\n",
            " 0.         0.         0.         0.         0.         0.\n",
            " 0.         0.         0.         0.         0.43540126 0.510517  ]\n",
            "Round 128 Train RMSE:  0.6833276658323442\n",
            "Round 128 Obj:  0.300602310557113\n"
          ]
        },
        {
          "output_type": "stream",
          "name": "stderr",
          "text": [
            "100%|██████████| 1/1 [00:01<00:00,  1.78s/it]\n"
          ]
        },
        {
          "output_type": "stream",
          "name": "stdout",
          "text": [
            "0.004593365592882037\n",
            "[0.         0.         0.         0.         0.         0.\n",
            " 0.         0.         0.         0.         0.         0.\n",
            " 0.         0.         0.         0.         0.         0.\n",
            " 0.         0.         0.         0.         0.         0.\n",
            " 0.         0.         0.         0.         0.43561852 0.5109119 ]\n",
            "Round 129 Train RMSE:  0.6833302422220188\n",
            "Round 129 Obj:  0.3006012763037407\n"
          ]
        },
        {
          "output_type": "stream",
          "name": "stderr",
          "text": [
            "100%|██████████| 1/1 [00:01<00:00,  1.71s/it]\n"
          ]
        },
        {
          "output_type": "stream",
          "name": "stdout",
          "text": [
            "0.004508889687713236\n",
            "[0.         0.         0.         0.         0.         0.\n",
            " 0.         0.         0.         0.         0.         0.\n",
            " 0.         0.         0.         0.         0.         0.\n",
            " 0.         0.         0.         0.         0.         0.\n",
            " 0.         0.         0.         0.         0.43583104 0.51129997]\n",
            "Round 130 Train RMSE:  0.6833327643761978\n",
            "Round 130 Obj:  0.3006002605358746\n"
          ]
        },
        {
          "output_type": "stream",
          "name": "stderr",
          "text": [
            "100%|██████████| 1/1 [00:01<00:00,  1.47s/it]\n"
          ]
        },
        {
          "output_type": "stream",
          "name": "stdout",
          "text": [
            "0.004425912047736347\n",
            "[0.         0.         0.         0.         0.         0.\n",
            " 0.         0.         0.         0.         0.         0.\n",
            " 0.         0.         0.         0.         0.         0.\n",
            " 0.         0.         0.         0.         0.         0.\n",
            " 0.         0.         0.         0.         0.43603885 0.5116813 ]\n",
            "Round 131 Train RMSE:  0.6833353138067029\n",
            "Round 131 Obj:  0.30059929554138903\n"
          ]
        },
        {
          "output_type": "stream",
          "name": "stderr",
          "text": [
            "100%|██████████| 1/1 [00:01<00:00,  1.53s/it]\n"
          ]
        },
        {
          "output_type": "stream",
          "name": "stdout",
          "text": [
            "0.004346736241132021\n",
            "[0.        0.        0.        0.        0.        0.        0.\n",
            " 0.        0.        0.        0.        0.        0.        0.\n",
            " 0.        0.        0.        0.        0.        0.        0.\n",
            " 0.        0.        0.        0.        0.        0.        0.\n",
            " 0.4362424 0.5120562]\n",
            "Round 132 Train RMSE:  0.6833378085852307\n",
            "Round 132 Obj:  0.30059834780630745\n"
          ]
        },
        {
          "output_type": "stream",
          "name": "stderr",
          "text": [
            "100%|██████████| 1/1 [00:02<00:00,  2.18s/it]\n"
          ]
        },
        {
          "output_type": "stream",
          "name": "stdout",
          "text": [
            "0.004266414325684309\n",
            "[0.         0.         0.         0.         0.         0.\n",
            " 0.         0.         0.         0.         0.         0.\n",
            " 0.         0.         0.         0.         0.         0.\n",
            " 0.         0.         0.         0.         0.         0.\n",
            " 0.         0.         0.         0.         0.43644142 0.5124246 ]\n",
            "Round 133 Train RMSE:  0.6833403035945044\n",
            "Round 133 Obj:  0.3005974408059663\n"
          ]
        },
        {
          "output_type": "stream",
          "name": "stderr",
          "text": [
            "100%|██████████| 1/1 [00:01<00:00,  1.90s/it]\n"
          ]
        },
        {
          "output_type": "stream",
          "name": "stdout",
          "text": [
            "0.004189726896584034\n",
            "[0.         0.         0.         0.         0.         0.\n",
            " 0.         0.         0.         0.         0.         0.\n",
            " 0.         0.         0.         0.         0.         0.\n",
            " 0.         0.         0.         0.         0.         0.\n",
            " 0.         0.         0.         0.         0.43663597 0.51278687]\n",
            "Round 134 Train RMSE:  0.6833427886173226\n",
            "Round 134 Obj:  0.30059656747195584\n"
          ]
        },
        {
          "output_type": "stream",
          "name": "stderr",
          "text": [
            "100%|██████████| 1/1 [00:01<00:00,  1.69s/it]\n"
          ]
        },
        {
          "output_type": "stream",
          "name": "stdout",
          "text": [
            "0.0041145566501654685\n",
            "[0.        0.        0.        0.        0.        0.        0.\n",
            " 0.        0.        0.        0.        0.        0.        0.\n",
            " 0.        0.        0.        0.        0.        0.        0.\n",
            " 0.        0.        0.        0.        0.        0.        0.\n",
            " 0.4368263 0.513143 ]\n",
            "Round 135 Train RMSE:  0.6833452897500812\n",
            "Round 135 Obj:  0.3005957359970061\n"
          ]
        },
        {
          "output_type": "stream",
          "name": "stderr",
          "text": [
            "100%|██████████| 1/1 [00:01<00:00,  1.67s/it]\n"
          ]
        },
        {
          "output_type": "stream",
          "name": "stdout",
          "text": [
            "0.004039535415358841\n",
            "[0.        0.        0.        0.        0.        0.        0.\n",
            " 0.        0.        0.        0.        0.        0.        0.\n",
            " 0.        0.        0.        0.        0.        0.        0.\n",
            " 0.        0.        0.        0.        0.        0.        0.\n",
            " 0.4370126 0.513493 ]\n",
            "Round 136 Train RMSE:  0.6833477722740628\n",
            "Round 136 Obj:  0.30059494082857113\n"
          ]
        },
        {
          "output_type": "stream",
          "name": "stderr",
          "text": [
            "100%|██████████| 1/1 [00:01<00:00,  1.66s/it]\n"
          ]
        },
        {
          "output_type": "stream",
          "name": "stdout",
          "text": [
            "0.00396900053601712\n",
            "[0.         0.         0.         0.         0.         0.\n",
            " 0.         0.         0.         0.         0.         0.\n",
            " 0.         0.         0.         0.         0.         0.\n",
            " 0.         0.         0.         0.         0.         0.\n",
            " 0.         0.         0.         0.         0.43719485 0.51383734]\n",
            "Round 137 Train RMSE:  0.6833501817420394\n",
            "Round 137 Obj:  0.30059414040828303\n"
          ]
        },
        {
          "output_type": "stream",
          "name": "stderr",
          "text": [
            "100%|██████████| 1/1 [00:01<00:00,  1.54s/it]\n"
          ]
        },
        {
          "output_type": "stream",
          "name": "stdout",
          "text": [
            "0.003896644338965416\n",
            "[0.         0.         0.         0.         0.         0.\n",
            " 0.         0.         0.         0.         0.         0.\n",
            " 0.         0.         0.         0.         0.         0.\n",
            " 0.         0.         0.         0.         0.         0.\n",
            " 0.         0.         0.         0.         0.43737316 0.5141757 ]\n",
            "Round 138 Train RMSE:  0.6833526164006927\n",
            "Round 138 Obj:  0.30059338937568153\n"
          ]
        },
        {
          "output_type": "stream",
          "name": "stderr",
          "text": [
            "100%|██████████| 1/1 [00:01<00:00,  1.53s/it]\n"
          ]
        },
        {
          "output_type": "stream",
          "name": "stdout",
          "text": [
            "0.0038275952101685107\n",
            "[0.         0.         0.         0.         0.         0.\n",
            " 0.         0.         0.         0.         0.         0.\n",
            " 0.         0.         0.         0.         0.         0.\n",
            " 0.         0.         0.         0.         0.         0.\n",
            " 0.         0.         0.         0.         0.4375475  0.51450855]\n",
            "Round 139 Train RMSE:  0.6833550066577608\n",
            "Round 139 Obj:  0.30059265586516165\n"
          ]
        },
        {
          "output_type": "stream",
          "name": "stderr",
          "text": [
            "100%|██████████| 1/1 [00:02<00:00,  2.07s/it]\n"
          ]
        },
        {
          "output_type": "stream",
          "name": "stdout",
          "text": [
            "0.0037589797284454107\n",
            "[0.         0.         0.         0.         0.         0.\n",
            " 0.         0.         0.         0.         0.         0.\n",
            " 0.         0.         0.         0.         0.         0.\n",
            " 0.         0.         0.         0.         0.         0.\n",
            " 0.         0.         0.         0.         0.43771815 0.5148358 ]\n",
            "Round 140 Train RMSE:  0.6833574026746322\n",
            "Round 140 Obj:  0.3005919596202912\n"
          ]
        },
        {
          "output_type": "stream",
          "name": "stderr",
          "text": [
            "100%|██████████| 1/1 [00:01<00:00,  1.51s/it]\n"
          ]
        },
        {
          "output_type": "stream",
          "name": "stdout",
          "text": [
            "0.003692250174935907\n",
            "[0.        0.        0.        0.        0.        0.        0.\n",
            " 0.        0.        0.        0.        0.        0.        0.\n",
            " 0.        0.        0.        0.        0.        0.        0.\n",
            " 0.        0.        0.        0.        0.        0.        0.\n",
            " 0.4378853 0.5151574]\n",
            "Round 141 Train RMSE:  0.6833597854223871\n",
            "Round 141 Obj:  0.300591288594218\n"
          ]
        },
        {
          "output_type": "stream",
          "name": "stderr",
          "text": [
            "100%|██████████| 1/1 [00:01<00:00,  1.43s/it]\n"
          ]
        },
        {
          "output_type": "stream",
          "name": "stdout",
          "text": [
            "0.00362703314749524\n",
            "[0.         0.         0.         0.         0.         0.\n",
            " 0.         0.         0.         0.         0.         0.\n",
            " 0.         0.         0.         0.         0.         0.\n",
            " 0.         0.         0.         0.         0.         0.\n",
            " 0.         0.         0.         0.         0.43804884 0.5154737 ]\n",
            "Round 142 Train RMSE:  0.6833621465086811\n",
            "Round 142 Obj:  0.3005906376243034\n"
          ]
        },
        {
          "output_type": "stream",
          "name": "stderr",
          "text": [
            "100%|██████████| 1/1 [00:01<00:00,  1.44s/it]\n"
          ]
        },
        {
          "output_type": "stream",
          "name": "stdout",
          "text": [
            "0.0035628362093120813\n",
            "[0.         0.         0.         0.         0.         0.\n",
            " 0.         0.         0.         0.         0.         0.\n",
            " 0.         0.         0.         0.         0.         0.\n",
            " 0.         0.         0.         0.         0.         0.\n",
            " 0.         0.         0.         0.         0.4382087  0.51578486]\n",
            "Round 143 Train RMSE:  0.6833644575156582\n",
            "Round 143 Obj:  0.30059000591269286\n"
          ]
        },
        {
          "output_type": "stream",
          "name": "stderr",
          "text": [
            "100%|██████████| 1/1 [00:01<00:00,  1.45s/it]\n"
          ]
        },
        {
          "output_type": "stream",
          "name": "stdout",
          "text": [
            "0.003499751619528979\n",
            "[0.        0.        0.        0.        0.        0.        0.\n",
            " 0.        0.        0.        0.        0.        0.        0.\n",
            " 0.        0.        0.        0.        0.        0.        0.\n",
            " 0.        0.        0.        0.        0.        0.        0.\n",
            " 0.4383651 0.5160908]\n",
            "Round 144 Train RMSE:  0.6833667769708714\n",
            "Round 144 Obj:  0.3005894012844938\n"
          ]
        },
        {
          "output_type": "stream",
          "name": "stderr",
          "text": [
            "100%|██████████| 1/1 [00:01<00:00,  1.44s/it]\n"
          ]
        },
        {
          "output_type": "stream",
          "name": "stdout",
          "text": [
            "0.0034381120349280536\n",
            "[0.         0.         0.         0.         0.         0.\n",
            " 0.         0.         0.         0.         0.         0.\n",
            " 0.         0.         0.         0.         0.         0.\n",
            " 0.         0.         0.         0.         0.         0.\n",
            " 0.         0.         0.         0.         0.43851826 0.5163917 ]\n",
            "Round 145 Train RMSE:  0.6833690624031311\n",
            "Round 145 Obj:  0.3005888089501676\n"
          ]
        },
        {
          "output_type": "stream",
          "name": "stderr",
          "text": [
            "100%|██████████| 1/1 [00:01<00:00,  1.65s/it]\n"
          ]
        },
        {
          "output_type": "stream",
          "name": "stdout",
          "text": [
            "0.0033779945806600153\n",
            "[0.        0.        0.        0.        0.        0.        0.\n",
            " 0.        0.        0.        0.        0.        0.        0.\n",
            " 0.        0.        0.        0.        0.        0.        0.\n",
            " 0.        0.        0.        0.        0.        0.        0.\n",
            " 0.4386681 0.5166876]\n",
            "Round 146 Train RMSE:  0.6833713266167049\n",
            "Round 146 Obj:  0.30058824012997715\n"
          ]
        },
        {
          "output_type": "stream",
          "name": "stderr",
          "text": [
            "100%|██████████| 1/1 [00:01<00:00,  1.79s/it]\n"
          ]
        },
        {
          "output_type": "stream",
          "name": "stdout",
          "text": [
            "0.00332000752678141\n",
            "[0.         0.         0.         0.         0.         0.\n",
            " 0.         0.         0.         0.         0.         0.\n",
            " 0.         0.         0.         0.         0.         0.\n",
            " 0.         0.         0.         0.         0.         0.\n",
            " 0.         0.         0.         0.         0.43881464 0.5169788 ]\n",
            "Round 147 Train RMSE:  0.6833735820662589\n",
            "Round 147 Obj:  0.3005877021668398\n"
          ]
        },
        {
          "output_type": "stream",
          "name": "stderr",
          "text": [
            "100%|██████████| 1/1 [00:01<00:00,  1.82s/it]\n"
          ]
        },
        {
          "output_type": "stream",
          "name": "stdout",
          "text": [
            "0.003262893878854811\n",
            "[0.         0.         0.         0.         0.         0.\n",
            " 0.         0.         0.         0.         0.         0.\n",
            " 0.         0.         0.         0.         0.         0.\n",
            " 0.         0.         0.         0.         0.         0.\n",
            " 0.         0.         0.         0.         0.43895832 0.5172652 ]\n",
            "Round 148 Train RMSE:  0.6833758136709084\n",
            "Round 148 Obj:  0.30058716725516255\n"
          ]
        },
        {
          "output_type": "stream",
          "name": "stderr",
          "text": [
            "100%|██████████| 1/1 [00:01<00:00,  1.45s/it]\n"
          ]
        },
        {
          "output_type": "stream",
          "name": "stdout",
          "text": [
            "0.003204633540008217\n",
            "[0.         0.         0.         0.         0.         0.\n",
            " 0.         0.         0.         0.         0.         0.\n",
            " 0.         0.         0.         0.         0.         0.\n",
            " 0.         0.         0.         0.         0.         0.\n",
            " 0.         0.         0.         0.         0.43909886 0.5175468 ]\n",
            "Round 149 Train RMSE:  0.6833780234105093\n",
            "Round 149 Obj:  0.30058666264832495\n"
          ]
        },
        {
          "output_type": "stream",
          "name": "stderr",
          "text": [
            "100%|██████████| 1/1 [00:01<00:00,  1.66s/it]\n"
          ]
        },
        {
          "output_type": "stream",
          "name": "stdout",
          "text": [
            "0.0031483752536587417\n",
            "[0.         0.         0.         0.         0.         0.\n",
            " 0.         0.         0.         0.         0.         0.\n",
            " 0.         0.         0.         0.         0.         0.\n",
            " 0.         0.         0.         0.         0.         0.\n",
            " 0.         0.         0.         0.         0.43923634 0.51782376]\n",
            "Round 150 Train RMSE:  0.6833801859954525\n",
            "Round 150 Obj:  0.30058615837633773\n"
          ]
        },
        {
          "output_type": "stream",
          "name": "stderr",
          "text": [
            "100%|██████████| 1/1 [00:03<00:00,  3.61s/it]\n"
          ]
        },
        {
          "output_type": "stream",
          "name": "stdout",
          "text": [
            "0.003094461571890861\n",
            "[0.         0.         0.         0.         0.         0.\n",
            " 0.         0.         0.         0.         0.         0.\n",
            " 0.         0.         0.         0.         0.         0.\n",
            " 0.         0.         0.         0.         0.         0.\n",
            " 0.         0.         0.         0.         0.43937087 0.51809627]\n",
            "Round 151 Train RMSE:  0.6833823782760251\n",
            "Round 151 Obj:  0.3005856981996287\n"
          ]
        },
        {
          "output_type": "stream",
          "name": "stderr",
          "text": [
            "100%|██████████| 1/1 [00:07<00:00,  7.09s/it]\n"
          ]
        },
        {
          "output_type": "stream",
          "name": "stdout",
          "text": [
            "0.003040419251192361\n",
            "[0.         0.         0.         0.         0.         0.\n",
            " 0.         0.         0.         0.         0.         0.\n",
            " 0.         0.         0.         0.         0.         0.\n",
            " 0.         0.         0.         0.         0.         0.\n",
            " 0.         0.         0.         0.         0.43950257 0.51836425]\n",
            "Round 152 Train RMSE:  0.6833844993643484\n",
            "Round 152 Obj:  0.30058522903143337\n"
          ]
        },
        {
          "output_type": "stream",
          "name": "stderr",
          "text": [
            "100%|██████████| 1/1 [00:03<00:00,  3.32s/it]\n"
          ]
        },
        {
          "output_type": "stream",
          "name": "stdout",
          "text": [
            "0.00298673112411052\n",
            "[0.        0.        0.        0.        0.        0.        0.\n",
            " 0.        0.        0.        0.        0.        0.        0.\n",
            " 0.        0.        0.        0.        0.        0.        0.\n",
            " 0.        0.        0.        0.        0.        0.        0.\n",
            " 0.4396314 0.5186278]\n",
            "Round 153 Train RMSE:  0.6833866107548534\n",
            "Round 153 Obj:  0.3005847788674017\n"
          ]
        },
        {
          "output_type": "stream",
          "name": "stderr",
          "text": [
            "100%|██████████| 1/1 [00:01<00:00,  1.88s/it]\n"
          ]
        },
        {
          "output_type": "stream",
          "name": "stdout",
          "text": [
            "0.0029361993074417114\n",
            "[0.         0.         0.         0.         0.         0.\n",
            " 0.         0.         0.         0.         0.         0.\n",
            " 0.         0.         0.         0.         0.         0.\n",
            " 0.         0.         0.         0.         0.         0.\n",
            " 0.         0.         0.         0.         0.43975735 0.5188872 ]\n",
            "Round 154 Train RMSE:  0.6833887369844123\n",
            "Round 154 Obj:  0.3005843680283078\n"
          ]
        },
        {
          "output_type": "stream",
          "name": "stderr",
          "text": [
            "100%|██████████| 1/1 [00:01<00:00,  1.90s/it]\n"
          ]
        },
        {
          "output_type": "stream",
          "name": "stdout",
          "text": [
            "0.00288462353637442\n",
            "[0.         0.         0.         0.         0.         0.\n",
            " 0.         0.         0.         0.         0.         0.\n",
            " 0.         0.         0.         0.         0.         0.\n",
            " 0.         0.         0.         0.         0.         0.\n",
            " 0.         0.         0.         0.         0.43988067 0.5191423 ]\n",
            "Round 155 Train RMSE:  0.6833908231351222\n",
            "Round 155 Obj:  0.3005839561164747\n"
          ]
        },
        {
          "output_type": "stream",
          "name": "stderr",
          "text": [
            "100%|██████████| 1/1 [00:01<00:00,  1.89s/it]\n"
          ]
        },
        {
          "output_type": "stream",
          "name": "stdout",
          "text": [
            "0.0028363161254674196\n",
            "[0.         0.         0.         0.         0.         0.\n",
            " 0.         0.         0.         0.         0.         0.\n",
            " 0.         0.         0.         0.         0.         0.\n",
            " 0.         0.         0.         0.         0.         0.\n",
            " 0.         0.         0.         0.         0.44000155 0.5193933 ]\n",
            "Round 156 Train RMSE:  0.6833928425100503\n",
            "Round 156 Obj:  0.3005835418361748\n"
          ]
        },
        {
          "output_type": "stream",
          "name": "stderr",
          "text": [
            "100%|██████████| 1/1 [00:02<00:00,  2.30s/it]\n"
          ]
        },
        {
          "output_type": "stream",
          "name": "stdout",
          "text": [
            "0.0027856335509568453\n",
            "[0.         0.         0.         0.         0.         0.\n",
            " 0.         0.         0.         0.         0.         0.\n",
            " 0.         0.         0.         0.         0.         0.\n",
            " 0.         0.         0.         0.         0.         0.\n",
            " 0.         0.         0.         0.         0.4401197  0.51964015]\n",
            "Round 157 Train RMSE:  0.6833948767648416\n",
            "Round 157 Obj:  0.300583162555909\n"
          ]
        },
        {
          "output_type": "stream",
          "name": "stderr",
          "text": [
            "100%|██████████| 1/1 [00:01<00:00,  1.77s/it]\n"
          ]
        },
        {
          "output_type": "stream",
          "name": "stdout",
          "text": [
            "0.002739632036536932\n",
            "[0.         0.         0.         0.         0.         0.\n",
            " 0.         0.         0.         0.         0.         0.\n",
            " 0.         0.         0.         0.         0.         0.\n",
            " 0.         0.         0.         0.         0.         0.\n",
            " 0.         0.         0.         0.         0.4402354  0.51988316]\n",
            "Round 158 Train RMSE:  0.6833968872800221\n",
            "Round 158 Obj:  0.3005827867001518\n"
          ]
        },
        {
          "output_type": "stream",
          "name": "stderr",
          "text": [
            "100%|██████████| 1/1 [00:01<00:00,  1.63s/it]\n"
          ]
        },
        {
          "output_type": "stream",
          "name": "stdout",
          "text": [
            "0.0026945513673126698\n",
            "[0.         0.         0.         0.         0.         0.\n",
            " 0.         0.         0.         0.         0.         0.\n",
            " 0.         0.         0.         0.         0.         0.\n",
            " 0.         0.         0.         0.         0.         0.\n",
            " 0.         0.         0.         0.         0.44034892 0.5201223 ]\n",
            "Round 159 Train RMSE:  0.6833988715974522\n",
            "Round 159 Obj:  0.30058242674221264\n"
          ]
        },
        {
          "output_type": "stream",
          "name": "stderr",
          "text": [
            "100%|██████████| 1/1 [00:01<00:00,  1.55s/it]\n"
          ]
        },
        {
          "output_type": "stream",
          "name": "stdout",
          "text": [
            "0.002648693334776908\n",
            "[0.         0.         0.         0.         0.         0.\n",
            " 0.         0.         0.         0.         0.         0.\n",
            " 0.         0.         0.         0.         0.         0.\n",
            " 0.         0.         0.         0.         0.         0.\n",
            " 0.         0.         0.         0.         0.44045994 0.5203576 ]\n",
            "Round 160 Train RMSE:  0.6834008325430742\n",
            "Round 160 Obj:  0.30058207869026754\n"
          ]
        },
        {
          "output_type": "stream",
          "name": "stderr",
          "text": [
            "100%|██████████| 1/1 [00:01<00:00,  1.49s/it]\n"
          ]
        },
        {
          "output_type": "stream",
          "name": "stdout",
          "text": [
            "0.0026016615447588265\n",
            "[0.         0.         0.         0.         0.         0.\n",
            " 0.         0.         0.         0.         0.         0.\n",
            " 0.         0.         0.         0.         0.         0.\n",
            " 0.         0.         0.         0.         0.         0.\n",
            " 0.         0.         0.         0.         0.44056848 0.52058905]\n",
            "Round 161 Train RMSE:  0.6834027969611356\n",
            "Round 161 Obj:  0.3005817525626961\n"
          ]
        },
        {
          "output_type": "stream",
          "name": "stderr",
          "text": [
            "100%|██████████| 1/1 [00:01<00:00,  1.59s/it]\n"
          ]
        },
        {
          "output_type": "stream",
          "name": "stdout",
          "text": [
            "0.0025580660440027714\n",
            "[0.         0.         0.         0.         0.         0.\n",
            " 0.         0.         0.         0.         0.         0.\n",
            " 0.         0.         0.         0.         0.         0.\n",
            " 0.         0.         0.         0.         0.         0.\n",
            " 0.         0.         0.         0.         0.44067475 0.5208168 ]\n",
            "Round 162 Train RMSE:  0.6834047088003031\n",
            "Round 162 Obj:  0.3005814188613834\n"
          ]
        },
        {
          "output_type": "stream",
          "name": "stderr",
          "text": [
            "100%|██████████| 1/1 [00:01<00:00,  1.91s/it]\n"
          ]
        },
        {
          "output_type": "stream",
          "name": "stdout",
          "text": [
            "0.0025140107027255\n",
            "[0.        0.        0.        0.        0.        0.        0.\n",
            " 0.        0.        0.        0.        0.        0.        0.\n",
            " 0.        0.        0.        0.        0.        0.        0.\n",
            " 0.        0.        0.        0.        0.        0.        0.\n",
            " 0.4407786 0.5210409]\n",
            "Round 163 Train RMSE:  0.6834066083600976\n",
            "Round 163 Obj:  0.300581106974047\n"
          ]
        },
        {
          "output_type": "stream",
          "name": "stderr",
          "text": [
            "100%|██████████| 1/1 [00:02<00:00,  2.24s/it]\n"
          ]
        },
        {
          "output_type": "stream",
          "name": "stdout",
          "text": [
            "0.0024722295347601175\n",
            "[0.         0.         0.         0.         0.         0.\n",
            " 0.         0.         0.         0.         0.         0.\n",
            " 0.         0.         0.         0.         0.         0.\n",
            " 0.         0.         0.         0.         0.         0.\n",
            " 0.         0.         0.         0.         0.44088042 0.52126145]\n",
            "Round 164 Train RMSE:  0.6834084837143245\n",
            "Round 164 Obj:  0.3005808023498362\n"
          ]
        },
        {
          "output_type": "stream",
          "name": "stderr",
          "text": [
            "100%|██████████| 1/1 [00:01<00:00,  1.89s/it]\n"
          ]
        },
        {
          "output_type": "stream",
          "name": "stdout",
          "text": [
            "0.0024300931545440108\n",
            "[0.        0.        0.        0.        0.        0.        0.\n",
            " 0.        0.        0.        0.        0.        0.        0.\n",
            " 0.        0.        0.        0.        0.        0.        0.\n",
            " 0.        0.        0.        0.        0.        0.        0.\n",
            " 0.4409801 0.5214784]\n",
            "Round 165 Train RMSE:  0.6834103406371667\n",
            "Round 165 Obj:  0.30058051638970046\n"
          ]
        },
        {
          "output_type": "stream",
          "name": "stderr",
          "text": [
            "100%|██████████| 1/1 [00:01<00:00,  1.57s/it]\n"
          ]
        },
        {
          "output_type": "stream",
          "name": "stdout",
          "text": [
            "0.002389340224908665\n",
            "[0.        0.        0.        0.        0.        0.        0.\n",
            " 0.        0.        0.        0.        0.        0.        0.\n",
            " 0.        0.        0.        0.        0.        0.        0.\n",
            " 0.        0.        0.        0.        0.        0.        0.\n",
            " 0.4410776 0.521692 ]\n",
            "Round 166 Train RMSE:  0.6834121469617042\n",
            "Round 166 Obj:  0.3005802201146202\n"
          ]
        },
        {
          "output_type": "stream",
          "name": "stderr",
          "text": [
            "100%|██████████| 1/1 [00:01<00:00,  1.48s/it]\n"
          ]
        },
        {
          "output_type": "stream",
          "name": "stdout",
          "text": [
            "0.0023481946846004575\n",
            "[0.        0.        0.        0.        0.        0.        0.\n",
            " 0.        0.        0.        0.        0.        0.        0.\n",
            " 0.        0.        0.        0.        0.        0.        0.\n",
            " 0.        0.        0.        0.        0.        0.        0.\n",
            " 0.4411731 0.521902 ]\n",
            "Round 167 Train RMSE:  0.6834139771189147\n",
            "Round 167 Obj:  0.300579952499802\n"
          ]
        },
        {
          "output_type": "stream",
          "name": "stderr",
          "text": [
            "100%|██████████| 1/1 [00:01<00:00,  1.71s/it]\n"
          ]
        },
        {
          "output_type": "stream",
          "name": "stdout",
          "text": [
            "0.002309135888935998\n",
            "[0.         0.         0.         0.         0.         0.\n",
            " 0.         0.         0.         0.         0.         0.\n",
            " 0.         0.         0.         0.         0.         0.\n",
            " 0.         0.         0.         0.         0.         0.\n",
            " 0.         0.         0.         0.         0.4412664  0.52210885]\n",
            "Round 168 Train RMSE:  0.6834157687935327\n",
            "Round 168 Obj:  0.30057969138970647\n"
          ]
        },
        {
          "output_type": "stream",
          "name": "stderr",
          "text": [
            "100%|██████████| 1/1 [00:01<00:00,  1.83s/it]\n"
          ]
        },
        {
          "output_type": "stream",
          "name": "stdout",
          "text": [
            "0.0022712229110766202\n",
            "[0.        0.        0.        0.        0.        0.        0.\n",
            " 0.        0.        0.        0.        0.        0.        0.\n",
            " 0.        0.        0.        0.        0.        0.        0.\n",
            " 0.        0.        0.        0.        0.        0.        0.\n",
            " 0.4413579 0.5223124]\n",
            "Round 169 Train RMSE:  0.6834175441695405\n",
            "Round 169 Obj:  0.30057943055350494\n"
          ]
        },
        {
          "output_type": "stream",
          "name": "stderr",
          "text": [
            "100%|██████████| 1/1 [00:02<00:00,  2.14s/it]\n"
          ]
        },
        {
          "output_type": "stream",
          "name": "stdout",
          "text": [
            "0.0022336312395054847\n",
            "[0.         0.         0.         0.         0.         0.\n",
            " 0.         0.         0.         0.         0.         0.\n",
            " 0.         0.         0.         0.         0.         0.\n",
            " 0.         0.         0.         0.         0.         0.\n",
            " 0.         0.         0.         0.         0.44144756 0.5225128 ]\n",
            "Round 170 Train RMSE:  0.6834192736362246\n",
            "Round 170 Obj:  0.3005791778098048\n"
          ]
        },
        {
          "output_type": "stream",
          "name": "stderr",
          "text": [
            "100%|██████████| 1/1 [00:02<00:00,  2.27s/it]\n"
          ]
        },
        {
          "output_type": "stream",
          "name": "stdout",
          "text": [
            "0.0021954609837848693\n",
            "[0.         0.         0.         0.         0.         0.\n",
            " 0.         0.         0.         0.         0.         0.\n",
            " 0.         0.         0.         0.         0.         0.\n",
            " 0.         0.         0.         0.         0.         0.\n",
            " 0.         0.         0.         0.         0.44153532 0.5227099 ]\n",
            "Round 171 Train RMSE:  0.6834210042803783\n",
            "Round 171 Obj:  0.3005789427432689\n"
          ]
        },
        {
          "output_type": "stream",
          "name": "stderr",
          "text": [
            "100%|██████████| 1/1 [00:01<00:00,  1.67s/it]\n"
          ]
        },
        {
          "output_type": "stream",
          "name": "stdout",
          "text": [
            "0.0021583487978205085\n",
            "[0.        0.        0.        0.        0.        0.        0.\n",
            " 0.        0.        0.        0.        0.        0.        0.\n",
            " 0.        0.        0.        0.        0.        0.        0.\n",
            " 0.        0.        0.        0.        0.        0.        0.\n",
            " 0.441621  0.5229039]\n",
            "Round 172 Train RMSE:  0.6834227214115947\n",
            "Round 172 Obj:  0.3005787203953172\n"
          ]
        },
        {
          "output_type": "stream",
          "name": "stderr",
          "text": [
            "100%|██████████| 1/1 [00:01<00:00,  1.58s/it]\n"
          ]
        },
        {
          "output_type": "stream",
          "name": "stdout",
          "text": [
            "0.0021238578483462334\n",
            "[0.         0.         0.         0.         0.         0.\n",
            " 0.         0.         0.         0.         0.         0.\n",
            " 0.         0.         0.         0.         0.         0.\n",
            " 0.         0.         0.         0.         0.         0.\n",
            " 0.         0.         0.         0.         0.44170517 0.52309495]\n",
            "Round 173 Train RMSE:  0.6834244152163661\n",
            "Round 173 Obj:  0.30057849537236647\n"
          ]
        },
        {
          "output_type": "stream",
          "name": "stderr",
          "text": [
            "100%|██████████| 1/1 [00:01<00:00,  1.60s/it]\n"
          ]
        },
        {
          "output_type": "stream",
          "name": "stdout",
          "text": [
            "0.002087453758576885\n",
            "[0.         0.         0.         0.         0.         0.\n",
            " 0.         0.         0.         0.         0.         0.\n",
            " 0.         0.         0.         0.         0.         0.\n",
            " 0.         0.         0.         0.         0.         0.\n",
            " 0.         0.         0.         0.         0.44178754 0.5232828 ]\n",
            "Round 174 Train RMSE:  0.6834260471677686\n",
            "Round 174 Obj:  0.300578272884018\n"
          ]
        },
        {
          "output_type": "stream",
          "name": "stderr",
          "text": [
            "100%|██████████| 1/1 [00:01<00:00,  1.67s/it]\n"
          ]
        },
        {
          "output_type": "stream",
          "name": "stdout",
          "text": [
            "0.0020551813940983266\n",
            "[0.         0.         0.         0.         0.         0.\n",
            " 0.         0.         0.         0.         0.         0.\n",
            " 0.         0.         0.         0.         0.         0.\n",
            " 0.         0.         0.         0.         0.         0.\n",
            " 0.         0.         0.         0.         0.44186828 0.523468  ]\n",
            "Round 175 Train RMSE:  0.6834276854483534\n",
            "Round 175 Obj:  0.3005780584455186\n"
          ]
        },
        {
          "output_type": "stream",
          "name": "stderr",
          "text": [
            "100%|██████████| 1/1 [00:01<00:00,  1.89s/it]\n"
          ]
        },
        {
          "output_type": "stream",
          "name": "stdout",
          "text": [
            "0.00201972623472102\n",
            "[0.         0.         0.         0.         0.         0.\n",
            " 0.         0.         0.         0.         0.         0.\n",
            " 0.         0.         0.         0.         0.         0.\n",
            " 0.         0.         0.         0.         0.         0.\n",
            " 0.         0.         0.         0.         0.44194725 0.52365017]\n",
            "Round 176 Train RMSE:  0.6834293251095149\n",
            "Round 176 Obj:  0.3005778643666561\n"
          ]
        },
        {
          "output_type": "stream",
          "name": "stderr",
          "text": [
            "100%|██████████| 1/1 [00:02<00:00,  2.26s/it]\n"
          ]
        },
        {
          "output_type": "stream",
          "name": "stdout",
          "text": [
            "0.0019856219296343625\n",
            "[0.         0.         0.         0.         0.         0.\n",
            " 0.         0.         0.         0.         0.         0.\n",
            " 0.         0.         0.         0.         0.         0.\n",
            " 0.         0.         0.         0.         0.         0.\n",
            " 0.         0.         0.         0.         0.44202453 0.5238294 ]\n",
            "Round 177 Train RMSE:  0.6834309096626502\n",
            "Round 177 Obj:  0.30057766484467463\n"
          ]
        },
        {
          "output_type": "stream",
          "name": "stderr",
          "text": [
            "100%|██████████| 1/1 [00:01<00:00,  1.81s/it]\n"
          ]
        },
        {
          "output_type": "stream",
          "name": "stdout",
          "text": [
            "0.0019527108815964311\n",
            "[0.         0.         0.         0.         0.         0.\n",
            " 0.         0.         0.         0.         0.         0.\n",
            " 0.         0.         0.         0.         0.         0.\n",
            " 0.         0.         0.         0.         0.         0.\n",
            " 0.         0.         0.         0.         0.4421001  0.52400583]\n",
            "Round 178 Train RMSE:  0.6834324907843354\n",
            "Round 178 Obj:  0.30057747741259266\n"
          ]
        },
        {
          "output_type": "stream",
          "name": "stderr",
          "text": [
            "100%|██████████| 1/1 [00:01<00:00,  1.55s/it]\n"
          ]
        },
        {
          "output_type": "stream",
          "name": "stdout",
          "text": [
            "0.0019208654703106731\n",
            "[0.         0.         0.         0.         0.         0.\n",
            " 0.         0.         0.         0.         0.         0.\n",
            " 0.         0.         0.         0.         0.         0.\n",
            " 0.         0.         0.         0.         0.         0.\n",
            " 0.         0.         0.         0.         0.44217414 0.5241795 ]\n",
            "Round 179 Train RMSE:  0.6834340282359026\n",
            "Round 179 Obj:  0.30057728708633685\n"
          ]
        },
        {
          "output_type": "stream",
          "name": "stderr",
          "text": [
            "100%|██████████| 1/1 [00:01<00:00,  1.47s/it]\n"
          ]
        },
        {
          "output_type": "stream",
          "name": "stdout",
          "text": [
            "0.0018898630514740944\n",
            "[0.         0.         0.         0.         0.         0.\n",
            " 0.         0.         0.         0.         0.         0.\n",
            " 0.         0.         0.         0.         0.         0.\n",
            " 0.         0.         0.         0.         0.         0.\n",
            " 0.         0.         0.         0.         0.44224647 0.52435064]\n",
            "Round 180 Train RMSE:  0.6834355808411474\n",
            "Round 180 Obj:  0.30057711187131336\n"
          ]
        },
        {
          "output_type": "stream",
          "name": "stderr",
          "text": [
            "100%|██████████| 1/1 [00:01<00:00,  1.49s/it]\n"
          ]
        },
        {
          "output_type": "stream",
          "name": "stdout",
          "text": [
            "0.001858804898802191\n",
            "[0.         0.         0.         0.         0.         0.\n",
            " 0.         0.         0.         0.         0.         0.\n",
            " 0.         0.         0.         0.         0.         0.\n",
            " 0.         0.         0.         0.         0.         0.\n",
            " 0.         0.         0.         0.         0.44231737 0.524519  ]\n",
            "Round 181 Train RMSE:  0.6834370899499946\n",
            "Round 181 Obj:  0.3005769384707077\n"
          ]
        },
        {
          "output_type": "stream",
          "name": "stderr",
          "text": [
            "100%|██████████| 1/1 [00:01<00:00,  1.72s/it]\n"
          ]
        },
        {
          "output_type": "stream",
          "name": "stdout",
          "text": [
            "0.0018277314666192979\n",
            "[0.         0.         0.         0.         0.         0.\n",
            " 0.         0.         0.         0.         0.         0.\n",
            " 0.         0.         0.         0.         0.         0.\n",
            " 0.         0.         0.         0.         0.         0.\n",
            " 0.         0.         0.         0.         0.44238696 0.5246847 ]\n",
            "Round 182 Train RMSE:  0.6834386105887806\n",
            "Round 182 Obj:  0.30057678486493566\n"
          ]
        },
        {
          "output_type": "stream",
          "name": "stderr",
          "text": [
            "100%|██████████| 1/1 [00:01<00:00,  1.51s/it]\n"
          ]
        },
        {
          "output_type": "stream",
          "name": "stdout",
          "text": [
            "0.0017968082102015615\n",
            "[0.         0.         0.         0.         0.         0.\n",
            " 0.         0.         0.         0.         0.         0.\n",
            " 0.         0.         0.         0.         0.         0.\n",
            " 0.         0.         0.         0.         0.         0.\n",
            " 0.         0.         0.         0.         0.44245481 0.5248478 ]\n",
            "Round 183 Train RMSE:  0.6834400811849767\n",
            "Round 183 Obj:  0.300576614996798\n"
          ]
        },
        {
          "output_type": "stream",
          "name": "stderr",
          "text": [
            "100%|██████████| 1/1 [00:02<00:00,  2.22s/it]\n"
          ]
        },
        {
          "output_type": "stream",
          "name": "stdout",
          "text": [
            "0.0017681259487289935\n",
            "[0.         0.         0.         0.         0.         0.\n",
            " 0.         0.         0.         0.         0.         0.\n",
            " 0.         0.         0.         0.         0.         0.\n",
            " 0.         0.         0.         0.         0.         0.\n",
            " 0.         0.         0.         0.         0.44252136 0.5250084 ]\n",
            "Round 184 Train RMSE:  0.6834415523704397\n",
            "Round 184 Obj:  0.30057646540585087\n"
          ]
        },
        {
          "output_type": "stream",
          "name": "stderr",
          "text": [
            "100%|██████████| 1/1 [00:01<00:00,  1.62s/it]\n"
          ]
        },
        {
          "output_type": "stream",
          "name": "stdout",
          "text": [
            "0.0017406912229489535\n",
            "[0.         0.         0.         0.         0.         0.\n",
            " 0.         0.         0.         0.         0.         0.\n",
            " 0.         0.         0.         0.         0.         0.\n",
            " 0.         0.         0.         0.         0.         0.\n",
            " 0.         0.         0.         0.         0.44258663 0.5251666 ]\n",
            "Round 185 Train RMSE:  0.6834429947999097\n",
            "Round 185 Obj:  0.3005763191736899\n"
          ]
        },
        {
          "output_type": "stream",
          "name": "stderr",
          "text": [
            "100%|██████████| 1/1 [00:01<00:00,  1.62s/it]\n"
          ]
        },
        {
          "output_type": "stream",
          "name": "stdout",
          "text": [
            "0.001710014184936881\n",
            "[0.         0.         0.         0.         0.         0.\n",
            " 0.         0.         0.         0.         0.         0.\n",
            " 0.         0.         0.         0.         0.         0.\n",
            " 0.         0.         0.         0.         0.         0.\n",
            " 0.         0.         0.         0.         0.44265032 0.5253222 ]\n",
            "Round 186 Train RMSE:  0.6834444002192468\n",
            "Round 186 Obj:  0.300576163490378\n"
          ]
        },
        {
          "output_type": "stream",
          "name": "stderr",
          "text": [
            "100%|██████████| 1/1 [00:01<00:00,  1.80s/it]\n"
          ]
        },
        {
          "output_type": "stream",
          "name": "stdout",
          "text": [
            "0.0016842642799019814\n",
            "[0.         0.         0.         0.         0.         0.\n",
            " 0.         0.         0.         0.         0.         0.\n",
            " 0.         0.         0.         0.         0.         0.\n",
            " 0.         0.         0.         0.         0.         0.\n",
            " 0.         0.         0.         0.         0.44271266 0.52547556]\n",
            "Round 187 Train RMSE:  0.6834458090363029\n",
            "Round 187 Obj:  0.30057603025382007\n"
          ]
        },
        {
          "output_type": "stream",
          "name": "stderr",
          "text": [
            "100%|██████████| 1/1 [00:01<00:00,  1.77s/it]\n"
          ]
        },
        {
          "output_type": "stream",
          "name": "stdout",
          "text": [
            "0.0016573056927882135\n",
            "[0.        0.        0.        0.        0.        0.        0.\n",
            " 0.        0.        0.        0.        0.        0.        0.\n",
            " 0.        0.        0.        0.        0.        0.        0.\n",
            " 0.        0.        0.        0.        0.        0.        0.\n",
            " 0.4427739 0.5256266]\n",
            "Round 188 Train RMSE:  0.6834471895966889\n",
            "Round 188 Obj:  0.30057588678413866\n"
          ]
        },
        {
          "output_type": "stream",
          "name": "stderr",
          "text": [
            "100%|██████████| 1/1 [00:01<00:00,  1.52s/it]\n"
          ]
        },
        {
          "output_type": "stream",
          "name": "stdout",
          "text": [
            "0.001629533217055723\n",
            "[0.         0.         0.         0.         0.         0.\n",
            " 0.         0.         0.         0.         0.         0.\n",
            " 0.         0.         0.         0.         0.         0.\n",
            " 0.         0.         0.         0.         0.         0.\n",
            " 0.         0.         0.         0.         0.44283405 0.52577513]\n",
            "Round 189 Train RMSE:  0.683448568973276\n",
            "Round 189 Obj:  0.30057575958281774\n"
          ]
        },
        {
          "output_type": "stream",
          "name": "stderr",
          "text": [
            "100%|██████████| 1/1 [00:01<00:00,  1.52s/it]\n"
          ]
        },
        {
          "output_type": "stream",
          "name": "stdout",
          "text": [
            "0.001603829296072945\n",
            "[0.         0.         0.         0.         0.         0.\n",
            " 0.         0.         0.         0.         0.         0.\n",
            " 0.         0.         0.         0.         0.         0.\n",
            " 0.         0.         0.         0.         0.         0.\n",
            " 0.         0.         0.         0.         0.44289264 0.5259215 ]\n",
            "Round 190 Train RMSE:  0.6834499213892861\n",
            "Round 190 Obj:  0.300575636643426\n"
          ]
        },
        {
          "output_type": "stream",
          "name": "stderr",
          "text": [
            "100%|██████████| 1/1 [00:02<00:00,  2.26s/it]\n"
          ]
        },
        {
          "output_type": "stream",
          "name": "stdout",
          "text": [
            "0.001576589565956965\n",
            "[0.         0.         0.         0.         0.         0.\n",
            " 0.         0.         0.         0.         0.         0.\n",
            " 0.         0.         0.         0.         0.         0.\n",
            " 0.         0.         0.         0.         0.         0.\n",
            " 0.         0.         0.         0.         0.44295007 0.5260655 ]\n",
            "Round 191 Train RMSE:  0.6834512291347571\n",
            "Round 191 Obj:  0.3005755032431699\n"
          ]
        },
        {
          "output_type": "stream",
          "name": "stderr",
          "text": [
            "100%|██████████| 1/1 [00:01<00:00,  1.91s/it]\n"
          ]
        },
        {
          "output_type": "stream",
          "name": "stdout",
          "text": [
            "0.0015510819503106177\n",
            "[0.         0.         0.         0.         0.         0.\n",
            " 0.         0.         0.         0.         0.         0.\n",
            " 0.         0.         0.         0.         0.         0.\n",
            " 0.         0.         0.         0.         0.         0.\n",
            " 0.         0.         0.         0.         0.44300628 0.5262073 ]\n",
            "Round 192 Train RMSE:  0.6834525502488658\n",
            "Round 192 Obj:  0.3005753919098444\n"
          ]
        },
        {
          "output_type": "stream",
          "name": "stderr",
          "text": [
            "100%|██████████| 1/1 [00:01<00:00,  1.58s/it]\n"
          ]
        },
        {
          "output_type": "stream",
          "name": "stdout",
          "text": [
            "0.0015264376997947693\n",
            "[0.         0.         0.         0.         0.         0.\n",
            " 0.         0.         0.         0.         0.         0.\n",
            " 0.         0.         0.         0.         0.         0.\n",
            " 0.         0.         0.         0.         0.         0.\n",
            " 0.         0.         0.         0.         0.4430612  0.52634704]\n",
            "Round 193 Train RMSE:  0.6834538386086838\n",
            "Round 193 Obj:  0.30057526438630405\n"
          ]
        },
        {
          "output_type": "stream",
          "name": "stderr",
          "text": [
            "100%|██████████| 1/1 [00:01<00:00,  1.74s/it]\n"
          ]
        },
        {
          "output_type": "stream",
          "name": "stdout",
          "text": [
            "0.0015007727779448032\n",
            "[0.         0.         0.         0.         0.         0.\n",
            " 0.         0.         0.         0.         0.         0.\n",
            " 0.         0.         0.         0.         0.         0.\n",
            " 0.         0.         0.         0.         0.         0.\n",
            " 0.         0.         0.         0.         0.44311506 0.52648443]\n",
            "Round 194 Train RMSE:  0.683455142878218\n",
            "Round 194 Obj:  0.3005751653110369\n"
          ]
        },
        {
          "output_type": "stream",
          "name": "stderr",
          "text": [
            "100%|██████████| 1/1 [00:01<00:00,  1.70s/it]\n"
          ]
        },
        {
          "output_type": "stream",
          "name": "stdout",
          "text": [
            "0.0014773214934393764\n",
            "[0.         0.         0.         0.         0.         0.\n",
            " 0.         0.         0.         0.         0.         0.\n",
            " 0.         0.         0.         0.         0.         0.\n",
            " 0.         0.         0.         0.         0.         0.\n",
            " 0.         0.         0.         0.         0.44316798 0.52661973]\n",
            "Round 195 Train RMSE:  0.683456379882356\n",
            "Round 195 Obj:  0.30057504578899824\n"
          ]
        },
        {
          "output_type": "stream",
          "name": "stderr",
          "text": [
            "100%|██████████| 1/1 [00:01<00:00,  1.89s/it]\n"
          ]
        },
        {
          "output_type": "stream",
          "name": "stdout",
          "text": [
            "0.0014534809452015907\n",
            "[0.         0.         0.         0.         0.         0.\n",
            " 0.         0.         0.         0.         0.         0.\n",
            " 0.         0.         0.         0.         0.         0.\n",
            " 0.         0.         0.         0.         0.         0.\n",
            " 0.         0.         0.         0.         0.44321957 0.526753  ]\n",
            "Round 196 Train RMSE:  0.6834576480250758\n",
            "Round 196 Obj:  0.3005749537797299\n"
          ]
        },
        {
          "output_type": "stream",
          "name": "stderr",
          "text": [
            "100%|██████████| 1/1 [00:01<00:00,  1.99s/it]\n"
          ]
        },
        {
          "output_type": "stream",
          "name": "stdout",
          "text": [
            "0.0014296307926997542\n",
            "[0.         0.         0.         0.         0.         0.\n",
            " 0.         0.         0.         0.         0.         0.\n",
            " 0.         0.         0.         0.         0.         0.\n",
            " 0.         0.         0.         0.         0.         0.\n",
            " 0.         0.         0.         0.         0.44327003 0.52688426]\n",
            "Round 197 Train RMSE:  0.6834588629679805\n",
            "Round 197 Obj:  0.3005748462150995\n"
          ]
        },
        {
          "output_type": "stream",
          "name": "stderr",
          "text": [
            "100%|██████████| 1/1 [00:01<00:00,  1.99s/it]\n"
          ]
        },
        {
          "output_type": "stream",
          "name": "stdout",
          "text": [
            "0.0014065043069422245\n",
            "[0.        0.        0.        0.        0.        0.        0.\n",
            " 0.        0.        0.        0.        0.        0.        0.\n",
            " 0.        0.        0.        0.        0.        0.        0.\n",
            " 0.        0.        0.        0.        0.        0.        0.\n",
            " 0.4433194 0.5270135]\n",
            "Round 198 Train RMSE:  0.6834600691419308\n",
            "Round 198 Obj:  0.3005747527377853\n"
          ]
        },
        {
          "output_type": "stream",
          "name": "stderr",
          "text": [
            "100%|██████████| 1/1 [00:01<00:00,  1.67s/it]\n"
          ]
        },
        {
          "output_type": "stream",
          "name": "stdout",
          "text": [
            "0.0013848693924956024\n",
            "[0.         0.         0.         0.         0.         0.\n",
            " 0.         0.         0.         0.         0.         0.\n",
            " 0.         0.         0.         0.         0.         0.\n",
            " 0.         0.         0.         0.         0.         0.\n",
            " 0.         0.         0.         0.         0.44336787 0.52714074]\n",
            "Round 199 Train RMSE:  0.6834612653041815\n",
            "Round 199 Obj:  0.30057465269635225\n"
          ]
        },
        {
          "output_type": "stream",
          "name": "stderr",
          "text": [
            "100%|██████████| 1/1 [00:01<00:00,  1.48s/it]\n"
          ]
        },
        {
          "output_type": "stream",
          "name": "stdout",
          "text": [
            "0.0013643354759551585\n",
            "[0.         0.         0.         0.         0.         0.\n",
            " 0.         0.         0.         0.         0.         0.\n",
            " 0.         0.         0.         0.         0.         0.\n",
            " 0.         0.         0.         0.         0.         0.\n",
            " 0.         0.         0.         0.         0.44341546 0.5272662 ]\n",
            "Round 200 Train RMSE:  0.6834624369336806\n",
            "Round 200 Obj:  0.3005745559671223\n"
          ]
        },
        {
          "output_type": "stream",
          "name": "stderr",
          "text": [
            "100%|██████████| 1/1 [00:01<00:00,  1.48s/it]\n"
          ]
        },
        {
          "output_type": "stream",
          "name": "stdout",
          "text": [
            "0.0013415557623375207\n",
            "[0.         0.         0.         0.         0.         0.\n",
            " 0.         0.         0.         0.         0.         0.\n",
            " 0.         0.         0.         0.         0.         0.\n",
            " 0.         0.         0.         0.         0.         0.\n",
            " 0.         0.         0.         0.         0.44346198 0.5273897 ]\n",
            "Round 201 Train RMSE:  0.6834635818684154\n",
            "Round 201 Obj:  0.30057446332265575\n"
          ]
        },
        {
          "output_type": "stream",
          "name": "stderr",
          "text": [
            "100%|██████████| 1/1 [00:01<00:00,  1.71s/it]\n"
          ]
        },
        {
          "output_type": "stream",
          "name": "stdout",
          "text": [
            "0.0013184685667511076\n",
            "[0.        0.        0.        0.        0.        0.        0.\n",
            " 0.        0.        0.        0.        0.        0.        0.\n",
            " 0.        0.        0.        0.        0.        0.        0.\n",
            " 0.        0.        0.        0.        0.        0.        0.\n",
            " 0.4435074 0.5275112]\n",
            "Round 202 Train RMSE:  0.6834647252196819\n",
            "Round 202 Obj:  0.30057437251459646\n"
          ]
        },
        {
          "output_type": "stream",
          "name": "stderr",
          "text": [
            "100%|██████████| 1/1 [00:01<00:00,  1.50s/it]\n"
          ]
        },
        {
          "output_type": "stream",
          "name": "stdout",
          "text": [
            "0.0012971003889106214\n",
            "[0.         0.         0.         0.         0.         0.\n",
            " 0.         0.         0.         0.         0.         0.\n",
            " 0.         0.         0.         0.         0.         0.\n",
            " 0.         0.         0.         0.         0.         0.\n",
            " 0.         0.         0.         0.         0.44355184 0.52763075]\n",
            "Round 203 Train RMSE:  0.6834658748526614\n",
            "Round 203 Obj:  0.3005743028972167\n"
          ]
        },
        {
          "output_type": "stream",
          "name": "stderr",
          "text": [
            "100%|██████████| 1/1 [00:01<00:00,  2.00s/it]\n"
          ]
        },
        {
          "output_type": "stream",
          "name": "stdout",
          "text": [
            "0.0012783253623638302\n",
            "[0.         0.         0.         0.         0.         0.\n",
            " 0.         0.         0.         0.         0.         0.\n",
            " 0.         0.         0.         0.         0.         0.\n",
            " 0.         0.         0.         0.         0.         0.\n",
            " 0.         0.         0.         0.         0.44359553 0.5277487 ]\n",
            "Round 204 Train RMSE:  0.6834669841432873\n",
            "Round 204 Obj:  0.30057421683697305\n"
          ]
        },
        {
          "output_type": "stream",
          "name": "stderr",
          "text": [
            "100%|██████████| 1/1 [00:02<00:00,  2.13s/it]\n"
          ]
        },
        {
          "output_type": "stream",
          "name": "stdout",
          "text": [
            "0.0012581193004734814\n",
            "[0.         0.         0.         0.         0.         0.\n",
            " 0.         0.         0.         0.         0.         0.\n",
            " 0.         0.         0.         0.         0.         0.\n",
            " 0.         0.         0.         0.         0.         0.\n",
            " 0.         0.         0.         0.         0.44363832 0.5278648 ]\n",
            "Round 205 Train RMSE:  0.6834680902876048\n",
            "Round 205 Obj:  0.3005741374065701\n"
          ]
        },
        {
          "output_type": "stream",
          "name": "stderr",
          "text": [
            "100%|██████████| 1/1 [00:01<00:00,  1.75s/it]\n"
          ]
        },
        {
          "output_type": "stream",
          "name": "stdout",
          "text": [
            "0.001237249671248719\n",
            "[0.         0.         0.         0.         0.         0.\n",
            " 0.         0.         0.         0.         0.         0.\n",
            " 0.         0.         0.         0.         0.         0.\n",
            " 0.         0.         0.         0.         0.         0.\n",
            " 0.         0.         0.         0.         0.44368005 0.52797914]\n",
            "Round 206 Train RMSE:  0.6834691662550005\n",
            "Round 206 Obj:  0.3005740588803417\n"
          ]
        },
        {
          "output_type": "stream",
          "name": "stderr",
          "text": [
            "100%|██████████| 1/1 [00:01<00:00,  1.64s/it]\n"
          ]
        },
        {
          "output_type": "stream",
          "name": "stdout",
          "text": [
            "0.0012172897550044581\n",
            "[0.         0.         0.         0.         0.         0.\n",
            " 0.         0.         0.         0.         0.         0.\n",
            " 0.         0.         0.         0.         0.         0.\n",
            " 0.         0.         0.         0.         0.         0.\n",
            " 0.         0.         0.         0.         0.443721   0.52809167]\n",
            "Round 207 Train RMSE:  0.6834702510006309\n",
            "Round 207 Obj:  0.30057399149362757\n"
          ]
        },
        {
          "output_type": "stream",
          "name": "stderr",
          "text": [
            "100%|██████████| 1/1 [00:01<00:00,  1.50s/it]\n"
          ]
        },
        {
          "output_type": "stream",
          "name": "stdout",
          "text": [
            "0.0011991008796030656\n",
            "[0.         0.         0.         0.         0.         0.\n",
            " 0.         0.         0.         0.         0.         0.\n",
            " 0.         0.         0.         0.         0.         0.\n",
            " 0.         0.         0.         0.         0.         0.\n",
            " 0.         0.         0.         0.         0.44376102 0.5282026 ]\n",
            "Round 208 Train RMSE:  0.683471303786237\n",
            "Round 208 Obj:  0.3005739253230779\n"
          ]
        },
        {
          "output_type": "stream",
          "name": "stderr",
          "text": [
            "100%|██████████| 1/1 [00:01<00:00,  1.78s/it]\n"
          ]
        },
        {
          "output_type": "stream",
          "name": "stdout",
          "text": [
            "0.0011797524348367006\n",
            "[0.         0.         0.         0.         0.         0.\n",
            " 0.         0.         0.         0.         0.         0.\n",
            " 0.         0.         0.         0.         0.         0.\n",
            " 0.         0.         0.         0.         0.         0.\n",
            " 0.         0.         0.         0.         0.44380015 0.52831185]\n",
            "Round 209 Train RMSE:  0.6834723093972203\n",
            "Round 209 Obj:  0.30057383683828476\n"
          ]
        },
        {
          "output_type": "stream",
          "name": "stderr",
          "text": [
            "100%|██████████| 1/1 [00:01<00:00,  1.62s/it]\n"
          ]
        },
        {
          "output_type": "stream",
          "name": "stdout",
          "text": [
            "0.0011595815885812044\n",
            "[0.         0.         0.         0.         0.         0.\n",
            " 0.         0.         0.         0.         0.         0.\n",
            " 0.         0.         0.         0.         0.         0.\n",
            " 0.         0.         0.         0.         0.         0.\n",
            " 0.         0.         0.         0.         0.44383848 0.5284193 ]\n",
            "Round 210 Train RMSE:  0.6834733523997353\n",
            "Round 210 Obj:  0.30057378073751395\n"
          ]
        },
        {
          "output_type": "stream",
          "name": "stderr",
          "text": [
            "100%|██████████| 1/1 [00:02<00:00,  2.16s/it]\n"
          ]
        },
        {
          "output_type": "stream",
          "name": "stdout",
          "text": [
            "0.0011447818542364985\n",
            "[0.         0.         0.         0.         0.         0.\n",
            " 0.         0.         0.         0.         0.         0.\n",
            " 0.         0.         0.         0.         0.         0.\n",
            " 0.         0.         0.         0.         0.         0.\n",
            " 0.         0.         0.         0.         0.44387627 0.5285254 ]\n",
            "Round 211 Train RMSE:  0.6834743635684392\n",
            "Round 211 Obj:  0.3005737146193275\n"
          ]
        },
        {
          "output_type": "stream",
          "name": "stderr",
          "text": [
            "100%|██████████| 1/1 [00:01<00:00,  1.85s/it]\n"
          ]
        },
        {
          "output_type": "stream",
          "name": "stdout",
          "text": [
            "0.0011246598296565935\n",
            "[0.         0.         0.         0.         0.         0.\n",
            " 0.         0.         0.         0.         0.         0.\n",
            " 0.         0.         0.         0.         0.         0.\n",
            " 0.         0.         0.         0.         0.         0.\n",
            " 0.         0.         0.         0.         0.44391316 0.5286297 ]\n",
            "Round 212 Train RMSE:  0.6834753640686644\n",
            "Round 212 Obj:  0.30057365585671203\n"
          ]
        },
        {
          "output_type": "stream",
          "name": "stderr",
          "text": [
            "100%|██████████| 1/1 [00:02<00:00,  2.16s/it]\n"
          ]
        },
        {
          "output_type": "stream",
          "name": "stdout",
          "text": [
            "0.001107498974306509\n",
            "[0.         0.         0.         0.         0.         0.\n",
            " 0.         0.         0.         0.         0.         0.\n",
            " 0.         0.         0.         0.         0.         0.\n",
            " 0.         0.         0.         0.         0.         0.\n",
            " 0.         0.         0.         0.         0.44394913 0.5287326 ]\n",
            "Round 213 Train RMSE:  0.6834763423177626\n",
            "Round 213 Obj:  0.3005735948423654\n"
          ]
        },
        {
          "output_type": "stream",
          "name": "stderr",
          "text": [
            "100%|██████████| 1/1 [00:01<00:00,  1.65s/it]\n"
          ]
        },
        {
          "output_type": "stream",
          "name": "stdout",
          "text": [
            "0.0010894390288740396\n",
            "[0.        0.        0.        0.        0.        0.        0.\n",
            " 0.        0.        0.        0.        0.        0.        0.\n",
            " 0.        0.        0.        0.        0.        0.        0.\n",
            " 0.        0.        0.        0.        0.        0.        0.\n",
            " 0.4439844 0.5288338]\n",
            "Round 214 Train RMSE:  0.6834773307444321\n",
            "Round 214 Obj:  0.3005735368975517\n"
          ]
        },
        {
          "output_type": "stream",
          "name": "stderr",
          "text": [
            "100%|██████████| 1/1 [00:01<00:00,  1.87s/it]\n"
          ]
        },
        {
          "output_type": "stream",
          "name": "stdout",
          "text": [
            "0.0010714380914578214\n",
            "[0.        0.        0.        0.        0.        0.        0.\n",
            " 0.        0.        0.        0.        0.        0.        0.\n",
            " 0.        0.        0.        0.        0.        0.        0.\n",
            " 0.        0.        0.        0.        0.        0.        0.\n",
            " 0.4440189 0.5289334]\n",
            "Round 215 Train RMSE:  0.6834782597348695\n",
            "Round 215 Obj:  0.30057346965300963\n"
          ]
        },
        {
          "output_type": "stream",
          "name": "stderr",
          "text": [
            "100%|██████████| 1/1 [00:01<00:00,  1.70s/it]\n"
          ]
        },
        {
          "output_type": "stream",
          "name": "stdout",
          "text": [
            "0.001056527835316956\n",
            "[0.         0.         0.         0.         0.         0.\n",
            " 0.         0.         0.         0.         0.         0.\n",
            " 0.         0.         0.         0.         0.         0.\n",
            " 0.         0.         0.         0.         0.         0.\n",
            " 0.         0.         0.         0.         0.44405282 0.5290317 ]\n",
            "Round 216 Train RMSE:  0.6834792138036774\n",
            "Round 216 Obj:  0.3005734230971431\n"
          ]
        },
        {
          "output_type": "stream",
          "name": "stderr",
          "text": [
            "100%|██████████| 1/1 [00:01<00:00,  1.83s/it]\n"
          ]
        },
        {
          "output_type": "stream",
          "name": "stdout",
          "text": [
            "0.0010397373262094334\n",
            "[0.         0.         0.         0.         0.         0.\n",
            " 0.         0.         0.         0.         0.         0.\n",
            " 0.         0.         0.         0.         0.         0.\n",
            " 0.         0.         0.         0.         0.         0.\n",
            " 0.         0.         0.         0.         0.44408607 0.52912843]\n",
            "Round 217 Train RMSE:  0.6834801329227141\n",
            "Round 217 Obj:  0.3005733686029159\n"
          ]
        },
        {
          "output_type": "stream",
          "name": "stderr",
          "text": [
            "100%|██████████| 1/1 [00:02<00:00,  2.15s/it]\n"
          ]
        },
        {
          "output_type": "stream",
          "name": "stdout",
          "text": [
            "0.0010228242899756879\n",
            "[0.         0.         0.         0.         0.         0.\n",
            " 0.         0.         0.         0.         0.         0.\n",
            " 0.         0.         0.         0.         0.         0.\n",
            " 0.         0.         0.         0.         0.         0.\n",
            " 0.         0.         0.         0.         0.44411856 0.5292237 ]\n",
            "Round 218 Train RMSE:  0.6834810579449794\n",
            "Round 218 Obj:  0.3005733174635515\n"
          ]
        },
        {
          "output_type": "stream",
          "name": "stderr",
          "text": [
            "100%|██████████| 1/1 [00:01<00:00,  1.71s/it]\n"
          ]
        },
        {
          "output_type": "stream",
          "name": "stdout",
          "text": [
            "0.001007503960863687\n",
            "[0.         0.         0.         0.         0.         0.\n",
            " 0.         0.         0.         0.         0.         0.\n",
            " 0.         0.         0.         0.         0.         0.\n",
            " 0.         0.         0.         0.         0.         0.\n",
            " 0.         0.         0.         0.         0.44415054 0.5293175 ]\n",
            "Round 219 Train RMSE:  0.6834819739558657\n",
            "Round 219 Obj:  0.30057326677689067\n"
          ]
        },
        {
          "output_type": "stream",
          "name": "stderr",
          "text": [
            "100%|██████████| 1/1 [00:01<00:00,  1.79s/it]"
          ]
        },
        {
          "output_type": "stream",
          "name": "stdout",
          "text": [
            "0.0009903889440465719\n",
            "Test RMSE:  0.6834819739558657\n"
          ]
        },
        {
          "output_type": "stream",
          "name": "stderr",
          "text": [
            "\n"
          ]
        }
      ]
    }
  ]
}